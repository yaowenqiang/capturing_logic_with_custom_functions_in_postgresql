{
    "metadata": {
        "kernelspec": {
            "name": "SQL",
            "display_name": "SQL",
            "language": "sql"
        },
        "language_info": {
            "name": "sql",
            "version": ""
        }
    },
    "nbformat_minor": 2,
    "nbformat": 4,
    "cells": [
        {
            "cell_type": "markdown",
            "source": [
                "# Built-in Functions\n",
                "\n",
                "| ANSI SQL Standard | POstgreSQL Extensions |\n",
                "--------- | -------\n",
                "sum  | trunc\n",
                "max | cbrt\n",
                "min | pi\n",
                "cast | random\n",
                "count | to_num\n",
                "floor | to_char\n",
                "ceiling | now\n",
                ""
            ],
            "metadata": {
                "azdata_cell_guid": "d987175e-0c04-43d2-9780-f58d8e270b11"
            },
            "attachments": {}
        },
        {
            "cell_type": "markdown",
            "source": [
                "## Business Use Cases\n",
                "\n",
                "+ Encaptsulate business logic\n",
                "+ Enforce semantic relationships\n",
                "+ Validate and transoform data\n",
                "+ control access to sensitive date\n",
                "+ Encourage code reuse\n",
                "+ Don't Repeat YOurself(DRY)\n",
                "\n",
                "\n",
                ""
            ],
            "metadata": {
                "azdata_cell_guid": "2877de00-15a9-4b87-86ed-eba0b0650a3a"
            },
            "attachments": {}
        },
        {
            "cell_type": "markdown",
            "source": [
                "+ Setting up a working environment\n",
                "+ Creating your first function\n",
                "+ Data types\n",
                "+ Polymorphic functions\n",
                "+ Function overloading\n",
                "+ Stored procedures\n",
                "+ Error handling"
            ],
            "metadata": {
                "azdata_cell_guid": "6d617ea4-c6a6-4367-8c39-fa6177c5ffd9"
            },
            "attachments": {}
        },
        {
            "cell_type": "code",
            "source": [
                "select CURRENT_TIMESTAMP"
            ],
            "metadata": {
                "azdata_cell_guid": "735238b3-d4d1-48c4-9e2f-089a6e36cb10",
                "language": "sql"
            },
            "outputs": [
                {
                    "output_type": "display_data",
                    "data": {
                        "text/html": "(1 row(s) affected)"
                    },
                    "metadata": {}
                },
                {
                    "output_type": "display_data",
                    "data": {
                        "text/html": "Total execution time: 00:00:00.002"
                    },
                    "metadata": {}
                },
                {
                    "output_type": "execute_result",
                    "execution_count": 1,
                    "data": {
                        "application/vnd.dataresource+json": {
                            "schema": {
                                "fields": [
                                    {
                                        "name": "current_timestamp"
                                    }
                                ]
                            },
                            "data": [
                                {
                                    "current_timestamp": "2024-09-07 23:42:02.844127+08"
                                }
                            ]
                        },
                        "text/html": "<table><tr><th>current_timestamp</th></tr><tr><td>2024-09-07 23:42:02.844127+08</td></tr></table>"
                    },
                    "metadata": {}
                }
            ],
            "execution_count": 1
        },
        {
            "cell_type": "code",
            "source": [
                "select * from customers limit 1"
            ],
            "metadata": {
                "language": "sql",
                "azdata_cell_guid": "e616edc7-3906-453d-b5ce-d603d0fc7606"
            },
            "outputs": [
                {
                    "output_type": "display_data",
                    "data": {
                        "text/html": "(1 row(s) affected)"
                    },
                    "metadata": {}
                },
                {
                    "output_type": "display_data",
                    "data": {
                        "text/html": "Total execution time: 00:00:00.002"
                    },
                    "metadata": {}
                },
                {
                    "output_type": "execute_result",
                    "execution_count": 2,
                    "data": {
                        "application/vnd.dataresource+json": {
                            "schema": {
                                "fields": [
                                    {
                                        "name": "customerid"
                                    },
                                    {
                                        "name": "firstname"
                                    },
                                    {
                                        "name": "lastname"
                                    },
                                    {
                                        "name": "address1"
                                    },
                                    {
                                        "name": "address2"
                                    },
                                    {
                                        "name": "city"
                                    },
                                    {
                                        "name": "state"
                                    },
                                    {
                                        "name": "zip"
                                    },
                                    {
                                        "name": "country"
                                    },
                                    {
                                        "name": "region"
                                    },
                                    {
                                        "name": "email"
                                    },
                                    {
                                        "name": "phone"
                                    },
                                    {
                                        "name": "creditcardtype"
                                    },
                                    {
                                        "name": "creditcard"
                                    },
                                    {
                                        "name": "creditcardexpiration"
                                    },
                                    {
                                        "name": "username"
                                    },
                                    {
                                        "name": "password"
                                    },
                                    {
                                        "name": "age"
                                    },
                                    {
                                        "name": "income"
                                    },
                                    {
                                        "name": "gender"
                                    }
                                ]
                            },
                            "data": [
                                {
                                    "customerid": "1",
                                    "firstname": "RNPOJG",
                                    "lastname": "FQIVBKWIZC",
                                    "address1": "1287944454 Dell Way",
                                    "address2": "",
                                    "city": "XCXNWIS",
                                    "state": "ND",
                                    "zip": "42572",
                                    "country": "US",
                                    "region": "1",
                                    "email": "FQIVBKWIZC@dell.com",
                                    "phone": "1287944454",
                                    "creditcardtype": "5",
                                    "creditcard": "1890860486775636",
                                    "creditcardexpiration": "2012/06",
                                    "username": "user1",
                                    "password": "password",
                                    "age": "49",
                                    "income": "80000",
                                    "gender": "M"
                                }
                            ]
                        },
                        "text/html": "<table><tr><th>customerid</th><th>firstname</th><th>lastname</th><th>address1</th><th>address2</th><th>city</th><th>state</th><th>zip</th><th>country</th><th>region</th><th>email</th><th>phone</th><th>creditcardtype</th><th>creditcard</th><th>creditcardexpiration</th><th>username</th><th>password</th><th>age</th><th>income</th><th>gender</th></tr><tr><td>1</td><td>RNPOJG</td><td>FQIVBKWIZC</td><td>1287944454 Dell Way</td><td></td><td>XCXNWIS</td><td>ND</td><td>42572</td><td>US</td><td>1</td><td>FQIVBKWIZC@dell.com</td><td>1287944454</td><td>5</td><td>1890860486775636</td><td>2012/06</td><td>user1</td><td>password</td><td>49</td><td>80000</td><td>M</td></tr></table>"
                    },
                    "metadata": {}
                }
            ],
            "execution_count": 2
        },
        {
            "cell_type": "code",
            "source": [
                "SELECT\n",
                "    c.firstname,\n",
                "    c.lastname,\n",
                "    o.orderid,\n",
                "    o.netamount\n",
                "    from customers C\n",
                "    join orders O\n",
                "    on c.customerid = o.customerid limit 10;"
            ],
            "metadata": {
                "language": "sql",
                "azdata_cell_guid": "de3e4622-a136-45f9-bd57-65749657ec65"
            },
            "outputs": [
                {
                    "output_type": "display_data",
                    "data": {
                        "text/html": "(10 row(s) affected)"
                    },
                    "metadata": {}
                },
                {
                    "output_type": "display_data",
                    "data": {
                        "text/html": "Total execution time: 00:00:00.002"
                    },
                    "metadata": {}
                },
                {
                    "output_type": "execute_result",
                    "execution_count": 4,
                    "data": {
                        "application/vnd.dataresource+json": {
                            "schema": {
                                "fields": [
                                    {
                                        "name": "firstname"
                                    },
                                    {
                                        "name": "lastname"
                                    },
                                    {
                                        "name": "orderid"
                                    },
                                    {
                                        "name": "netamount"
                                    }
                                ]
                            },
                            "data": [
                                {
                                    "firstname": "RKLQYY",
                                    "lastname": "HPUIUYBWZX",
                                    "orderid": "10677",
                                    "netamount": "5.08"
                                },
                                {
                                    "firstname": "GWPSHI",
                                    "lastname": "QWRLBUPCHY",
                                    "orderid": "2337",
                                    "netamount": "39.06"
                                },
                                {
                                    "firstname": "FCHDNP",
                                    "lastname": "FQZNEVVHNA",
                                    "orderid": "9077",
                                    "netamount": "323.30"
                                },
                                {
                                    "firstname": "HOMUAY",
                                    "lastname": "BCTJTZIEZQ",
                                    "orderid": "6239",
                                    "netamount": "341.44"
                                },
                                {
                                    "firstname": "UZCYBH",
                                    "lastname": "NKKNSRDQGC",
                                    "orderid": "1187",
                                    "netamount": "285.39"
                                },
                                {
                                    "firstname": "YADYNS",
                                    "lastname": "VBVFOAENRH",
                                    "orderid": "3710",
                                    "netamount": "350.87"
                                },
                                {
                                    "firstname": "ZGYPBI",
                                    "lastname": "NKKQMREHPQ",
                                    "orderid": "379",
                                    "netamount": "227.45"
                                },
                                {
                                    "firstname": "ZGYPBI",
                                    "lastname": "NKKQMREHPQ",
                                    "orderid": "9447",
                                    "netamount": "83.31"
                                },
                                {
                                    "firstname": "PFIWAF",
                                    "lastname": "MQGNVHRTNH",
                                    "orderid": "3075",
                                    "netamount": "33.63"
                                },
                                {
                                    "firstname": "PQJVZM",
                                    "lastname": "PCCNFVKLZE",
                                    "orderid": "5019",
                                    "netamount": "256.30"
                                }
                            ]
                        },
                        "text/html": "<table><tr><th>firstname</th><th>lastname</th><th>orderid</th><th>netamount</th></tr><tr><td>RKLQYY</td><td>HPUIUYBWZX</td><td>10677</td><td>5.08</td></tr><tr><td>GWPSHI</td><td>QWRLBUPCHY</td><td>2337</td><td>39.06</td></tr><tr><td>FCHDNP</td><td>FQZNEVVHNA</td><td>9077</td><td>323.30</td></tr><tr><td>HOMUAY</td><td>BCTJTZIEZQ</td><td>6239</td><td>341.44</td></tr><tr><td>UZCYBH</td><td>NKKNSRDQGC</td><td>1187</td><td>285.39</td></tr><tr><td>YADYNS</td><td>VBVFOAENRH</td><td>3710</td><td>350.87</td></tr><tr><td>ZGYPBI</td><td>NKKQMREHPQ</td><td>379</td><td>227.45</td></tr><tr><td>ZGYPBI</td><td>NKKQMREHPQ</td><td>9447</td><td>83.31</td></tr><tr><td>PFIWAF</td><td>MQGNVHRTNH</td><td>3075</td><td>33.63</td></tr><tr><td>PQJVZM</td><td>PCCNFVKLZE</td><td>5019</td><td>256.30</td></tr></table>"
                    },
                    "metadata": {}
                }
            ],
            "execution_count": 4
        },
        {
            "cell_type": "code",
            "source": [
                "create or replace view cust_orders \n",
                "as \n",
                "SELECT\n",
                "    c.firstname,\n",
                "    c.lastname,\n",
                "    o.orderid,\n",
                "    o.netamount\n",
                "    from customers C\n",
                "    join orders O\n",
                "    on c.customerid = o.customerid limit 10;"
            ],
            "metadata": {
                "azdata_cell_guid": "bd157658-4765-4e4a-b05c-c3b40bc960da",
                "language": "sql"
            },
            "outputs": [
                {
                    "output_type": "display_data",
                    "data": {
                        "text/html": "CREATE VIEW"
                    },
                    "metadata": {}
                },
                {
                    "output_type": "display_data",
                    "data": {
                        "text/html": "Total execution time: 00:00:00.003"
                    },
                    "metadata": {}
                }
            ],
            "execution_count": 5
        },
        {
            "cell_type": "code",
            "source": [
                "select * from cust_orders;"
            ],
            "metadata": {
                "language": "sql",
                "azdata_cell_guid": "7cf9ec75-e87c-46ab-b476-c3d7e70a393d"
            },
            "outputs": [
                {
                    "output_type": "error",
                    "ename": "",
                    "evalue": "relation \"cust_orders\" does not exist",
                    "traceback": []
                },
                {
                    "output_type": "display_data",
                    "data": {
                        "text/html": "Total execution time: 00:00:00"
                    },
                    "metadata": {}
                }
            ],
            "execution_count": 18
        },
        {
            "cell_type": "code",
            "source": [
                "create function cust_orders()\n",
                "    returns table (firstname varchar, lastname varchar, orderid int, netamount numeric)\n",
                "    as $$\n",
                "SELECT\n",
                "    c.firstname,\n",
                "    c.lastname,\n",
                "    o.orderid,\n",
                "    o.netamount\n",
                "    from customers C\n",
                "    join orders O\n",
                "    on c.customerid = o.customerid limit 10\n",
                "$$ language sql;"
            ],
            "metadata": {
                "azdata_cell_guid": "9fa86251-8778-4a23-b96d-f91e07b55bbb",
                "language": "sql"
            },
            "outputs": [
                {
                    "output_type": "display_data",
                    "data": {
                        "text/html": "CREATE FUNCTION"
                    },
                    "metadata": {}
                },
                {
                    "output_type": "display_data",
                    "data": {
                        "text/html": "Total execution time: 00:00:00.001"
                    },
                    "metadata": {}
                }
            ],
            "execution_count": 7
        },
        {
            "cell_type": "code",
            "source": [
                "select * from cust_orders();"
            ],
            "metadata": {
                "language": "sql",
                "azdata_cell_guid": "246c0a57-7632-46cd-bd55-1902f5615654"
            },
            "outputs": [
                {
                    "output_type": "display_data",
                    "data": {
                        "text/html": "(10 row(s) affected)"
                    },
                    "metadata": {}
                },
                {
                    "output_type": "display_data",
                    "data": {
                        "text/html": "Total execution time: 00:00:00.001"
                    },
                    "metadata": {}
                },
                {
                    "output_type": "execute_result",
                    "execution_count": 8,
                    "data": {
                        "application/vnd.dataresource+json": {
                            "schema": {
                                "fields": [
                                    {
                                        "name": "firstname"
                                    },
                                    {
                                        "name": "lastname"
                                    },
                                    {
                                        "name": "orderid"
                                    },
                                    {
                                        "name": "netamount"
                                    }
                                ]
                            },
                            "data": [
                                {
                                    "firstname": "RKLQYY",
                                    "lastname": "HPUIUYBWZX",
                                    "orderid": "10677",
                                    "netamount": "5.08"
                                },
                                {
                                    "firstname": "GWPSHI",
                                    "lastname": "QWRLBUPCHY",
                                    "orderid": "2337",
                                    "netamount": "39.06"
                                },
                                {
                                    "firstname": "FCHDNP",
                                    "lastname": "FQZNEVVHNA",
                                    "orderid": "9077",
                                    "netamount": "323.30"
                                },
                                {
                                    "firstname": "HOMUAY",
                                    "lastname": "BCTJTZIEZQ",
                                    "orderid": "6239",
                                    "netamount": "341.44"
                                },
                                {
                                    "firstname": "UZCYBH",
                                    "lastname": "NKKNSRDQGC",
                                    "orderid": "1187",
                                    "netamount": "285.39"
                                },
                                {
                                    "firstname": "YADYNS",
                                    "lastname": "VBVFOAENRH",
                                    "orderid": "3710",
                                    "netamount": "350.87"
                                },
                                {
                                    "firstname": "ZGYPBI",
                                    "lastname": "NKKQMREHPQ",
                                    "orderid": "379",
                                    "netamount": "227.45"
                                },
                                {
                                    "firstname": "ZGYPBI",
                                    "lastname": "NKKQMREHPQ",
                                    "orderid": "9447",
                                    "netamount": "83.31"
                                },
                                {
                                    "firstname": "PFIWAF",
                                    "lastname": "MQGNVHRTNH",
                                    "orderid": "3075",
                                    "netamount": "33.63"
                                },
                                {
                                    "firstname": "PQJVZM",
                                    "lastname": "PCCNFVKLZE",
                                    "orderid": "5019",
                                    "netamount": "256.30"
                                }
                            ]
                        },
                        "text/html": "<table><tr><th>firstname</th><th>lastname</th><th>orderid</th><th>netamount</th></tr><tr><td>RKLQYY</td><td>HPUIUYBWZX</td><td>10677</td><td>5.08</td></tr><tr><td>GWPSHI</td><td>QWRLBUPCHY</td><td>2337</td><td>39.06</td></tr><tr><td>FCHDNP</td><td>FQZNEVVHNA</td><td>9077</td><td>323.30</td></tr><tr><td>HOMUAY</td><td>BCTJTZIEZQ</td><td>6239</td><td>341.44</td></tr><tr><td>UZCYBH</td><td>NKKNSRDQGC</td><td>1187</td><td>285.39</td></tr><tr><td>YADYNS</td><td>VBVFOAENRH</td><td>3710</td><td>350.87</td></tr><tr><td>ZGYPBI</td><td>NKKQMREHPQ</td><td>379</td><td>227.45</td></tr><tr><td>ZGYPBI</td><td>NKKQMREHPQ</td><td>9447</td><td>83.31</td></tr><tr><td>PFIWAF</td><td>MQGNVHRTNH</td><td>3075</td><td>33.63</td></tr><tr><td>PQJVZM</td><td>PCCNFVKLZE</td><td>5019</td><td>256.30</td></tr></table>"
                    },
                    "metadata": {}
                }
            ],
            "execution_count": 8
        },
        {
            "cell_type": "code",
            "source": [
                "create or replace function cust_orders(customerid int)\n",
                "    returns table (firstname varchar, lastname varchar, orderid int, netamount numeric)\n",
                "    as $$\n",
                "SELECT\n",
                "    c.firstname,\n",
                "    c.lastname,\n",
                "    o.orderid,\n",
                "    o.netamount\n",
                "    from customers C\n",
                "    join orders O\n",
                "    on c.customerid = o.customerid \n",
                "    where c.customerid = cust_orders.customerid\n",
                "    limit 10\n",
                "$$ language sql;"
            ],
            "metadata": {
                "language": "sql",
                "azdata_cell_guid": "73abe212-65c3-493b-b27e-9f96d40640b5"
            },
            "outputs": [
                {
                    "output_type": "display_data",
                    "data": {
                        "text/html": "CREATE FUNCTION"
                    },
                    "metadata": {}
                },
                {
                    "output_type": "display_data",
                    "data": {
                        "text/html": "Total execution time: 00:00:00.001"
                    },
                    "metadata": {}
                }
            ],
            "execution_count": 11
        },
        {
            "cell_type": "code",
            "source": [
                "select * from cust_orders(42);"
            ],
            "metadata": {
                "language": "sql",
                "azdata_cell_guid": "09382657-c8e6-4370-b110-da8b52cfe28d"
            },
            "outputs": [
                {
                    "output_type": "display_data",
                    "data": {
                        "text/html": "(1 row(s) affected)"
                    },
                    "metadata": {}
                },
                {
                    "output_type": "display_data",
                    "data": {
                        "text/html": "Total execution time: 00:00:00.001"
                    },
                    "metadata": {}
                },
                {
                    "output_type": "execute_result",
                    "execution_count": 17,
                    "data": {
                        "application/vnd.dataresource+json": {
                            "schema": {
                                "fields": [
                                    {
                                        "name": "firstname"
                                    },
                                    {
                                        "name": "lastname"
                                    },
                                    {
                                        "name": "orderid"
                                    },
                                    {
                                        "name": "netamount"
                                    }
                                ]
                            },
                            "data": [
                                {
                                    "firstname": "IGAITZ",
                                    "lastname": "ADIDJMAYUZ",
                                    "orderid": "11465",
                                    "netamount": "202.29"
                                }
                            ]
                        },
                        "text/html": "<table><tr><th>firstname</th><th>lastname</th><th>orderid</th><th>netamount</th></tr><tr><td>IGAITZ</td><td>ADIDJMAYUZ</td><td>11465</td><td>202.29</td></tr></table>"
                    },
                    "metadata": {}
                }
            ],
            "execution_count": 17
        },
        {
            "cell_type": "code",
            "source": [
                "drop view if exists cust_orders;\n",
                "drop function if exists cust_orders();\n",
                "drop function if exists cust_orders(int);"
            ],
            "metadata": {
                "language": "sql",
                "azdata_cell_guid": "1519cac3-8670-49b7-a5e2-145a437ec320"
            },
            "outputs": [
                {
                    "output_type": "display_data",
                    "data": {
                        "text/html": "NOTICE: view \"cust_orders\" does not exist, skipping"
                    },
                    "metadata": {}
                },
                {
                    "output_type": "display_data",
                    "data": {
                        "text/html": "DROP VIEW"
                    },
                    "metadata": {}
                },
                {
                    "output_type": "display_data",
                    "data": {
                        "text/html": "DROP FUNCTION"
                    },
                    "metadata": {}
                },
                {
                    "output_type": "display_data",
                    "data": {
                        "text/html": "DROP FUNCTION"
                    },
                    "metadata": {}
                },
                {
                    "output_type": "display_data",
                    "data": {
                        "text/html": "Total execution time: 00:00:00.002"
                    },
                    "metadata": {}
                }
            ],
            "execution_count": 19
        },
        {
            "cell_type": "markdown",
            "source": [
                "## Input Parameters and Return Values\n",
                "\n",
                "### Multiple input parameters\n",
                ""
            ],
            "metadata": {
                "language": "sql",
                "azdata_cell_guid": "951ca95b-559d-4ad6-9bd2-bf21a604c6ec"
            },
            "attachments": {}
        },
        {
            "cell_type": "code",
            "source": [
                "create or replace function my_pow(x double precision, y double precision)\n",
                "returns double precision\n",
                "as $$ \n",
                "select power(x, y)\n",
                "$$ language sql;"
            ],
            "metadata": {
                "language": "sql",
                "azdata_cell_guid": "0997d3a9-c8a0-47e7-b47b-e2b6c4465d58"
            },
            "outputs": [
                {
                    "output_type": "display_data",
                    "data": {
                        "text/html": "CREATE FUNCTION"
                    },
                    "metadata": {}
                },
                {
                    "output_type": "display_data",
                    "data": {
                        "text/html": "Total execution time: 00:00:00.001"
                    },
                    "metadata": {}
                }
            ],
            "execution_count": 21
        },
        {
            "cell_type": "code",
            "source": [
                "select my_pow(1,2)"
            ],
            "metadata": {
                "language": "sql",
                "azdata_cell_guid": "32fdcaad-f077-4ecb-9612-a947c73598a4"
            },
            "outputs": [
                {
                    "output_type": "display_data",
                    "data": {
                        "text/html": "(1 row(s) affected)"
                    },
                    "metadata": {}
                },
                {
                    "output_type": "display_data",
                    "data": {
                        "text/html": "Total execution time: 00:00:00.002"
                    },
                    "metadata": {}
                },
                {
                    "output_type": "execute_result",
                    "execution_count": 23,
                    "data": {
                        "application/vnd.dataresource+json": {
                            "schema": {
                                "fields": [
                                    {
                                        "name": "my_pow"
                                    }
                                ]
                            },
                            "data": [
                                {
                                    "my_pow": "1"
                                }
                            ]
                        },
                        "text/html": "<table><tr><th>my_pow</th></tr><tr><td>1</td></tr></table>"
                    },
                    "metadata": {}
                }
            ],
            "execution_count": 23
        },
        {
            "cell_type": "code",
            "source": [
                "select my_pow(PI(), log(42))"
            ],
            "metadata": {
                "language": "sql",
                "azdata_cell_guid": "2fa2896f-d154-406f-adb8-cacd6862cf56"
            },
            "outputs": [
                {
                    "output_type": "display_data",
                    "data": {
                        "text/html": "(1 row(s) affected)"
                    },
                    "metadata": {}
                },
                {
                    "output_type": "display_data",
                    "data": {
                        "text/html": "Total execution time: 00:00:00.001"
                    },
                    "metadata": {}
                },
                {
                    "output_type": "execute_result",
                    "execution_count": 25,
                    "data": {
                        "application/vnd.dataresource+json": {
                            "schema": {
                                "fields": [
                                    {
                                        "name": "my_pow"
                                    }
                                ]
                            },
                            "data": [
                                {
                                    "my_pow": "6.412068866243689"
                                }
                            ]
                        },
                        "text/html": "<table><tr><th>my_pow</th></tr><tr><td>6.412068866243689</td></tr></table>"
                    },
                    "metadata": {}
                }
            ],
            "execution_count": 25
        },
        {
            "cell_type": "markdown",
            "source": [
                "### Default values"
            ],
            "metadata": {
                "language": "sql",
                "azdata_cell_guid": "2051052b-e32f-4eda-8eda-ad8296d8707a"
            },
            "attachments": {}
        },
        {
            "cell_type": "code",
            "source": [
                "create or replace function my_default(x int = 42) \n",
                "RETURNS INT\n",
                "as $$\n",
                "    SELECT x;\n",
                "    $$ language sql;"
            ],
            "metadata": {
                "language": "sql",
                "azdata_cell_guid": "a969590a-dd2e-4981-80ba-8209ef261388"
            },
            "outputs": [
                {
                    "output_type": "display_data",
                    "data": {
                        "text/html": "CREATE FUNCTION"
                    },
                    "metadata": {}
                },
                {
                    "output_type": "display_data",
                    "data": {
                        "text/html": "Total execution time: 00:00:00.001"
                    },
                    "metadata": {}
                }
            ],
            "execution_count": 27
        },
        {
            "cell_type": "code",
            "source": [
                "select my_default()"
            ],
            "metadata": {
                "language": "sql",
                "azdata_cell_guid": "360cb281-7079-4bbc-accd-6da0ec2a8f06"
            },
            "outputs": [
                {
                    "output_type": "display_data",
                    "data": {
                        "text/html": "(1 row(s) affected)"
                    },
                    "metadata": {}
                },
                {
                    "output_type": "display_data",
                    "data": {
                        "text/html": "Total execution time: 00:00:00.003"
                    },
                    "metadata": {}
                },
                {
                    "output_type": "execute_result",
                    "execution_count": 28,
                    "data": {
                        "application/vnd.dataresource+json": {
                            "schema": {
                                "fields": [
                                    {
                                        "name": "my_default"
                                    }
                                ]
                            },
                            "data": [
                                {
                                    "my_default": "42"
                                }
                            ]
                        },
                        "text/html": "<table><tr><th>my_default</th></tr><tr><td>42</td></tr></table>"
                    },
                    "metadata": {}
                }
            ],
            "execution_count": 28
        },
        {
            "cell_type": "markdown",
            "source": [
                "### Using arrays for multiple input values"
            ],
            "metadata": {
                "language": "sql",
                "azdata_cell_guid": "83f952f4-717f-466d-829f-61dcb5cca78f"
            },
            "attachments": {}
        },
        {
            "cell_type": "code",
            "source": [
                "create or replace function array_sum(int_array int[])\n",
                "RETURNs int \n",
                "as $$\n",
                "    select sum(el) \n",
                "    from unnest(int_array) as arr(el);\n",
                "    $$ language sql;"
            ],
            "metadata": {
                "language": "sql",
                "azdata_cell_guid": "7046a8d7-13e2-47bd-aa3c-ac24dec9ef8a"
            },
            "outputs": [
                {
                    "output_type": "display_data",
                    "data": {
                        "text/html": "CREATE FUNCTION"
                    },
                    "metadata": {}
                },
                {
                    "output_type": "display_data",
                    "data": {
                        "text/html": "Total execution time: 00:00:00.001"
                    },
                    "metadata": {}
                }
            ],
            "execution_count": 32
        },
        {
            "cell_type": "code",
            "source": [
                "select array_sum(array[1,2,3])"
            ],
            "metadata": {
                "language": "sql",
                "azdata_cell_guid": "d4171e65-7599-482d-8535-8ac92c4f857d"
            },
            "outputs": [
                {
                    "output_type": "display_data",
                    "data": {
                        "text/html": "(1 row(s) affected)"
                    },
                    "metadata": {}
                },
                {
                    "output_type": "display_data",
                    "data": {
                        "text/html": "Total execution time: 00:00:00.001"
                    },
                    "metadata": {}
                },
                {
                    "output_type": "execute_result",
                    "execution_count": 34,
                    "data": {
                        "application/vnd.dataresource+json": {
                            "schema": {
                                "fields": [
                                    {
                                        "name": "array_sum"
                                    }
                                ]
                            },
                            "data": [
                                {
                                    "array_sum": "6"
                                }
                            ]
                        },
                        "text/html": "<table><tr><th>array_sum</th></tr><tr><td>6</td></tr></table>"
                    },
                    "metadata": {}
                }
            ],
            "execution_count": 34
        },
        {
            "cell_type": "markdown",
            "source": [
                "## Arrays and multiple return values\n",
                ""
            ],
            "metadata": {
                "language": "sql",
                "azdata_cell_guid": "5c2b67ac-72c1-4c0f-9bcb-94efedf81e3c"
            },
            "attachments": {}
        },
        {
            "cell_type": "code",
            "source": [
                "create or replace function array_sum_avg(int_array int[])\n",
                "RETURNS table (array_sum bigint, array_avg numeric)\n",
                "as $$\n",
                "select sum(el), avg(el)::numeric(5,2)\n",
                "from unnest(int_array) as arr(el);\n",
                "$$ language sql;"
            ],
            "metadata": {
                "language": "sql",
                "azdata_cell_guid": "3aa3f26b-acaa-48fa-8e50-fca701c0edc5"
            },
            "outputs": [
                {
                    "output_type": "display_data",
                    "data": {
                        "text/html": "CREATE FUNCTION"
                    },
                    "metadata": {}
                },
                {
                    "output_type": "display_data",
                    "data": {
                        "text/html": "Total execution time: 00:00:00.001"
                    },
                    "metadata": {}
                }
            ],
            "execution_count": 37
        },
        {
            "cell_type": "code",
            "source": [
                "select array_sum_avg(array[1,2,3]) as \"Record type\";\n",
                "\n",
                ""
            ],
            "metadata": {
                "language": "sql",
                "azdata_cell_guid": "748bbf7c-7c40-4312-9d5c-debb1b1fc54b"
            },
            "outputs": [
                {
                    "output_type": "display_data",
                    "data": {
                        "text/html": "(1 row(s) affected)"
                    },
                    "metadata": {}
                },
                {
                    "output_type": "display_data",
                    "data": {
                        "text/html": "Total execution time: 00:00:00.001"
                    },
                    "metadata": {}
                },
                {
                    "output_type": "execute_result",
                    "execution_count": 39,
                    "data": {
                        "application/vnd.dataresource+json": {
                            "schema": {
                                "fields": [
                                    {
                                        "name": "Record type"
                                    }
                                ]
                            },
                            "data": [
                                {
                                    "Record type": "(6,2.00)"
                                }
                            ]
                        },
                        "text/html": "<table><tr><th>Record type</th></tr><tr><td>(6,2.00)</td></tr></table>"
                    },
                    "metadata": {}
                }
            ],
            "execution_count": 39
        },
        {
            "cell_type": "code",
            "source": [
                "select * from array_sum_avg(array[1,2,3])"
            ],
            "metadata": {
                "language": "sql",
                "azdata_cell_guid": "503b5e54-44c9-41ba-812c-e2eb26e440eb"
            },
            "outputs": [
                {
                    "output_type": "display_data",
                    "data": {
                        "text/html": "(1 row(s) affected)"
                    },
                    "metadata": {}
                },
                {
                    "output_type": "display_data",
                    "data": {
                        "text/html": "Total execution time: 00:00:00.001"
                    },
                    "metadata": {}
                },
                {
                    "output_type": "execute_result",
                    "execution_count": 41,
                    "data": {
                        "application/vnd.dataresource+json": {
                            "schema": {
                                "fields": [
                                    {
                                        "name": "array_sum"
                                    },
                                    {
                                        "name": "array_avg"
                                    }
                                ]
                            },
                            "data": [
                                {
                                    "array_sum": "6",
                                    "array_avg": "2.00"
                                }
                            ]
                        },
                        "text/html": "<table><tr><th>array_sum</th><th>array_avg</th></tr><tr><td>6</td><td>2.00</td></tr></table>"
                    },
                    "metadata": {}
                }
            ],
            "execution_count": 41
        },
        {
            "cell_type": "markdown",
            "source": [
                "## Output arguments\n",
                ""
            ],
            "metadata": {
                "language": "sql",
                "azdata_cell_guid": "75838359-4d60-4002-98db-96b96ff41b8f"
            },
            "attachments": {}
        },
        {
            "cell_type": "code",
            "source": [
                "create or replace function get_cust_name (\n",
                "    in id int,\n",
                "    out firstname varchar,\n",
                "    out lastname varchar\n",
                ") as $$\n",
                "    select c.firstname, c.lastname from customers C\n",
                "    where c.customerid = id;\n",
                "    $$ language sql;"
            ],
            "metadata": {
                "language": "sql",
                "azdata_cell_guid": "9c3b1928-299c-4adf-8792-29a2d8775920"
            },
            "outputs": [
                {
                    "output_type": "display_data",
                    "data": {
                        "text/html": "CREATE FUNCTION"
                    },
                    "metadata": {}
                },
                {
                    "output_type": "display_data",
                    "data": {
                        "text/html": "Total execution time: 00:00:00.001"
                    },
                    "metadata": {}
                }
            ],
            "execution_count": 3
        },
        {
            "cell_type": "code",
            "source": [
                "SELECT * from get_cust_name(42);"
            ],
            "metadata": {
                "language": "sql",
                "azdata_cell_guid": "684fea16-0583-4102-a8ad-fee9503ad81b"
            },
            "outputs": [
                {
                    "output_type": "display_data",
                    "data": {
                        "text/html": "(1 row(s) affected)"
                    },
                    "metadata": {}
                },
                {
                    "output_type": "display_data",
                    "data": {
                        "text/html": "Total execution time: 00:00:00.007"
                    },
                    "metadata": {}
                },
                {
                    "output_type": "execute_result",
                    "execution_count": 6,
                    "data": {
                        "application/vnd.dataresource+json": {
                            "schema": {
                                "fields": [
                                    {
                                        "name": "firstname"
                                    },
                                    {
                                        "name": "lastname"
                                    }
                                ]
                            },
                            "data": [
                                {
                                    "firstname": "IGAITZ",
                                    "lastname": "ADIDJMAYUZ"
                                }
                            ]
                        },
                        "text/html": "<table><tr><th>firstname</th><th>lastname</th></tr><tr><td>IGAITZ</td><td>ADIDJMAYUZ</td></tr></table>"
                    },
                    "metadata": {}
                }
            ],
            "execution_count": 6
        },
        {
            "cell_type": "markdown",
            "source": [
                "## Returns a table revisited"
            ],
            "metadata": {
                "language": "sql",
                "azdata_cell_guid": "3a25bc31-4f5f-4300-80c8-62c181658a1d"
            },
            "attachments": {}
        },
        {
            "cell_type": "code",
            "source": [
                "create or replace function get_cust_names(id1 int, id2 int) \n",
                "returns table (firstname varchar, lastname varchar)\n",
                "as $$\n",
                "select c.firstname, c.lastname from customers C\n",
                "where c.customerid between id1 and id2;\n",
                "$$ language sql;"
            ],
            "metadata": {
                "language": "sql",
                "azdata_cell_guid": "0faf5d96-68b0-488d-a69d-26b1e920701b"
            },
            "outputs": [
                {
                    "output_type": "display_data",
                    "data": {
                        "text/html": "CREATE FUNCTION"
                    },
                    "metadata": {}
                },
                {
                    "output_type": "display_data",
                    "data": {
                        "text/html": "Total execution time: 00:00:00.001"
                    },
                    "metadata": {}
                }
            ],
            "execution_count": 7
        },
        {
            "cell_type": "code",
            "source": [
                "select * from get_cust_names(1, 5);"
            ],
            "metadata": {
                "language": "sql",
                "azdata_cell_guid": "3d508242-e363-4f16-9297-37cdd12dd98a"
            },
            "outputs": [
                {
                    "output_type": "display_data",
                    "data": {
                        "text/html": "(5 row(s) affected)"
                    },
                    "metadata": {}
                },
                {
                    "output_type": "display_data",
                    "data": {
                        "text/html": "Total execution time: 00:00:00.003"
                    },
                    "metadata": {}
                },
                {
                    "output_type": "execute_result",
                    "execution_count": 10,
                    "data": {
                        "application/vnd.dataresource+json": {
                            "schema": {
                                "fields": [
                                    {
                                        "name": "firstname"
                                    },
                                    {
                                        "name": "lastname"
                                    }
                                ]
                            },
                            "data": [
                                {
                                    "firstname": "RNPOJG",
                                    "lastname": "FQIVBKWIZC"
                                },
                                {
                                    "firstname": "RKLQYY",
                                    "lastname": "HPUIUYBWZX"
                                },
                                {
                                    "firstname": "GWPSHI",
                                    "lastname": "QWRLBUPCHY"
                                },
                                {
                                    "firstname": "ONCPHI",
                                    "lastname": "TZIJOMZQJJ"
                                },
                                {
                                    "firstname": "CIDXWX",
                                    "lastname": "GNYGKZXSCR"
                                }
                            ]
                        },
                        "text/html": "<table><tr><th>firstname</th><th>lastname</th></tr><tr><td>RNPOJG</td><td>FQIVBKWIZC</td></tr><tr><td>RKLQYY</td><td>HPUIUYBWZX</td></tr><tr><td>GWPSHI</td><td>QWRLBUPCHY</td></tr><tr><td>ONCPHI</td><td>TZIJOMZQJJ</td></tr><tr><td>CIDXWX</td><td>GNYGKZXSCR</td></tr></table>"
                    },
                    "metadata": {}
                }
            ],
            "execution_count": 10
        },
        {
            "cell_type": "code",
            "source": [
                "-- drop function if exists get_cust_names(id1 int, id2 int)\n",
                "\n",
                "create or replace function get_cust_names2(\n",
                "    inout id1 int, id2 int,\n",
                "    out firstname varchar,\n",
                "    out lastname varchar\n",
                ") as $$\n",
                "select c.customerid, c.firstname, c.lastname from customers c\n",
                "where c.customerid between id1 and id2\n",
                "-- order by c.customerid desc\n",
                "$$ language sql"
            ],
            "metadata": {
                "azdata_cell_guid": "bacd92c4-e992-40f0-9478-470801e1d0c3",
                "language": "sql"
            },
            "outputs": [
                {
                    "output_type": "display_data",
                    "data": {
                        "text/html": "CREATE FUNCTION"
                    },
                    "metadata": {}
                },
                {
                    "output_type": "display_data",
                    "data": {
                        "text/html": "Total execution time: 00:00:00.001"
                    },
                    "metadata": {}
                }
            ],
            "execution_count": 14
        },
        {
            "cell_type": "code",
            "source": [
                "select \n",
                "id1 as customerid,\n",
                "firstname, \n",
                "lastname\n",
                " from get_cust_names2(1,5);"
            ],
            "metadata": {
                "language": "sql",
                "azdata_cell_guid": "87498a3a-b523-4b2f-aa0b-2caea5c24e5e",
                "tags": []
            },
            "outputs": [
                {
                    "output_type": "display_data",
                    "data": {
                        "text/html": "(1 row(s) affected)"
                    },
                    "metadata": {}
                },
                {
                    "output_type": "display_data",
                    "data": {
                        "text/html": "Total execution time: 00:00:00.001"
                    },
                    "metadata": {}
                },
                {
                    "output_type": "execute_result",
                    "execution_count": 16,
                    "data": {
                        "application/vnd.dataresource+json": {
                            "schema": {
                                "fields": [
                                    {
                                        "name": "customerid"
                                    },
                                    {
                                        "name": "firstname"
                                    },
                                    {
                                        "name": "lastname"
                                    }
                                ]
                            },
                            "data": [
                                {
                                    "customerid": "1",
                                    "firstname": "RNPOJG",
                                    "lastname": "FQIVBKWIZC"
                                }
                            ]
                        },
                        "text/html": "<table><tr><th>customerid</th><th>firstname</th><th>lastname</th></tr><tr><td>1</td><td>RNPOJG</td><td>FQIVBKWIZC</td></tr></table>"
                    },
                    "metadata": {}
                }
            ],
            "execution_count": 16
        },
        {
            "cell_type": "code",
            "source": [
                "\n",
                "select \n",
                "id1 as customerid,\n",
                "firstname, \n",
                "lastname\n",
                " from get_cust_names2(-1,-25);"
            ],
            "metadata": {
                "language": "sql",
                "azdata_cell_guid": "df9e5ff0-6e6c-4a18-8229-d2eefc471ea4"
            },
            "outputs": [
                {
                    "output_type": "display_data",
                    "data": {
                        "text/html": "(1 row(s) affected)"
                    },
                    "metadata": {}
                },
                {
                    "output_type": "display_data",
                    "data": {
                        "text/html": "Total execution time: 00:00:00.001"
                    },
                    "metadata": {}
                },
                {
                    "output_type": "execute_result",
                    "execution_count": 17,
                    "data": {
                        "application/vnd.dataresource+json": {
                            "schema": {
                                "fields": [
                                    {
                                        "name": "customerid"
                                    },
                                    {
                                        "name": "firstname"
                                    },
                                    {
                                        "name": "lastname"
                                    }
                                ]
                            },
                            "data": [
                                {
                                    "customerid": "NULL",
                                    "firstname": "NULL",
                                    "lastname": "NULL"
                                }
                            ]
                        },
                        "text/html": "<table><tr><th>customerid</th><th>firstname</th><th>lastname</th></tr><tr><td>NULL</td><td>NULL</td><td>NULL</td></tr></table>"
                    },
                    "metadata": {}
                }
            ],
            "execution_count": 17
        },
        {
            "cell_type": "code",
            "source": [
                "select \n",
                "firstname, \n",
                "lastname\n",
                " from get_cust_names(-1,-25);"
            ],
            "metadata": {
                "language": "sql",
                "azdata_cell_guid": "37e56da0-b044-48a6-997b-a95c11fcc2d3"
            },
            "outputs": [
                {
                    "output_type": "display_data",
                    "data": {
                        "text/html": "(0 row(s) affected)"
                    },
                    "metadata": {}
                },
                {
                    "output_type": "display_data",
                    "data": {
                        "text/html": "Total execution time: 00:00:00.001"
                    },
                    "metadata": {}
                },
                {
                    "output_type": "execute_result",
                    "execution_count": 19,
                    "data": {
                        "application/vnd.dataresource+json": {
                            "schema": {
                                "fields": [
                                    {
                                        "name": "firstname"
                                    },
                                    {
                                        "name": "lastname"
                                    }
                                ]
                            },
                            "data": []
                        },
                        "text/html": "<table><tr><th>firstname</th><th>lastname</th></tr></table>"
                    },
                    "metadata": {}
                }
            ],
            "execution_count": 19
        },
        {
            "cell_type": "code",
            "source": [
                "drop function if EXISTS get_cust_name(id int, out firstname varchar, out lastname varchar);\n",
                "drop function if EXISTS get_cust_names(id1 int, id1 int, out firstname varchar, out lastname varchar);\n",
                "drop function if EXISTS get_cust_names(input id1 int, id1 int, out firstname varchar, out lastname varchar);\n",
                "drop function if EXISTS get_cust_names(id1 int, id1 int);"
            ],
            "metadata": {
                "language": "sql",
                "azdata_cell_guid": "199ba132-8354-4988-ac89-9a98a7377ee7"
            },
            "outputs": [],
            "execution_count": null
        },
        {
            "cell_type": "markdown",
            "source": [
                "## Calling Functions"
            ],
            "metadata": {
                "language": "sql",
                "azdata_cell_guid": "d55b56d3-ca6f-46db-856a-0c9044197f13"
            },
            "attachments": {}
        },
        {
            "cell_type": "code",
            "source": [
                "create or replace function call_me(x int, y int, sw boolean = True) returns INT\n",
                "as $$\n",
                "select x + y where sw \n",
                "union ALL\n",
                "select x - y where not sw;\n",
                "$$ language sql;"
            ],
            "metadata": {
                "language": "sql",
                "azdata_cell_guid": "091d61b0-8659-40f5-ac3b-7d83e5f22958",
                "tags": [
                    "hide_input"
                ]
            },
            "outputs": [
                {
                    "output_type": "display_data",
                    "data": {
                        "text/html": "CREATE FUNCTION"
                    },
                    "metadata": {}
                },
                {
                    "output_type": "display_data",
                    "data": {
                        "text/html": "Total execution time: 00:00:00.003"
                    },
                    "metadata": {}
                }
            ],
            "execution_count": 20
        },
        {
            "cell_type": "code",
            "source": [
                "select call_me(42, -42 ) as \"Positional arguments\",\n",
                "call_me(x := 42, y := -42) as \"Named arguments\",\n",
                "call_me(42, -42, False) as \"Positional arguments with switch\",\n",
                "call_me(42, -42, sw := False) as \"Mixed positional and named\";"
            ],
            "metadata": {
                "language": "sql",
                "azdata_cell_guid": "1a87f1a5-e623-4ee5-9084-1cbe609f53d8"
            },
            "outputs": [
                {
                    "output_type": "display_data",
                    "data": {
                        "text/html": "(1 row(s) affected)"
                    },
                    "metadata": {}
                },
                {
                    "output_type": "display_data",
                    "data": {
                        "text/html": "Total execution time: 00:00:00.002"
                    },
                    "metadata": {}
                },
                {
                    "output_type": "execute_result",
                    "execution_count": 21,
                    "data": {
                        "application/vnd.dataresource+json": {
                            "schema": {
                                "fields": [
                                    {
                                        "name": "Positional arguments"
                                    },
                                    {
                                        "name": "Named arguments"
                                    },
                                    {
                                        "name": "Positional arguments with switch"
                                    },
                                    {
                                        "name": "Mixed positional and named"
                                    }
                                ]
                            },
                            "data": [
                                {
                                    "Positional arguments": "0",
                                    "Named arguments": "0",
                                    "Positional arguments with switch": "84",
                                    "Mixed positional and named": "84"
                                }
                            ]
                        },
                        "text/html": "<table><tr><th>Positional arguments</th><th>Named arguments</th><th>Positional arguments with switch</th><th>Mixed positional and named</th></tr><tr><td>0</td><td>0</td><td>84</td><td>84</td></tr></table>"
                    },
                    "metadata": {}
                }
            ],
            "execution_count": 21
        },
        {
            "cell_type": "code",
            "source": [
                "select call_me(x := 42, y := -42, False) as \"Named Followed by positional\";"
            ],
            "metadata": {
                "language": "sql",
                "azdata_cell_guid": "8cd43723-a300-4201-a4a8-87eb5debe421"
            },
            "outputs": [
                {
                    "output_type": "error",
                    "ename": "",
                    "evalue": "positional argument cannot follow named argument",
                    "traceback": []
                },
                {
                    "output_type": "display_data",
                    "data": {
                        "text/html": "Total execution time: 00:00:00"
                    },
                    "metadata": {}
                }
            ],
            "execution_count": 23
        },
        {
            "cell_type": "code",
            "source": [
                "create or replace function call_me2(x int, y int, sw boolean = false) returns INT\n",
                "as $$\n",
                "select x + y where sw\n",
                "union ALL\n",
                "select x - y where not sw\n",
                "$$ language sql;"
            ],
            "metadata": {
                "language": "sql",
                "azdata_cell_guid": "2767202f-807c-45e6-b261-4fa893f44634",
                "tags": [
                    "hide_input"
                ]
            },
            "outputs": [
                {
                    "output_type": "display_data",
                    "data": {
                        "text/html": "CREATE FUNCTION"
                    },
                    "metadata": {}
                },
                {
                    "output_type": "display_data",
                    "data": {
                        "text/html": "执行时间总计: 00:00:00"
                    },
                    "metadata": {}
                }
            ],
            "execution_count": 2
        },
        {
            "cell_type": "code",
            "source": [
                "select call_me2(42, -42 ) as \"Positional arguments\",\n",
                "call_me2(x := 42, y := -42) as \"Named arguments\",\n",
                "call_me2(42, -42, False) as \"Positional arguments with switch\",\n",
                "call_me2(42, -42, sw := False) as \"Mixed positional and named\";"
            ],
            "metadata": {
                "language": "sql",
                "azdata_cell_guid": "811824ba-2944-42bf-86a2-671f804d221f",
                "tags": []
            },
            "outputs": [
                {
                    "output_type": "display_data",
                    "data": {
                        "text/html": "(1 row(s) affected)"
                    },
                    "metadata": {}
                },
                {
                    "output_type": "display_data",
                    "data": {
                        "text/html": "执行时间总计: 00:00:00.024"
                    },
                    "metadata": {}
                },
                {
                    "output_type": "execute_result",
                    "execution_count": 3,
                    "data": {
                        "application/vnd.dataresource+json": {
                            "schema": {
                                "fields": [
                                    {
                                        "name": "Positional arguments"
                                    },
                                    {
                                        "name": "Named arguments"
                                    },
                                    {
                                        "name": "Positional arguments with switch"
                                    },
                                    {
                                        "name": "Mixed positional and named"
                                    }
                                ]
                            },
                            "data": [
                                {
                                    "Positional arguments": "84",
                                    "Named arguments": "84",
                                    "Positional arguments with switch": "84",
                                    "Mixed positional and named": "84"
                                }
                            ]
                        },
                        "text/html": "<table><tr><th>Positional arguments</th><th>Named arguments</th><th>Positional arguments with switch</th><th>Mixed positional and named</th></tr><tr><td>84</td><td>84</td><td>84</td><td>84</td></tr></table>"
                    },
                    "metadata": {}
                }
            ],
            "execution_count": 3
        },
        {
            "cell_type": "code",
            "source": [
                "SELECT\r\n",
                "    c.column_name,\r\n",
                "    pgd.description\r\n",
                "FROM\r\n",
                "    pg_catalog.pg_statio_all_tables as st\r\n",
                "    INNER JOIN pg_catalog.pg_description pgd ON (pgd.objoid = st.relid)\r\n",
                "    INNER JOIN information_schema.columns c ON (pgd.objsubid = c.ordinal_position\r\n",
                "        AND c.table_schema = st.schemaname AND c.table_name = st.relname)"
            ],
            "metadata": {
                "language": "sql",
                "azdata_cell_guid": "ba3efffb-677e-4fbf-9561-10843fda40bf"
            },
            "outputs": [
                {
                    "output_type": "display_data",
                    "data": {
                        "text/html": "(11 row(s) affected)"
                    },
                    "metadata": {}
                },
                {
                    "output_type": "display_data",
                    "data": {
                        "text/html": "执行时间总计: 00:00:00.010"
                    },
                    "metadata": {}
                },
                {
                    "output_type": "execute_result",
                    "execution_count": 4,
                    "data": {
                        "application/vnd.dataresource+json": {
                            "schema": {
                                "fields": [
                                    {
                                        "name": "column_name"
                                    },
                                    {
                                        "name": "description"
                                    }
                                ]
                            },
                            "data": [
                                {
                                    "column_name": "jobagentid",
                                    "description": "Agent that currently executes this job."
                                },
                                {
                                    "column_name": "jstkind",
                                    "description": "Kind of jobstep: s=sql, b=batch"
                                },
                                {
                                    "column_name": "jstonerror",
                                    "description": "What to do if step returns an error: f=fail the job, s=mark step as succeeded and continue, i=mark as fail but ignore it and proceed"
                                },
                                {
                                    "column_name": "jlgstatus",
                                    "description": "Status of job: r=running, s=successfully finished, f=failed, i=no steps to execute, d=aborted"
                                },
                                {
                                    "column_name": "jslstatus",
                                    "description": "Status of job step: r=running, s=successfully finished,  f=failed stopping job, i=ignored failure, d=aborted"
                                },
                                {
                                    "column_name": "jslresult",
                                    "description": "Return code of job step"
                                },
                                {
                                    "column_name": "employee_id",
                                    "description": "员工ID"
                                },
                                {
                                    "column_name": "first_name",
                                    "description": "名字"
                                },
                                {
                                    "column_name": "last_name",
                                    "description": "姓氏"
                                },
                                {
                                    "column_name": "email",
                                    "description": "邮箱"
                                },
                                {
                                    "column_name": "hire_date",
                                    "description": "入职日期"
                                }
                            ]
                        },
                        "text/html": "<table><tr><th>column_name</th><th>description</th></tr><tr><td>jobagentid</td><td>Agent that currently executes this job.</td></tr><tr><td>jstkind</td><td>Kind of jobstep: s=sql, b=batch</td></tr><tr><td>jstonerror</td><td>What to do if step returns an error: f=fail the job, s=mark step as succeeded and continue, i=mark as fail but ignore it and proceed</td></tr><tr><td>jlgstatus</td><td>Status of job: r=running, s=successfully finished, f=failed, i=no steps to execute, d=aborted</td></tr><tr><td>jslstatus</td><td>Status of job step: r=running, s=successfully finished,  f=failed stopping job, i=ignored failure, d=aborted</td></tr><tr><td>jslresult</td><td>Return code of job step</td></tr><tr><td>employee_id</td><td>员工ID</td></tr><tr><td>first_name</td><td>名字</td></tr><tr><td>last_name</td><td>姓氏</td></tr><tr><td>email</td><td>邮箱</td></tr><tr><td>hire_date</td><td>入职日期</td></tr></table>"
                    },
                    "metadata": {}
                }
            ],
            "execution_count": 4
        },
        {
            "cell_type": "markdown",
            "source": [
                "## Creating Functions in PL/pgSQL"
            ],
            "metadata": {
                "language": "sql",
                "azdata_cell_guid": "be008008-d1e7-4a8f-90fb-42a107d2f2c6"
            },
            "attachments": {}
        },
        {
            "cell_type": "markdown",
            "source": [
                "Using Pl/pgSQL\n",
                "\n",
                "+ Process blocks of computation on the server\n",
                "+ Includes control structures for iteration and conditional processing\n",
                "+ Supports typed variables for complex calculations\n",
                "+ Inherits all user-defined types, functions, and operators\n",
                "+ Procecdural language for creating functions and triggers\n",
                ""
            ],
            "metadata": {
                "language": "sql",
                "azdata_cell_guid": "147a00c2-4ad3-4ea9-8ee9-60b57b8d13dd"
            },
            "attachments": {}
        },
        {
            "cell_type": "markdown",
            "source": [
                "## Structure of a PL/pgSQL program\n",
                "\n",
                ""
            ],
            "metadata": {
                "language": "sql",
                "azdata_cell_guid": "7ba30517-6d7f-4e3a-9221-e0fd91969f88"
            },
            "attachments": {}
        },
        {
            "cell_type": "markdown",
            "source": [
                "### Returning a table using the SQL language"
            ],
            "metadata": {
                "language": "sql",
                "azdata_cell_guid": "2f9c9d0a-de20-4d35-bcec-86ce605c0301"
            },
            "attachments": {}
        },
        {
            "cell_type": "code",
            "source": [
                "create or replace FUNCTION get_cust_names(id1 int, id2 int)\n",
                "returns table (firstname varchar, lastname varchar) AS\n",
                "$$\n",
                "select c.firstname, c.lastname from customers as C\n",
                "where c.customerid BETWEEN id1 and id2\n",
                "$$ language sql;"
            ],
            "metadata": {
                "language": "sql",
                "azdata_cell_guid": "fdd3d4af-fd03-4c73-8ccd-2b5e321dad87"
            },
            "outputs": [
                {
                    "output_type": "display_data",
                    "data": {
                        "text/html": "CREATE FUNCTION"
                    },
                    "metadata": {}
                },
                {
                    "output_type": "display_data",
                    "data": {
                        "text/html": "Total execution time: 00:00:00.001"
                    },
                    "metadata": {}
                }
            ],
            "execution_count": 2
        },
        {
            "cell_type": "markdown",
            "source": [
                "### Returing a table using teh PL/pgSQL language\n",
                ""
            ],
            "metadata": {
                "language": "sql",
                "azdata_cell_guid": "bd184556-7d58-477f-af13-c70c4c72134e"
            },
            "attachments": {}
        },
        {
            "cell_type": "code",
            "source": [
                "create or replace function get_cust_names(id1 int, id2 int)\n",
                "returns table(firstname varchar, lastname varchar)\n",
                "as $$\n",
                "BEGIN\n",
                "    return query\n",
                "    select c.firstname, c.lastname from customers as c\n",
                "    where c.customerid BETWEEN id1 and id2;\n",
                "end\n",
                "$$ language plpgsql;"
            ],
            "metadata": {
                "language": "sql",
                "azdata_cell_guid": "92538892-79d6-4e83-9878-634dfaea3919"
            },
            "outputs": [
                {
                    "output_type": "display_data",
                    "data": {
                        "text/html": "CREATE FUNCTION"
                    },
                    "metadata": {}
                },
                {
                    "output_type": "display_data",
                    "data": {
                        "text/html": "Total execution time: 00:00:00.005"
                    },
                    "metadata": {}
                }
            ],
            "execution_count": 3
        },
        {
            "cell_type": "code",
            "source": [
                "SELECT * from get_cust_names(1,5);"
            ],
            "metadata": {
                "language": "sql",
                "azdata_cell_guid": "199a2649-9a00-405d-8f93-9248302f52c5"
            },
            "outputs": [
                {
                    "output_type": "display_data",
                    "data": {
                        "text/html": "(5 row(s) affected)"
                    },
                    "metadata": {}
                },
                {
                    "output_type": "display_data",
                    "data": {
                        "text/html": "Total execution time: 00:00:00.004"
                    },
                    "metadata": {}
                },
                {
                    "output_type": "execute_result",
                    "metadata": {},
                    "execution_count": 4,
                    "data": {
                        "application/vnd.dataresource+json": {
                            "schema": {
                                "fields": [
                                    {
                                        "name": "firstname"
                                    },
                                    {
                                        "name": "lastname"
                                    }
                                ]
                            },
                            "data": [
                                {
                                    "firstname": "RNPOJG",
                                    "lastname": "FQIVBKWIZC"
                                },
                                {
                                    "firstname": "RKLQYY",
                                    "lastname": "HPUIUYBWZX"
                                },
                                {
                                    "firstname": "GWPSHI",
                                    "lastname": "QWRLBUPCHY"
                                },
                                {
                                    "firstname": "ONCPHI",
                                    "lastname": "TZIJOMZQJJ"
                                },
                                {
                                    "firstname": "CIDXWX",
                                    "lastname": "GNYGKZXSCR"
                                }
                            ]
                        },
                        "text/html": [
                            "<table>",
                            "<tr><th>firstname</th><th>lastname</th></tr>",
                            "<tr><td>RNPOJG</td><td>FQIVBKWIZC</td></tr>",
                            "<tr><td>RKLQYY</td><td>HPUIUYBWZX</td></tr>",
                            "<tr><td>GWPSHI</td><td>QWRLBUPCHY</td></tr>",
                            "<tr><td>ONCPHI</td><td>TZIJOMZQJJ</td></tr>",
                            "<tr><td>CIDXWX</td><td>GNYGKZXSCR</td></tr>",
                            "</table>"
                        ]
                    }
                }
            ],
            "execution_count": 4
        },
        {
            "cell_type": "markdown",
            "source": [
                "### PL/pgSQL program structure\n",
                "\n",
                ""
            ],
            "metadata": {
                "azdata_cell_guid": "e468a4ed-ae67-456a-8f2c-2eb753ab9699"
            },
            "attachments": {}
        },
        {
            "cell_type": "markdown",
            "source": [
                "```\n",
                "[<<label>>]\n",
                "[ declare\n",
                "    declarations ]\n",
                "begin\n",
                "    statements\n",
                "end [label];\n",
                "```"
            ],
            "metadata": {
                "azdata_cell_guid": "5bf3c0bc-f60c-4fbc-ad4f-53b0d556485d"
            },
            "attachments": {}
        },
        {
            "cell_type": "code",
            "source": [
                "do $$ begin null;end; $$"
            ],
            "metadata": {
                "azdata_cell_guid": "d8622c27-5687-4b3e-afbb-c08529b3c1c5",
                "language": "sql"
            },
            "outputs": [
                {
                    "output_type": "display_data",
                    "data": {
                        "text/html": "DO"
                    },
                    "metadata": {}
                },
                {
                    "output_type": "display_data",
                    "data": {
                        "text/html": "Total execution time: 00:00:00.001"
                    },
                    "metadata": {}
                }
            ],
            "execution_count": 5
        },
        {
            "cell_type": "code",
            "source": [
                "do language plpgsql $$\n",
                "<<get_ans>>\n",
                "DECLARE\n",
                "    the_answer int := 42;\n",
                "begin\n",
                "    raise notice 'The answer is %.', get_ans.the_answer;\n",
                "end get_ans;\n",
                "$$"
            ],
            "metadata": {
                "language": "sql",
                "azdata_cell_guid": "ad215142-1ae4-4c7b-a7a3-fcebaccc8dd0",
                "tags": []
            },
            "outputs": [
                {
                    "output_type": "display_data",
                    "data": {
                        "text/html": "NOTICE: The answer is 42."
                    },
                    "metadata": {}
                },
                {
                    "output_type": "display_data",
                    "data": {
                        "text/html": "DO"
                    },
                    "metadata": {}
                },
                {
                    "output_type": "display_data",
                    "data": {
                        "text/html": "Total execution time: 00:00:00"
                    },
                    "metadata": {}
                }
            ],
            "execution_count": 7
        },
        {
            "cell_type": "markdown",
            "source": [
                "### Declaring and using variables\n",
                ""
            ],
            "metadata": {
                "language": "sql",
                "azdata_cell_guid": "93d2a064-02c5-4d24-b0e2-ef60fad024df"
            },
            "attachments": {}
        },
        {
            "cell_type": "markdown",
            "source": [
                "#### Delcaring variables"
            ],
            "metadata": {
                "language": "sql",
                "azdata_cell_guid": "d49ea3ff-b213-436d-ab87-85f357f536a3"
            },
            "attachments": {}
        },
        {
            "cell_type": "code",
            "source": [
                "do LANGUAGE plpgsql $$\n",
                "-- name [constant ] type [ collate collation_name ] [not null] [ (default | := | =) expression ];\n",
                "\n",
                "DECLARE\n",
                "    myint INTEGER not null = 0;\n",
                "    the_answer NUMERIC(2) := 42;\n",
                "    phi CONSTANT double precision DEFAULT ( 1 + |/ 5) / 2;\n",
                "    cust_row customers%rowtype;\n",
                "    cust_firstname customers.firstname%type;\n",
                "    myrow record;\n",
                "BEGIN\n",
                "    myint := -1; --myint = -1\n",
                "    select * from customers into cust_row limit 1;\n",
                "    select cust_row.firstname into cust_firstname limit 1;\n",
                "    select 42::int as the_answer into myrow;\n",
                "    raise notice 'Last name: %; First name: %; How young? %', cust_row.lastname, cust_firstname, myrow.the_answer;\n",
                "    end;\n",
                "    $$"
            ],
            "metadata": {
                "language": "sql",
                "azdata_cell_guid": "b9dad381-d558-442a-ac43-9eb21a2ecd01"
            },
            "outputs": [
                {
                    "output_type": "display_data",
                    "data": {
                        "text/html": "NOTICE: Last name: FQIVBKWIZC; First name: RNPOJG; How young? 42"
                    },
                    "metadata": {}
                },
                {
                    "output_type": "display_data",
                    "data": {
                        "text/html": "DO"
                    },
                    "metadata": {}
                },
                {
                    "output_type": "display_data",
                    "data": {
                        "text/html": "Total execution time: 00:00:00.003"
                    },
                    "metadata": {}
                }
            ],
            "execution_count": 10
        }
    ]
}