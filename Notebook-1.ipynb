{
    "metadata": {
        "kernelspec": {
            "name": "SQL",
            "display_name": "SQL",
            "language": "sql"
        },
        "language_info": {
            "name": "sql",
            "version": ""
        }
    },
    "nbformat_minor": 2,
    "nbformat": 4,
    "cells": [
        {
            "cell_type": "markdown",
            "source": [
                "# Built-in Functions\n",
                "\n",
                "| ANSI SQL Standard | POstgreSQL Extensions |\n",
                "--------- | -------\n",
                "sum  | trunc\n",
                "max | cbrt\n",
                "min | pi\n",
                "cast | random\n",
                "count | to_num\n",
                "floor | to_char\n",
                "ceiling | now\n",
                ""
            ],
            "metadata": {
                "azdata_cell_guid": "d987175e-0c04-43d2-9780-f58d8e270b11"
            },
            "attachments": {}
        },
        {
            "cell_type": "markdown",
            "source": [
                "## Business Use Cases\n",
                "\n",
                "+ Encaptsulate business logic\n",
                "+ Enforce semantic relationships\n",
                "+ Validate and transoform data\n",
                "+ control access to sensitive date\n",
                "+ Encourage code reuse\n",
                "+ Don't Repeat YOurself(DRY)\n",
                "\n",
                "\n",
                ""
            ],
            "metadata": {
                "azdata_cell_guid": "2877de00-15a9-4b87-86ed-eba0b0650a3a"
            },
            "attachments": {}
        },
        {
            "cell_type": "markdown",
            "source": [
                "+ Setting up a working environment\n",
                "+ Creating your first function\n",
                "+ Data types\n",
                "+ Polymorphic functions\n",
                "+ Function overloading\n",
                "+ Stored procedures\n",
                "+ Error handling"
            ],
            "metadata": {
                "azdata_cell_guid": "6d617ea4-c6a6-4367-8c39-fa6177c5ffd9"
            },
            "attachments": {}
        },
        {
            "cell_type": "code",
            "source": [
                "select CURRENT_TIMESTAMP"
            ],
            "metadata": {
                "azdata_cell_guid": "735238b3-d4d1-48c4-9e2f-089a6e36cb10",
                "language": "sql"
            },
            "outputs": [
                {
                    "output_type": "display_data",
                    "data": {
                        "text/html": "(1 row(s) affected)"
                    },
                    "metadata": {}
                },
                {
                    "output_type": "display_data",
                    "data": {
                        "text/html": "Total execution time: 00:00:00.002"
                    },
                    "metadata": {}
                },
                {
                    "output_type": "execute_result",
                    "execution_count": 1,
                    "data": {
                        "application/vnd.dataresource+json": {
                            "schema": {
                                "fields": [
                                    {
                                        "name": "current_timestamp"
                                    }
                                ]
                            },
                            "data": [
                                {
                                    "current_timestamp": "2024-09-07 23:42:02.844127+08"
                                }
                            ]
                        },
                        "text/html": "<table><tr><th>current_timestamp</th></tr><tr><td>2024-09-07 23:42:02.844127+08</td></tr></table>"
                    },
                    "metadata": {}
                }
            ],
            "execution_count": 1
        },
        {
            "cell_type": "code",
            "source": [
                "select * from customers limit 1"
            ],
            "metadata": {
                "language": "sql",
                "azdata_cell_guid": "e616edc7-3906-453d-b5ce-d603d0fc7606"
            },
            "outputs": [
                {
                    "output_type": "display_data",
                    "data": {
                        "text/html": "(1 row(s) affected)"
                    },
                    "metadata": {}
                },
                {
                    "output_type": "display_data",
                    "data": {
                        "text/html": "Total execution time: 00:00:00.002"
                    },
                    "metadata": {}
                },
                {
                    "output_type": "execute_result",
                    "execution_count": 2,
                    "data": {
                        "application/vnd.dataresource+json": {
                            "schema": {
                                "fields": [
                                    {
                                        "name": "customerid"
                                    },
                                    {
                                        "name": "firstname"
                                    },
                                    {
                                        "name": "lastname"
                                    },
                                    {
                                        "name": "address1"
                                    },
                                    {
                                        "name": "address2"
                                    },
                                    {
                                        "name": "city"
                                    },
                                    {
                                        "name": "state"
                                    },
                                    {
                                        "name": "zip"
                                    },
                                    {
                                        "name": "country"
                                    },
                                    {
                                        "name": "region"
                                    },
                                    {
                                        "name": "email"
                                    },
                                    {
                                        "name": "phone"
                                    },
                                    {
                                        "name": "creditcardtype"
                                    },
                                    {
                                        "name": "creditcard"
                                    },
                                    {
                                        "name": "creditcardexpiration"
                                    },
                                    {
                                        "name": "username"
                                    },
                                    {
                                        "name": "password"
                                    },
                                    {
                                        "name": "age"
                                    },
                                    {
                                        "name": "income"
                                    },
                                    {
                                        "name": "gender"
                                    }
                                ]
                            },
                            "data": [
                                {
                                    "customerid": "1",
                                    "firstname": "RNPOJG",
                                    "lastname": "FQIVBKWIZC",
                                    "address1": "1287944454 Dell Way",
                                    "address2": "",
                                    "city": "XCXNWIS",
                                    "state": "ND",
                                    "zip": "42572",
                                    "country": "US",
                                    "region": "1",
                                    "email": "FQIVBKWIZC@dell.com",
                                    "phone": "1287944454",
                                    "creditcardtype": "5",
                                    "creditcard": "1890860486775636",
                                    "creditcardexpiration": "2012/06",
                                    "username": "user1",
                                    "password": "password",
                                    "age": "49",
                                    "income": "80000",
                                    "gender": "M"
                                }
                            ]
                        },
                        "text/html": "<table><tr><th>customerid</th><th>firstname</th><th>lastname</th><th>address1</th><th>address2</th><th>city</th><th>state</th><th>zip</th><th>country</th><th>region</th><th>email</th><th>phone</th><th>creditcardtype</th><th>creditcard</th><th>creditcardexpiration</th><th>username</th><th>password</th><th>age</th><th>income</th><th>gender</th></tr><tr><td>1</td><td>RNPOJG</td><td>FQIVBKWIZC</td><td>1287944454 Dell Way</td><td></td><td>XCXNWIS</td><td>ND</td><td>42572</td><td>US</td><td>1</td><td>FQIVBKWIZC@dell.com</td><td>1287944454</td><td>5</td><td>1890860486775636</td><td>2012/06</td><td>user1</td><td>password</td><td>49</td><td>80000</td><td>M</td></tr></table>"
                    },
                    "metadata": {}
                }
            ],
            "execution_count": 2
        },
        {
            "cell_type": "code",
            "source": [
                "SELECT\n",
                "    c.firstname,\n",
                "    c.lastname,\n",
                "    o.orderid,\n",
                "    o.netamount\n",
                "    from customers C\n",
                "    join orders O\n",
                "    on c.customerid = o.customerid limit 10;"
            ],
            "metadata": {
                "language": "sql",
                "azdata_cell_guid": "de3e4622-a136-45f9-bd57-65749657ec65"
            },
            "outputs": [
                {
                    "output_type": "display_data",
                    "data": {
                        "text/html": "(10 row(s) affected)"
                    },
                    "metadata": {}
                },
                {
                    "output_type": "display_data",
                    "data": {
                        "text/html": "Total execution time: 00:00:00.002"
                    },
                    "metadata": {}
                },
                {
                    "output_type": "execute_result",
                    "execution_count": 4,
                    "data": {
                        "application/vnd.dataresource+json": {
                            "schema": {
                                "fields": [
                                    {
                                        "name": "firstname"
                                    },
                                    {
                                        "name": "lastname"
                                    },
                                    {
                                        "name": "orderid"
                                    },
                                    {
                                        "name": "netamount"
                                    }
                                ]
                            },
                            "data": [
                                {
                                    "firstname": "RKLQYY",
                                    "lastname": "HPUIUYBWZX",
                                    "orderid": "10677",
                                    "netamount": "5.08"
                                },
                                {
                                    "firstname": "GWPSHI",
                                    "lastname": "QWRLBUPCHY",
                                    "orderid": "2337",
                                    "netamount": "39.06"
                                },
                                {
                                    "firstname": "FCHDNP",
                                    "lastname": "FQZNEVVHNA",
                                    "orderid": "9077",
                                    "netamount": "323.30"
                                },
                                {
                                    "firstname": "HOMUAY",
                                    "lastname": "BCTJTZIEZQ",
                                    "orderid": "6239",
                                    "netamount": "341.44"
                                },
                                {
                                    "firstname": "UZCYBH",
                                    "lastname": "NKKNSRDQGC",
                                    "orderid": "1187",
                                    "netamount": "285.39"
                                },
                                {
                                    "firstname": "YADYNS",
                                    "lastname": "VBVFOAENRH",
                                    "orderid": "3710",
                                    "netamount": "350.87"
                                },
                                {
                                    "firstname": "ZGYPBI",
                                    "lastname": "NKKQMREHPQ",
                                    "orderid": "379",
                                    "netamount": "227.45"
                                },
                                {
                                    "firstname": "ZGYPBI",
                                    "lastname": "NKKQMREHPQ",
                                    "orderid": "9447",
                                    "netamount": "83.31"
                                },
                                {
                                    "firstname": "PFIWAF",
                                    "lastname": "MQGNVHRTNH",
                                    "orderid": "3075",
                                    "netamount": "33.63"
                                },
                                {
                                    "firstname": "PQJVZM",
                                    "lastname": "PCCNFVKLZE",
                                    "orderid": "5019",
                                    "netamount": "256.30"
                                }
                            ]
                        },
                        "text/html": "<table><tr><th>firstname</th><th>lastname</th><th>orderid</th><th>netamount</th></tr><tr><td>RKLQYY</td><td>HPUIUYBWZX</td><td>10677</td><td>5.08</td></tr><tr><td>GWPSHI</td><td>QWRLBUPCHY</td><td>2337</td><td>39.06</td></tr><tr><td>FCHDNP</td><td>FQZNEVVHNA</td><td>9077</td><td>323.30</td></tr><tr><td>HOMUAY</td><td>BCTJTZIEZQ</td><td>6239</td><td>341.44</td></tr><tr><td>UZCYBH</td><td>NKKNSRDQGC</td><td>1187</td><td>285.39</td></tr><tr><td>YADYNS</td><td>VBVFOAENRH</td><td>3710</td><td>350.87</td></tr><tr><td>ZGYPBI</td><td>NKKQMREHPQ</td><td>379</td><td>227.45</td></tr><tr><td>ZGYPBI</td><td>NKKQMREHPQ</td><td>9447</td><td>83.31</td></tr><tr><td>PFIWAF</td><td>MQGNVHRTNH</td><td>3075</td><td>33.63</td></tr><tr><td>PQJVZM</td><td>PCCNFVKLZE</td><td>5019</td><td>256.30</td></tr></table>"
                    },
                    "metadata": {}
                }
            ],
            "execution_count": 4
        },
        {
            "cell_type": "code",
            "source": [
                "create or replace view cust_orders \n",
                "as \n",
                "SELECT\n",
                "    c.firstname,\n",
                "    c.lastname,\n",
                "    o.orderid,\n",
                "    o.netamount\n",
                "    from customers C\n",
                "    join orders O\n",
                "    on c.customerid = o.customerid limit 10;"
            ],
            "metadata": {
                "azdata_cell_guid": "bd157658-4765-4e4a-b05c-c3b40bc960da",
                "language": "sql"
            },
            "outputs": [
                {
                    "output_type": "display_data",
                    "data": {
                        "text/html": "CREATE VIEW"
                    },
                    "metadata": {}
                },
                {
                    "output_type": "display_data",
                    "data": {
                        "text/html": "Total execution time: 00:00:00.003"
                    },
                    "metadata": {}
                }
            ],
            "execution_count": 5
        },
        {
            "cell_type": "code",
            "source": [
                "select * from cust_orders;"
            ],
            "metadata": {
                "language": "sql",
                "azdata_cell_guid": "7cf9ec75-e87c-46ab-b476-c3d7e70a393d"
            },
            "outputs": [
                {
                    "output_type": "error",
                    "ename": "",
                    "evalue": "relation \"cust_orders\" does not exist",
                    "traceback": []
                },
                {
                    "output_type": "display_data",
                    "data": {
                        "text/html": "Total execution time: 00:00:00"
                    },
                    "metadata": {}
                }
            ],
            "execution_count": 18
        },
        {
            "cell_type": "code",
            "source": [
                "create function cust_orders()\n",
                "    returns table (firstname varchar, lastname varchar, orderid int, netamount numeric)\n",
                "    as $$\n",
                "SELECT\n",
                "    c.firstname,\n",
                "    c.lastname,\n",
                "    o.orderid,\n",
                "    o.netamount\n",
                "    from customers C\n",
                "    join orders O\n",
                "    on c.customerid = o.customerid limit 10\n",
                "$$ language sql;"
            ],
            "metadata": {
                "azdata_cell_guid": "9fa86251-8778-4a23-b96d-f91e07b55bbb",
                "language": "sql"
            },
            "outputs": [
                {
                    "output_type": "display_data",
                    "data": {
                        "text/html": "CREATE FUNCTION"
                    },
                    "metadata": {}
                },
                {
                    "output_type": "display_data",
                    "data": {
                        "text/html": "Total execution time: 00:00:00.001"
                    },
                    "metadata": {}
                }
            ],
            "execution_count": 7
        },
        {
            "cell_type": "code",
            "source": [
                "select * from cust_orders();"
            ],
            "metadata": {
                "language": "sql",
                "azdata_cell_guid": "246c0a57-7632-46cd-bd55-1902f5615654"
            },
            "outputs": [
                {
                    "output_type": "display_data",
                    "data": {
                        "text/html": "(10 row(s) affected)"
                    },
                    "metadata": {}
                },
                {
                    "output_type": "display_data",
                    "data": {
                        "text/html": "Total execution time: 00:00:00.001"
                    },
                    "metadata": {}
                },
                {
                    "output_type": "execute_result",
                    "execution_count": 8,
                    "data": {
                        "application/vnd.dataresource+json": {
                            "schema": {
                                "fields": [
                                    {
                                        "name": "firstname"
                                    },
                                    {
                                        "name": "lastname"
                                    },
                                    {
                                        "name": "orderid"
                                    },
                                    {
                                        "name": "netamount"
                                    }
                                ]
                            },
                            "data": [
                                {
                                    "firstname": "RKLQYY",
                                    "lastname": "HPUIUYBWZX",
                                    "orderid": "10677",
                                    "netamount": "5.08"
                                },
                                {
                                    "firstname": "GWPSHI",
                                    "lastname": "QWRLBUPCHY",
                                    "orderid": "2337",
                                    "netamount": "39.06"
                                },
                                {
                                    "firstname": "FCHDNP",
                                    "lastname": "FQZNEVVHNA",
                                    "orderid": "9077",
                                    "netamount": "323.30"
                                },
                                {
                                    "firstname": "HOMUAY",
                                    "lastname": "BCTJTZIEZQ",
                                    "orderid": "6239",
                                    "netamount": "341.44"
                                },
                                {
                                    "firstname": "UZCYBH",
                                    "lastname": "NKKNSRDQGC",
                                    "orderid": "1187",
                                    "netamount": "285.39"
                                },
                                {
                                    "firstname": "YADYNS",
                                    "lastname": "VBVFOAENRH",
                                    "orderid": "3710",
                                    "netamount": "350.87"
                                },
                                {
                                    "firstname": "ZGYPBI",
                                    "lastname": "NKKQMREHPQ",
                                    "orderid": "379",
                                    "netamount": "227.45"
                                },
                                {
                                    "firstname": "ZGYPBI",
                                    "lastname": "NKKQMREHPQ",
                                    "orderid": "9447",
                                    "netamount": "83.31"
                                },
                                {
                                    "firstname": "PFIWAF",
                                    "lastname": "MQGNVHRTNH",
                                    "orderid": "3075",
                                    "netamount": "33.63"
                                },
                                {
                                    "firstname": "PQJVZM",
                                    "lastname": "PCCNFVKLZE",
                                    "orderid": "5019",
                                    "netamount": "256.30"
                                }
                            ]
                        },
                        "text/html": "<table><tr><th>firstname</th><th>lastname</th><th>orderid</th><th>netamount</th></tr><tr><td>RKLQYY</td><td>HPUIUYBWZX</td><td>10677</td><td>5.08</td></tr><tr><td>GWPSHI</td><td>QWRLBUPCHY</td><td>2337</td><td>39.06</td></tr><tr><td>FCHDNP</td><td>FQZNEVVHNA</td><td>9077</td><td>323.30</td></tr><tr><td>HOMUAY</td><td>BCTJTZIEZQ</td><td>6239</td><td>341.44</td></tr><tr><td>UZCYBH</td><td>NKKNSRDQGC</td><td>1187</td><td>285.39</td></tr><tr><td>YADYNS</td><td>VBVFOAENRH</td><td>3710</td><td>350.87</td></tr><tr><td>ZGYPBI</td><td>NKKQMREHPQ</td><td>379</td><td>227.45</td></tr><tr><td>ZGYPBI</td><td>NKKQMREHPQ</td><td>9447</td><td>83.31</td></tr><tr><td>PFIWAF</td><td>MQGNVHRTNH</td><td>3075</td><td>33.63</td></tr><tr><td>PQJVZM</td><td>PCCNFVKLZE</td><td>5019</td><td>256.30</td></tr></table>"
                    },
                    "metadata": {}
                }
            ],
            "execution_count": 8
        },
        {
            "cell_type": "code",
            "source": [
                "create or replace function cust_orders(customerid int)\n",
                "    returns table (firstname varchar, lastname varchar, orderid int, netamount numeric)\n",
                "    as $$\n",
                "SELECT\n",
                "    c.firstname,\n",
                "    c.lastname,\n",
                "    o.orderid,\n",
                "    o.netamount\n",
                "    from customers C\n",
                "    join orders O\n",
                "    on c.customerid = o.customerid \n",
                "    where c.customerid = cust_orders.customerid\n",
                "    limit 10\n",
                "$$ language sql;"
            ],
            "metadata": {
                "language": "sql",
                "azdata_cell_guid": "73abe212-65c3-493b-b27e-9f96d40640b5"
            },
            "outputs": [
                {
                    "output_type": "display_data",
                    "data": {
                        "text/html": "CREATE FUNCTION"
                    },
                    "metadata": {}
                },
                {
                    "output_type": "display_data",
                    "data": {
                        "text/html": "Total execution time: 00:00:00.001"
                    },
                    "metadata": {}
                }
            ],
            "execution_count": 11
        },
        {
            "cell_type": "code",
            "source": [
                "select * from cust_orders(42);"
            ],
            "metadata": {
                "language": "sql",
                "azdata_cell_guid": "09382657-c8e6-4370-b110-da8b52cfe28d"
            },
            "outputs": [
                {
                    "output_type": "display_data",
                    "data": {
                        "text/html": "(1 row(s) affected)"
                    },
                    "metadata": {}
                },
                {
                    "output_type": "display_data",
                    "data": {
                        "text/html": "Total execution time: 00:00:00.001"
                    },
                    "metadata": {}
                },
                {
                    "output_type": "execute_result",
                    "execution_count": 17,
                    "data": {
                        "application/vnd.dataresource+json": {
                            "schema": {
                                "fields": [
                                    {
                                        "name": "firstname"
                                    },
                                    {
                                        "name": "lastname"
                                    },
                                    {
                                        "name": "orderid"
                                    },
                                    {
                                        "name": "netamount"
                                    }
                                ]
                            },
                            "data": [
                                {
                                    "firstname": "IGAITZ",
                                    "lastname": "ADIDJMAYUZ",
                                    "orderid": "11465",
                                    "netamount": "202.29"
                                }
                            ]
                        },
                        "text/html": "<table><tr><th>firstname</th><th>lastname</th><th>orderid</th><th>netamount</th></tr><tr><td>IGAITZ</td><td>ADIDJMAYUZ</td><td>11465</td><td>202.29</td></tr></table>"
                    },
                    "metadata": {}
                }
            ],
            "execution_count": 17
        },
        {
            "cell_type": "code",
            "source": [
                "drop view if exists cust_orders;\n",
                "drop function if exists cust_orders();\n",
                "drop function if exists cust_orders(int);"
            ],
            "metadata": {
                "language": "sql",
                "azdata_cell_guid": "1519cac3-8670-49b7-a5e2-145a437ec320"
            },
            "outputs": [
                {
                    "output_type": "display_data",
                    "data": {
                        "text/html": "NOTICE: view \"cust_orders\" does not exist, skipping"
                    },
                    "metadata": {}
                },
                {
                    "output_type": "display_data",
                    "data": {
                        "text/html": "DROP VIEW"
                    },
                    "metadata": {}
                },
                {
                    "output_type": "display_data",
                    "data": {
                        "text/html": "DROP FUNCTION"
                    },
                    "metadata": {}
                },
                {
                    "output_type": "display_data",
                    "data": {
                        "text/html": "DROP FUNCTION"
                    },
                    "metadata": {}
                },
                {
                    "output_type": "display_data",
                    "data": {
                        "text/html": "Total execution time: 00:00:00.002"
                    },
                    "metadata": {}
                }
            ],
            "execution_count": 19
        },
        {
            "cell_type": "markdown",
            "source": [
                "## Input Parameters and Return Values\n",
                "\n",
                "### Multiple input parameters\n",
                ""
            ],
            "metadata": {
                "language": "sql",
                "azdata_cell_guid": "951ca95b-559d-4ad6-9bd2-bf21a604c6ec"
            },
            "attachments": {}
        },
        {
            "cell_type": "code",
            "source": [
                "create or replace function my_pow(x double precision, y double precision)\n",
                "returns double precision\n",
                "as $$ \n",
                "select power(x, y)\n",
                "$$ language sql;"
            ],
            "metadata": {
                "language": "sql",
                "azdata_cell_guid": "0997d3a9-c8a0-47e7-b47b-e2b6c4465d58"
            },
            "outputs": [
                {
                    "output_type": "display_data",
                    "data": {
                        "text/html": "CREATE FUNCTION"
                    },
                    "metadata": {}
                },
                {
                    "output_type": "display_data",
                    "data": {
                        "text/html": "Total execution time: 00:00:00.001"
                    },
                    "metadata": {}
                }
            ],
            "execution_count": 21
        },
        {
            "cell_type": "code",
            "source": [
                "select my_pow(1,2)"
            ],
            "metadata": {
                "language": "sql",
                "azdata_cell_guid": "32fdcaad-f077-4ecb-9612-a947c73598a4"
            },
            "outputs": [
                {
                    "output_type": "display_data",
                    "data": {
                        "text/html": "(1 row(s) affected)"
                    },
                    "metadata": {}
                },
                {
                    "output_type": "display_data",
                    "data": {
                        "text/html": "Total execution time: 00:00:00.002"
                    },
                    "metadata": {}
                },
                {
                    "output_type": "execute_result",
                    "execution_count": 23,
                    "data": {
                        "application/vnd.dataresource+json": {
                            "schema": {
                                "fields": [
                                    {
                                        "name": "my_pow"
                                    }
                                ]
                            },
                            "data": [
                                {
                                    "my_pow": "1"
                                }
                            ]
                        },
                        "text/html": "<table><tr><th>my_pow</th></tr><tr><td>1</td></tr></table>"
                    },
                    "metadata": {}
                }
            ],
            "execution_count": 23
        },
        {
            "cell_type": "code",
            "source": [
                "select my_pow(PI(), log(42))"
            ],
            "metadata": {
                "language": "sql",
                "azdata_cell_guid": "2fa2896f-d154-406f-adb8-cacd6862cf56"
            },
            "outputs": [
                {
                    "output_type": "display_data",
                    "data": {
                        "text/html": "(1 row(s) affected)"
                    },
                    "metadata": {}
                },
                {
                    "output_type": "display_data",
                    "data": {
                        "text/html": "Total execution time: 00:00:00.001"
                    },
                    "metadata": {}
                },
                {
                    "output_type": "execute_result",
                    "execution_count": 25,
                    "data": {
                        "application/vnd.dataresource+json": {
                            "schema": {
                                "fields": [
                                    {
                                        "name": "my_pow"
                                    }
                                ]
                            },
                            "data": [
                                {
                                    "my_pow": "6.412068866243689"
                                }
                            ]
                        },
                        "text/html": "<table><tr><th>my_pow</th></tr><tr><td>6.412068866243689</td></tr></table>"
                    },
                    "metadata": {}
                }
            ],
            "execution_count": 25
        },
        {
            "cell_type": "markdown",
            "source": [
                "### Default values"
            ],
            "metadata": {
                "language": "sql",
                "azdata_cell_guid": "2051052b-e32f-4eda-8eda-ad8296d8707a"
            },
            "attachments": {}
        },
        {
            "cell_type": "code",
            "source": [
                "create or replace function my_default(x int = 42) \n",
                "RETURNS INT\n",
                "as $$\n",
                "    SELECT x;\n",
                "    $$ language sql;"
            ],
            "metadata": {
                "language": "sql",
                "azdata_cell_guid": "a969590a-dd2e-4981-80ba-8209ef261388"
            },
            "outputs": [
                {
                    "output_type": "display_data",
                    "data": {
                        "text/html": "CREATE FUNCTION"
                    },
                    "metadata": {}
                },
                {
                    "output_type": "display_data",
                    "data": {
                        "text/html": "Total execution time: 00:00:00.001"
                    },
                    "metadata": {}
                }
            ],
            "execution_count": 27
        },
        {
            "cell_type": "code",
            "source": [
                "select my_default()"
            ],
            "metadata": {
                "language": "sql",
                "azdata_cell_guid": "360cb281-7079-4bbc-accd-6da0ec2a8f06"
            },
            "outputs": [
                {
                    "output_type": "display_data",
                    "data": {
                        "text/html": "(1 row(s) affected)"
                    },
                    "metadata": {}
                },
                {
                    "output_type": "display_data",
                    "data": {
                        "text/html": "Total execution time: 00:00:00.003"
                    },
                    "metadata": {}
                },
                {
                    "output_type": "execute_result",
                    "execution_count": 28,
                    "data": {
                        "application/vnd.dataresource+json": {
                            "schema": {
                                "fields": [
                                    {
                                        "name": "my_default"
                                    }
                                ]
                            },
                            "data": [
                                {
                                    "my_default": "42"
                                }
                            ]
                        },
                        "text/html": "<table><tr><th>my_default</th></tr><tr><td>42</td></tr></table>"
                    },
                    "metadata": {}
                }
            ],
            "execution_count": 28
        },
        {
            "cell_type": "markdown",
            "source": [
                "### Using arrays for multiple input values"
            ],
            "metadata": {
                "language": "sql",
                "azdata_cell_guid": "83f952f4-717f-466d-829f-61dcb5cca78f"
            },
            "attachments": {}
        },
        {
            "cell_type": "code",
            "source": [
                "create or replace function array_sum(int_array int[])\n",
                "RETURNs int \n",
                "as $$\n",
                "    select sum(el) \n",
                "    from unnest(int_array) as arr(el);\n",
                "    $$ language sql;"
            ],
            "metadata": {
                "language": "sql",
                "azdata_cell_guid": "7046a8d7-13e2-47bd-aa3c-ac24dec9ef8a"
            },
            "outputs": [
                {
                    "output_type": "display_data",
                    "data": {
                        "text/html": "CREATE FUNCTION"
                    },
                    "metadata": {}
                },
                {
                    "output_type": "display_data",
                    "data": {
                        "text/html": "Total execution time: 00:00:00.001"
                    },
                    "metadata": {}
                }
            ],
            "execution_count": 32
        },
        {
            "cell_type": "code",
            "source": [
                "select array_sum(array[1,2,3])"
            ],
            "metadata": {
                "language": "sql",
                "azdata_cell_guid": "d4171e65-7599-482d-8535-8ac92c4f857d"
            },
            "outputs": [
                {
                    "output_type": "display_data",
                    "data": {
                        "text/html": "(1 row(s) affected)"
                    },
                    "metadata": {}
                },
                {
                    "output_type": "display_data",
                    "data": {
                        "text/html": "Total execution time: 00:00:00.001"
                    },
                    "metadata": {}
                },
                {
                    "output_type": "execute_result",
                    "execution_count": 34,
                    "data": {
                        "application/vnd.dataresource+json": {
                            "schema": {
                                "fields": [
                                    {
                                        "name": "array_sum"
                                    }
                                ]
                            },
                            "data": [
                                {
                                    "array_sum": "6"
                                }
                            ]
                        },
                        "text/html": "<table><tr><th>array_sum</th></tr><tr><td>6</td></tr></table>"
                    },
                    "metadata": {}
                }
            ],
            "execution_count": 34
        },
        {
            "cell_type": "markdown",
            "source": [
                "## Arrays and multiple return values\n",
                ""
            ],
            "metadata": {
                "language": "sql",
                "azdata_cell_guid": "5c2b67ac-72c1-4c0f-9bcb-94efedf81e3c"
            },
            "attachments": {}
        },
        {
            "cell_type": "code",
            "source": [
                "create or replace function array_sum_avg(int_array int[])\n",
                "RETURNS table (array_sum bigint, array_avg numeric)\n",
                "as $$\n",
                "select sum(el), avg(el)::numeric(5,2)\n",
                "from unnest(int_array) as arr(el);\n",
                "$$ language sql;"
            ],
            "metadata": {
                "language": "sql",
                "azdata_cell_guid": "3aa3f26b-acaa-48fa-8e50-fca701c0edc5"
            },
            "outputs": [
                {
                    "output_type": "display_data",
                    "data": {
                        "text/html": "CREATE FUNCTION"
                    },
                    "metadata": {}
                },
                {
                    "output_type": "display_data",
                    "data": {
                        "text/html": "Total execution time: 00:00:00.001"
                    },
                    "metadata": {}
                }
            ],
            "execution_count": 37
        },
        {
            "cell_type": "code",
            "source": [
                "select array_sum_avg(array[1,2,3]) as \"Record type\";\n",
                "\n",
                ""
            ],
            "metadata": {
                "language": "sql",
                "azdata_cell_guid": "748bbf7c-7c40-4312-9d5c-debb1b1fc54b"
            },
            "outputs": [
                {
                    "output_type": "display_data",
                    "data": {
                        "text/html": "(1 row(s) affected)"
                    },
                    "metadata": {}
                },
                {
                    "output_type": "display_data",
                    "data": {
                        "text/html": "Total execution time: 00:00:00.001"
                    },
                    "metadata": {}
                },
                {
                    "output_type": "execute_result",
                    "execution_count": 39,
                    "data": {
                        "application/vnd.dataresource+json": {
                            "schema": {
                                "fields": [
                                    {
                                        "name": "Record type"
                                    }
                                ]
                            },
                            "data": [
                                {
                                    "Record type": "(6,2.00)"
                                }
                            ]
                        },
                        "text/html": "<table><tr><th>Record type</th></tr><tr><td>(6,2.00)</td></tr></table>"
                    },
                    "metadata": {}
                }
            ],
            "execution_count": 39
        },
        {
            "cell_type": "code",
            "source": [
                "select * from array_sum_avg(array[1,2,3])"
            ],
            "metadata": {
                "language": "sql",
                "azdata_cell_guid": "503b5e54-44c9-41ba-812c-e2eb26e440eb"
            },
            "outputs": [
                {
                    "output_type": "display_data",
                    "data": {
                        "text/html": "(1 row(s) affected)"
                    },
                    "metadata": {}
                },
                {
                    "output_type": "display_data",
                    "data": {
                        "text/html": "Total execution time: 00:00:00.001"
                    },
                    "metadata": {}
                },
                {
                    "output_type": "execute_result",
                    "execution_count": 41,
                    "data": {
                        "application/vnd.dataresource+json": {
                            "schema": {
                                "fields": [
                                    {
                                        "name": "array_sum"
                                    },
                                    {
                                        "name": "array_avg"
                                    }
                                ]
                            },
                            "data": [
                                {
                                    "array_sum": "6",
                                    "array_avg": "2.00"
                                }
                            ]
                        },
                        "text/html": "<table><tr><th>array_sum</th><th>array_avg</th></tr><tr><td>6</td><td>2.00</td></tr></table>"
                    },
                    "metadata": {}
                }
            ],
            "execution_count": 41
        },
        {
            "cell_type": "markdown",
            "source": [
                "## Output arguments\n",
                ""
            ],
            "metadata": {
                "language": "sql",
                "azdata_cell_guid": "75838359-4d60-4002-98db-96b96ff41b8f"
            },
            "attachments": {}
        },
        {
            "cell_type": "code",
            "source": [
                "create or replace function get_cust_name (\n",
                "    in id int,\n",
                "    out firstname varchar,\n",
                "    out lastname varchar\n",
                ") as $$\n",
                "    select c.firstname, c.lastname from customers C\n",
                "    where c.customerid = id;\n",
                "    $$ language sql;"
            ],
            "metadata": {
                "language": "sql",
                "azdata_cell_guid": "9c3b1928-299c-4adf-8792-29a2d8775920"
            },
            "outputs": [
                {
                    "output_type": "display_data",
                    "data": {
                        "text/html": "CREATE FUNCTION"
                    },
                    "metadata": {}
                },
                {
                    "output_type": "display_data",
                    "data": {
                        "text/html": "Total execution time: 00:00:00.001"
                    },
                    "metadata": {}
                }
            ],
            "execution_count": 3
        },
        {
            "cell_type": "code",
            "source": [
                "SELECT * from get_cust_name(42);"
            ],
            "metadata": {
                "language": "sql",
                "azdata_cell_guid": "684fea16-0583-4102-a8ad-fee9503ad81b"
            },
            "outputs": [
                {
                    "output_type": "display_data",
                    "data": {
                        "text/html": "(1 row(s) affected)"
                    },
                    "metadata": {}
                },
                {
                    "output_type": "display_data",
                    "data": {
                        "text/html": "Total execution time: 00:00:00.007"
                    },
                    "metadata": {}
                },
                {
                    "output_type": "execute_result",
                    "execution_count": 6,
                    "data": {
                        "application/vnd.dataresource+json": {
                            "schema": {
                                "fields": [
                                    {
                                        "name": "firstname"
                                    },
                                    {
                                        "name": "lastname"
                                    }
                                ]
                            },
                            "data": [
                                {
                                    "firstname": "IGAITZ",
                                    "lastname": "ADIDJMAYUZ"
                                }
                            ]
                        },
                        "text/html": "<table><tr><th>firstname</th><th>lastname</th></tr><tr><td>IGAITZ</td><td>ADIDJMAYUZ</td></tr></table>"
                    },
                    "metadata": {}
                }
            ],
            "execution_count": 6
        },
        {
            "cell_type": "markdown",
            "source": [
                "## Returns a table revisited"
            ],
            "metadata": {
                "language": "sql",
                "azdata_cell_guid": "3a25bc31-4f5f-4300-80c8-62c181658a1d"
            },
            "attachments": {}
        },
        {
            "cell_type": "code",
            "source": [
                "create or replace function get_cust_names(id1 int, id2 int) \n",
                "returns table (firstname varchar, lastname varchar)\n",
                "as $$\n",
                "select c.firstname, c.lastname from customers C\n",
                "where c.customerid between id1 and id2;\n",
                "$$ language sql;"
            ],
            "metadata": {
                "language": "sql",
                "azdata_cell_guid": "0faf5d96-68b0-488d-a69d-26b1e920701b"
            },
            "outputs": [
                {
                    "output_type": "display_data",
                    "data": {
                        "text/html": "CREATE FUNCTION"
                    },
                    "metadata": {}
                },
                {
                    "output_type": "display_data",
                    "data": {
                        "text/html": "Total execution time: 00:00:00.001"
                    },
                    "metadata": {}
                }
            ],
            "execution_count": 7
        },
        {
            "cell_type": "code",
            "source": [
                "select * from get_cust_names(1, 5);"
            ],
            "metadata": {
                "language": "sql",
                "azdata_cell_guid": "3d508242-e363-4f16-9297-37cdd12dd98a"
            },
            "outputs": [
                {
                    "output_type": "display_data",
                    "data": {
                        "text/html": "(5 row(s) affected)"
                    },
                    "metadata": {}
                },
                {
                    "output_type": "display_data",
                    "data": {
                        "text/html": "Total execution time: 00:00:00.003"
                    },
                    "metadata": {}
                },
                {
                    "output_type": "execute_result",
                    "execution_count": 10,
                    "data": {
                        "application/vnd.dataresource+json": {
                            "schema": {
                                "fields": [
                                    {
                                        "name": "firstname"
                                    },
                                    {
                                        "name": "lastname"
                                    }
                                ]
                            },
                            "data": [
                                {
                                    "firstname": "RNPOJG",
                                    "lastname": "FQIVBKWIZC"
                                },
                                {
                                    "firstname": "RKLQYY",
                                    "lastname": "HPUIUYBWZX"
                                },
                                {
                                    "firstname": "GWPSHI",
                                    "lastname": "QWRLBUPCHY"
                                },
                                {
                                    "firstname": "ONCPHI",
                                    "lastname": "TZIJOMZQJJ"
                                },
                                {
                                    "firstname": "CIDXWX",
                                    "lastname": "GNYGKZXSCR"
                                }
                            ]
                        },
                        "text/html": "<table><tr><th>firstname</th><th>lastname</th></tr><tr><td>RNPOJG</td><td>FQIVBKWIZC</td></tr><tr><td>RKLQYY</td><td>HPUIUYBWZX</td></tr><tr><td>GWPSHI</td><td>QWRLBUPCHY</td></tr><tr><td>ONCPHI</td><td>TZIJOMZQJJ</td></tr><tr><td>CIDXWX</td><td>GNYGKZXSCR</td></tr></table>"
                    },
                    "metadata": {}
                }
            ],
            "execution_count": 10
        },
        {
            "cell_type": "code",
            "source": [
                "-- drop function if exists get_cust_names(id1 int, id2 int)\n",
                "\n",
                "create or replace function get_cust_names2(\n",
                "    inout id1 int, id2 int,\n",
                "    out firstname varchar,\n",
                "    out lastname varchar\n",
                ") as $$\n",
                "select c.customerid, c.firstname, c.lastname from customers c\n",
                "where c.customerid between id1 and id2\n",
                "-- order by c.customerid desc\n",
                "$$ language sql"
            ],
            "metadata": {
                "azdata_cell_guid": "bacd92c4-e992-40f0-9478-470801e1d0c3",
                "language": "sql"
            },
            "outputs": [
                {
                    "output_type": "display_data",
                    "data": {
                        "text/html": "CREATE FUNCTION"
                    },
                    "metadata": {}
                },
                {
                    "output_type": "display_data",
                    "data": {
                        "text/html": "Total execution time: 00:00:00.001"
                    },
                    "metadata": {}
                }
            ],
            "execution_count": 14
        },
        {
            "cell_type": "code",
            "source": [
                "select \n",
                "id1 as customerid,\n",
                "firstname, \n",
                "lastname\n",
                " from get_cust_names2(1,5);"
            ],
            "metadata": {
                "language": "sql",
                "azdata_cell_guid": "87498a3a-b523-4b2f-aa0b-2caea5c24e5e",
                "tags": []
            },
            "outputs": [
                {
                    "output_type": "display_data",
                    "data": {
                        "text/html": "(1 row(s) affected)"
                    },
                    "metadata": {}
                },
                {
                    "output_type": "display_data",
                    "data": {
                        "text/html": "Total execution time: 00:00:00.001"
                    },
                    "metadata": {}
                },
                {
                    "output_type": "execute_result",
                    "execution_count": 16,
                    "data": {
                        "application/vnd.dataresource+json": {
                            "schema": {
                                "fields": [
                                    {
                                        "name": "customerid"
                                    },
                                    {
                                        "name": "firstname"
                                    },
                                    {
                                        "name": "lastname"
                                    }
                                ]
                            },
                            "data": [
                                {
                                    "customerid": "1",
                                    "firstname": "RNPOJG",
                                    "lastname": "FQIVBKWIZC"
                                }
                            ]
                        },
                        "text/html": "<table><tr><th>customerid</th><th>firstname</th><th>lastname</th></tr><tr><td>1</td><td>RNPOJG</td><td>FQIVBKWIZC</td></tr></table>"
                    },
                    "metadata": {}
                }
            ],
            "execution_count": 16
        },
        {
            "cell_type": "code",
            "source": [
                "\n",
                "select \n",
                "id1 as customerid,\n",
                "firstname, \n",
                "lastname\n",
                " from get_cust_names2(-1,-25);"
            ],
            "metadata": {
                "language": "sql",
                "azdata_cell_guid": "df9e5ff0-6e6c-4a18-8229-d2eefc471ea4"
            },
            "outputs": [
                {
                    "output_type": "display_data",
                    "data": {
                        "text/html": "(1 row(s) affected)"
                    },
                    "metadata": {}
                },
                {
                    "output_type": "display_data",
                    "data": {
                        "text/html": "Total execution time: 00:00:00.001"
                    },
                    "metadata": {}
                },
                {
                    "output_type": "execute_result",
                    "execution_count": 17,
                    "data": {
                        "application/vnd.dataresource+json": {
                            "schema": {
                                "fields": [
                                    {
                                        "name": "customerid"
                                    },
                                    {
                                        "name": "firstname"
                                    },
                                    {
                                        "name": "lastname"
                                    }
                                ]
                            },
                            "data": [
                                {
                                    "customerid": "NULL",
                                    "firstname": "NULL",
                                    "lastname": "NULL"
                                }
                            ]
                        },
                        "text/html": "<table><tr><th>customerid</th><th>firstname</th><th>lastname</th></tr><tr><td>NULL</td><td>NULL</td><td>NULL</td></tr></table>"
                    },
                    "metadata": {}
                }
            ],
            "execution_count": 17
        },
        {
            "cell_type": "code",
            "source": [
                "select \n",
                "firstname, \n",
                "lastname\n",
                " from get_cust_names(-1,-25);"
            ],
            "metadata": {
                "language": "sql",
                "azdata_cell_guid": "37e56da0-b044-48a6-997b-a95c11fcc2d3"
            },
            "outputs": [
                {
                    "output_type": "display_data",
                    "data": {
                        "text/html": "(0 row(s) affected)"
                    },
                    "metadata": {}
                },
                {
                    "output_type": "display_data",
                    "data": {
                        "text/html": "Total execution time: 00:00:00.001"
                    },
                    "metadata": {}
                },
                {
                    "output_type": "execute_result",
                    "execution_count": 19,
                    "data": {
                        "application/vnd.dataresource+json": {
                            "schema": {
                                "fields": [
                                    {
                                        "name": "firstname"
                                    },
                                    {
                                        "name": "lastname"
                                    }
                                ]
                            },
                            "data": []
                        },
                        "text/html": "<table><tr><th>firstname</th><th>lastname</th></tr></table>"
                    },
                    "metadata": {}
                }
            ],
            "execution_count": 19
        },
        {
            "cell_type": "code",
            "source": [
                "drop function if EXISTS get_cust_name(id int, out firstname varchar, out lastname varchar);\n",
                "drop function if EXISTS get_cust_names(id1 int, id1 int, out firstname varchar, out lastname varchar);\n",
                "drop function if EXISTS get_cust_names(input id1 int, id1 int, out firstname varchar, out lastname varchar);\n",
                "drop function if EXISTS get_cust_names(id1 int, id1 int);"
            ],
            "metadata": {
                "language": "sql",
                "azdata_cell_guid": "199ba132-8354-4988-ac89-9a98a7377ee7"
            },
            "outputs": [],
            "execution_count": null
        },
        {
            "cell_type": "markdown",
            "source": [
                "## Calling Functions"
            ],
            "metadata": {
                "language": "sql",
                "azdata_cell_guid": "d55b56d3-ca6f-46db-856a-0c9044197f13"
            },
            "attachments": {}
        },
        {
            "cell_type": "code",
            "source": [
                "create or replace function call_me(x int, y int, sw boolean = True) returns INT\n",
                "as $$\n",
                "select x + y where sw \n",
                "union ALL\n",
                "select x - y where not sw;\n",
                "$$ language sql;"
            ],
            "metadata": {
                "language": "sql",
                "azdata_cell_guid": "091d61b0-8659-40f5-ac3b-7d83e5f22958",
                "tags": [
                    "hide_input"
                ]
            },
            "outputs": [
                {
                    "output_type": "display_data",
                    "data": {
                        "text/html": "CREATE FUNCTION"
                    },
                    "metadata": {}
                },
                {
                    "output_type": "display_data",
                    "data": {
                        "text/html": "Total execution time: 00:00:00.003"
                    },
                    "metadata": {}
                }
            ],
            "execution_count": 20
        },
        {
            "cell_type": "code",
            "source": [
                "select call_me(42, -42 ) as \"Positional arguments\",\n",
                "call_me(x := 42, y := -42) as \"Named arguments\",\n",
                "call_me(42, -42, False) as \"Positional arguments with switch\",\n",
                "call_me(42, -42, sw := False) as \"Mixed positional and named\";"
            ],
            "metadata": {
                "language": "sql",
                "azdata_cell_guid": "1a87f1a5-e623-4ee5-9084-1cbe609f53d8"
            },
            "outputs": [
                {
                    "output_type": "display_data",
                    "data": {
                        "text/html": "(1 row(s) affected)"
                    },
                    "metadata": {}
                },
                {
                    "output_type": "display_data",
                    "data": {
                        "text/html": "Total execution time: 00:00:00.002"
                    },
                    "metadata": {}
                },
                {
                    "output_type": "execute_result",
                    "execution_count": 21,
                    "data": {
                        "application/vnd.dataresource+json": {
                            "schema": {
                                "fields": [
                                    {
                                        "name": "Positional arguments"
                                    },
                                    {
                                        "name": "Named arguments"
                                    },
                                    {
                                        "name": "Positional arguments with switch"
                                    },
                                    {
                                        "name": "Mixed positional and named"
                                    }
                                ]
                            },
                            "data": [
                                {
                                    "Positional arguments": "0",
                                    "Named arguments": "0",
                                    "Positional arguments with switch": "84",
                                    "Mixed positional and named": "84"
                                }
                            ]
                        },
                        "text/html": "<table><tr><th>Positional arguments</th><th>Named arguments</th><th>Positional arguments with switch</th><th>Mixed positional and named</th></tr><tr><td>0</td><td>0</td><td>84</td><td>84</td></tr></table>"
                    },
                    "metadata": {}
                }
            ],
            "execution_count": 21
        },
        {
            "cell_type": "code",
            "source": [
                "select call_me(x := 42, y := -42, False) as \"Named Followed by positional\";"
            ],
            "metadata": {
                "language": "sql",
                "azdata_cell_guid": "8cd43723-a300-4201-a4a8-87eb5debe421"
            },
            "outputs": [
                {
                    "output_type": "error",
                    "ename": "",
                    "evalue": "positional argument cannot follow named argument",
                    "traceback": []
                },
                {
                    "output_type": "display_data",
                    "data": {
                        "text/html": "Total execution time: 00:00:00"
                    },
                    "metadata": {}
                }
            ],
            "execution_count": 23
        },
        {
            "cell_type": "code",
            "source": [
                "create or replace function call_me2(x int, y int, sw boolean = false) returns INT\n",
                "as $$\n",
                "select x + y where sw\n",
                "union ALL\n",
                "select x - y where not sw\n",
                "$$ language sql;"
            ],
            "metadata": {
                "language": "sql",
                "azdata_cell_guid": "2767202f-807c-45e6-b261-4fa893f44634",
                "tags": [
                    "hide_input"
                ]
            },
            "outputs": [
                {
                    "output_type": "display_data",
                    "data": {
                        "text/html": "CREATE FUNCTION"
                    },
                    "metadata": {}
                },
                {
                    "output_type": "display_data",
                    "data": {
                        "text/html": "执行时间总计: 00:00:00"
                    },
                    "metadata": {}
                }
            ],
            "execution_count": 2
        },
        {
            "cell_type": "code",
            "source": [
                "select call_me2(42, -42 ) as \"Positional arguments\",\n",
                "call_me2(x := 42, y := -42) as \"Named arguments\",\n",
                "call_me2(42, -42, False) as \"Positional arguments with switch\",\n",
                "call_me2(42, -42, sw := False) as \"Mixed positional and named\";"
            ],
            "metadata": {
                "language": "sql",
                "azdata_cell_guid": "811824ba-2944-42bf-86a2-671f804d221f",
                "tags": []
            },
            "outputs": [
                {
                    "output_type": "display_data",
                    "data": {
                        "text/html": "(1 row(s) affected)"
                    },
                    "metadata": {}
                },
                {
                    "output_type": "display_data",
                    "data": {
                        "text/html": "执行时间总计: 00:00:00.024"
                    },
                    "metadata": {}
                },
                {
                    "output_type": "execute_result",
                    "execution_count": 3,
                    "data": {
                        "application/vnd.dataresource+json": {
                            "schema": {
                                "fields": [
                                    {
                                        "name": "Positional arguments"
                                    },
                                    {
                                        "name": "Named arguments"
                                    },
                                    {
                                        "name": "Positional arguments with switch"
                                    },
                                    {
                                        "name": "Mixed positional and named"
                                    }
                                ]
                            },
                            "data": [
                                {
                                    "Positional arguments": "84",
                                    "Named arguments": "84",
                                    "Positional arguments with switch": "84",
                                    "Mixed positional and named": "84"
                                }
                            ]
                        },
                        "text/html": "<table><tr><th>Positional arguments</th><th>Named arguments</th><th>Positional arguments with switch</th><th>Mixed positional and named</th></tr><tr><td>84</td><td>84</td><td>84</td><td>84</td></tr></table>"
                    },
                    "metadata": {}
                }
            ],
            "execution_count": 3
        },
        {
            "cell_type": "code",
            "source": [
                "SELECT\r\n",
                "    c.column_name,\r\n",
                "    pgd.description\r\n",
                "FROM\r\n",
                "    pg_catalog.pg_statio_all_tables as st\r\n",
                "    INNER JOIN pg_catalog.pg_description pgd ON (pgd.objoid = st.relid)\r\n",
                "    INNER JOIN information_schema.columns c ON (pgd.objsubid = c.ordinal_position\r\n",
                "        AND c.table_schema = st.schemaname AND c.table_name = st.relname)"
            ],
            "metadata": {
                "language": "sql",
                "azdata_cell_guid": "ba3efffb-677e-4fbf-9561-10843fda40bf"
            },
            "outputs": [
                {
                    "output_type": "display_data",
                    "data": {
                        "text/html": "(11 row(s) affected)"
                    },
                    "metadata": {}
                },
                {
                    "output_type": "display_data",
                    "data": {
                        "text/html": "执行时间总计: 00:00:00.010"
                    },
                    "metadata": {}
                },
                {
                    "output_type": "execute_result",
                    "execution_count": 4,
                    "data": {
                        "application/vnd.dataresource+json": {
                            "schema": {
                                "fields": [
                                    {
                                        "name": "column_name"
                                    },
                                    {
                                        "name": "description"
                                    }
                                ]
                            },
                            "data": [
                                {
                                    "column_name": "jobagentid",
                                    "description": "Agent that currently executes this job."
                                },
                                {
                                    "column_name": "jstkind",
                                    "description": "Kind of jobstep: s=sql, b=batch"
                                },
                                {
                                    "column_name": "jstonerror",
                                    "description": "What to do if step returns an error: f=fail the job, s=mark step as succeeded and continue, i=mark as fail but ignore it and proceed"
                                },
                                {
                                    "column_name": "jlgstatus",
                                    "description": "Status of job: r=running, s=successfully finished, f=failed, i=no steps to execute, d=aborted"
                                },
                                {
                                    "column_name": "jslstatus",
                                    "description": "Status of job step: r=running, s=successfully finished,  f=failed stopping job, i=ignored failure, d=aborted"
                                },
                                {
                                    "column_name": "jslresult",
                                    "description": "Return code of job step"
                                },
                                {
                                    "column_name": "employee_id",
                                    "description": "员工ID"
                                },
                                {
                                    "column_name": "first_name",
                                    "description": "名字"
                                },
                                {
                                    "column_name": "last_name",
                                    "description": "姓氏"
                                },
                                {
                                    "column_name": "email",
                                    "description": "邮箱"
                                },
                                {
                                    "column_name": "hire_date",
                                    "description": "入职日期"
                                }
                            ]
                        },
                        "text/html": "<table><tr><th>column_name</th><th>description</th></tr><tr><td>jobagentid</td><td>Agent that currently executes this job.</td></tr><tr><td>jstkind</td><td>Kind of jobstep: s=sql, b=batch</td></tr><tr><td>jstonerror</td><td>What to do if step returns an error: f=fail the job, s=mark step as succeeded and continue, i=mark as fail but ignore it and proceed</td></tr><tr><td>jlgstatus</td><td>Status of job: r=running, s=successfully finished, f=failed, i=no steps to execute, d=aborted</td></tr><tr><td>jslstatus</td><td>Status of job step: r=running, s=successfully finished,  f=failed stopping job, i=ignored failure, d=aborted</td></tr><tr><td>jslresult</td><td>Return code of job step</td></tr><tr><td>employee_id</td><td>员工ID</td></tr><tr><td>first_name</td><td>名字</td></tr><tr><td>last_name</td><td>姓氏</td></tr><tr><td>email</td><td>邮箱</td></tr><tr><td>hire_date</td><td>入职日期</td></tr></table>"
                    },
                    "metadata": {}
                }
            ],
            "execution_count": 4
        },
        {
            "cell_type": "markdown",
            "source": [
                "## Creating Functions in PL/pgSQL"
            ],
            "metadata": {
                "language": "sql",
                "azdata_cell_guid": "be008008-d1e7-4a8f-90fb-42a107d2f2c6"
            },
            "attachments": {}
        },
        {
            "cell_type": "markdown",
            "source": [
                "Using Pl/pgSQL\n",
                "\n",
                "+ Process blocks of computation on the server\n",
                "+ Includes control structures for iteration and conditional processing\n",
                "+ Supports typed variables for complex calculations\n",
                "+ Inherits all user-defined types, functions, and operators\n",
                "+ Procecdural language for creating functions and triggers\n",
                ""
            ],
            "metadata": {
                "language": "sql",
                "azdata_cell_guid": "147a00c2-4ad3-4ea9-8ee9-60b57b8d13dd"
            },
            "attachments": {}
        },
        {
            "cell_type": "markdown",
            "source": [
                "## Structure of a PL/pgSQL program\n",
                "\n",
                ""
            ],
            "metadata": {
                "language": "sql",
                "azdata_cell_guid": "7ba30517-6d7f-4e3a-9221-e0fd91969f88"
            },
            "attachments": {}
        },
        {
            "cell_type": "markdown",
            "source": [
                "### Returning a table using the SQL language"
            ],
            "metadata": {
                "language": "sql",
                "azdata_cell_guid": "2f9c9d0a-de20-4d35-bcec-86ce605c0301"
            },
            "attachments": {}
        },
        {
            "cell_type": "code",
            "source": [
                "create or replace FUNCTION get_cust_names(id1 int, id2 int)\n",
                "returns table (firstname varchar, lastname varchar) AS\n",
                "$$\n",
                "select c.firstname, c.lastname from customers as C\n",
                "where c.customerid BETWEEN id1 and id2\n",
                "$$ language sql;"
            ],
            "metadata": {
                "language": "sql",
                "azdata_cell_guid": "fdd3d4af-fd03-4c73-8ccd-2b5e321dad87"
            },
            "outputs": [
                {
                    "output_type": "display_data",
                    "data": {
                        "text/html": "CREATE FUNCTION"
                    },
                    "metadata": {}
                },
                {
                    "output_type": "display_data",
                    "data": {
                        "text/html": "Total execution time: 00:00:00.001"
                    },
                    "metadata": {}
                }
            ],
            "execution_count": 2
        },
        {
            "cell_type": "markdown",
            "source": [
                "### Returing a table using teh PL/pgSQL language\n",
                ""
            ],
            "metadata": {
                "language": "sql",
                "azdata_cell_guid": "bd184556-7d58-477f-af13-c70c4c72134e"
            },
            "attachments": {}
        },
        {
            "cell_type": "code",
            "source": [
                "create or replace function get_cust_names(id1 int, id2 int)\n",
                "returns table(firstname varchar, lastname varchar)\n",
                "as $$\n",
                "BEGIN\n",
                "    return query\n",
                "    select c.firstname, c.lastname from customers as c\n",
                "    where c.customerid BETWEEN id1 and id2;\n",
                "end\n",
                "$$ language plpgsql;"
            ],
            "metadata": {
                "language": "sql",
                "azdata_cell_guid": "92538892-79d6-4e83-9878-634dfaea3919"
            },
            "outputs": [
                {
                    "output_type": "display_data",
                    "data": {
                        "text/html": "CREATE FUNCTION"
                    },
                    "metadata": {}
                },
                {
                    "output_type": "display_data",
                    "data": {
                        "text/html": "Total execution time: 00:00:00.005"
                    },
                    "metadata": {}
                }
            ],
            "execution_count": 3
        },
        {
            "cell_type": "code",
            "source": [
                "SELECT * from get_cust_names(1,5);"
            ],
            "metadata": {
                "language": "sql",
                "azdata_cell_guid": "199a2649-9a00-405d-8f93-9248302f52c5"
            },
            "outputs": [
                {
                    "output_type": "display_data",
                    "data": {
                        "text/html": "(5 row(s) affected)"
                    },
                    "metadata": {}
                },
                {
                    "output_type": "display_data",
                    "data": {
                        "text/html": "Total execution time: 00:00:00.004"
                    },
                    "metadata": {}
                },
                {
                    "output_type": "execute_result",
                    "metadata": {},
                    "execution_count": 4,
                    "data": {
                        "application/vnd.dataresource+json": {
                            "schema": {
                                "fields": [
                                    {
                                        "name": "firstname"
                                    },
                                    {
                                        "name": "lastname"
                                    }
                                ]
                            },
                            "data": [
                                {
                                    "firstname": "RNPOJG",
                                    "lastname": "FQIVBKWIZC"
                                },
                                {
                                    "firstname": "RKLQYY",
                                    "lastname": "HPUIUYBWZX"
                                },
                                {
                                    "firstname": "GWPSHI",
                                    "lastname": "QWRLBUPCHY"
                                },
                                {
                                    "firstname": "ONCPHI",
                                    "lastname": "TZIJOMZQJJ"
                                },
                                {
                                    "firstname": "CIDXWX",
                                    "lastname": "GNYGKZXSCR"
                                }
                            ]
                        },
                        "text/html": [
                            "<table>",
                            "<tr><th>firstname</th><th>lastname</th></tr>",
                            "<tr><td>RNPOJG</td><td>FQIVBKWIZC</td></tr>",
                            "<tr><td>RKLQYY</td><td>HPUIUYBWZX</td></tr>",
                            "<tr><td>GWPSHI</td><td>QWRLBUPCHY</td></tr>",
                            "<tr><td>ONCPHI</td><td>TZIJOMZQJJ</td></tr>",
                            "<tr><td>CIDXWX</td><td>GNYGKZXSCR</td></tr>",
                            "</table>"
                        ]
                    }
                }
            ],
            "execution_count": 4
        },
        {
            "cell_type": "markdown",
            "source": [
                "### PL/pgSQL program structure\n",
                "\n",
                ""
            ],
            "metadata": {
                "azdata_cell_guid": "e468a4ed-ae67-456a-8f2c-2eb753ab9699"
            },
            "attachments": {}
        },
        {
            "cell_type": "markdown",
            "source": [
                "```\n",
                "[<<label>>]\n",
                "[ declare\n",
                "    declarations ]\n",
                "begin\n",
                "    statements\n",
                "end [label];\n",
                "```"
            ],
            "metadata": {
                "azdata_cell_guid": "5bf3c0bc-f60c-4fbc-ad4f-53b0d556485d"
            },
            "attachments": {}
        },
        {
            "cell_type": "code",
            "source": [
                "do $$ begin null;end; $$"
            ],
            "metadata": {
                "azdata_cell_guid": "d8622c27-5687-4b3e-afbb-c08529b3c1c5",
                "language": "sql"
            },
            "outputs": [
                {
                    "output_type": "display_data",
                    "data": {
                        "text/html": "DO"
                    },
                    "metadata": {}
                },
                {
                    "output_type": "display_data",
                    "data": {
                        "text/html": "Total execution time: 00:00:00.001"
                    },
                    "metadata": {}
                }
            ],
            "execution_count": 5
        },
        {
            "cell_type": "code",
            "source": [
                "do language plpgsql $$\n",
                "<<get_ans>>\n",
                "DECLARE\n",
                "    the_answer int := 42;\n",
                "begin\n",
                "    raise notice 'The answer is %.', get_ans.the_answer;\n",
                "end get_ans;\n",
                "$$"
            ],
            "metadata": {
                "language": "sql",
                "azdata_cell_guid": "ad215142-1ae4-4c7b-a7a3-fcebaccc8dd0",
                "tags": []
            },
            "outputs": [
                {
                    "output_type": "display_data",
                    "data": {
                        "text/html": "NOTICE: The answer is 42."
                    },
                    "metadata": {}
                },
                {
                    "output_type": "display_data",
                    "data": {
                        "text/html": "DO"
                    },
                    "metadata": {}
                },
                {
                    "output_type": "display_data",
                    "data": {
                        "text/html": "Total execution time: 00:00:00"
                    },
                    "metadata": {}
                }
            ],
            "execution_count": 7
        },
        {
            "cell_type": "markdown",
            "source": [
                "### Declaring and using variables\n",
                ""
            ],
            "metadata": {
                "language": "sql",
                "azdata_cell_guid": "93d2a064-02c5-4d24-b0e2-ef60fad024df"
            },
            "attachments": {}
        },
        {
            "cell_type": "markdown",
            "source": [
                "#### Delcaring variables"
            ],
            "metadata": {
                "language": "sql",
                "azdata_cell_guid": "d49ea3ff-b213-436d-ab87-85f357f536a3"
            },
            "attachments": {}
        },
        {
            "cell_type": "code",
            "source": [
                "do LANGUAGE plpgsql $$\n",
                "-- name [constant ] type [ collate collation_name ] [not null] [ (default | := | =) expression ];\n",
                "\n",
                "DECLARE\n",
                "    myint INTEGER not null = 0;\n",
                "    the_answer NUMERIC(2) := 42;\n",
                "    phi CONSTANT double precision DEFAULT ( 1 + |/ 5) / 2;\n",
                "    cust_row customers%rowtype;\n",
                "    cust_firstname customers.firstname%type;\n",
                "    myrow record;\n",
                "BEGIN\n",
                "    myint := -1; --myint = -1\n",
                "    select * from customers into cust_row limit 1;\n",
                "    select cust_row.firstname into cust_firstname limit 1;\n",
                "    select 42::int as the_answer into myrow;\n",
                "    raise notice 'Last name: %; First name: %; How young? %', cust_row.lastname, cust_firstname, myrow.the_answer;\n",
                "    end;\n",
                "    $$"
            ],
            "metadata": {
                "language": "sql",
                "azdata_cell_guid": "b9dad381-d558-442a-ac43-9eb21a2ecd01"
            },
            "outputs": [
                {
                    "output_type": "display_data",
                    "data": {
                        "text/html": "NOTICE: Last name: FQIVBKWIZC; First name: RNPOJG; How young? 42"
                    },
                    "metadata": {}
                },
                {
                    "output_type": "display_data",
                    "data": {
                        "text/html": "DO"
                    },
                    "metadata": {}
                },
                {
                    "output_type": "display_data",
                    "data": {
                        "text/html": "Total execution time: 00:00:00.003"
                    },
                    "metadata": {}
                }
            ],
            "execution_count": 10
        },
        {
            "cell_type": "markdown",
            "source": [
                "### Executing Queries\n",
                "\n",
                "#### Executing queries in Pl/pgSQL\n",
                "\n",
                "why does this fail?\n",
                ""
            ],
            "metadata": {
                "azdata_cell_guid": "60045d95-cc3f-43dd-8e55-b7b98e580576"
            },
            "attachments": {}
        },
        {
            "cell_type": "code",
            "source": [
                "create or replace function foo() returns table(the_answer int)\n",
                "LANGUAGE plpgsql as $$\n",
                "begin \n",
                "select 42 as \"The answer\";\n",
                "end;\n",
                "$$;\n",
                "\n",
                "SELECT * from foo();"
            ],
            "metadata": {
                "azdata_cell_guid": "28e61c0a-ae32-47f3-8fdf-d167ce7a8eeb",
                "language": "sql"
            },
            "outputs": [
                {
                    "output_type": "display_data",
                    "data": {
                        "text/html": "CREATE FUNCTION"
                    },
                    "metadata": {}
                },
                {
                    "output_type": "error",
                    "evalue": "query has no destination for result data",
                    "ename": "",
                    "traceback": []
                },
                {
                    "output_type": "display_data",
                    "data": {
                        "text/html": "Total execution time: 00:00:00.001"
                    },
                    "metadata": {}
                }
            ],
            "execution_count": 12
        },
        {
            "cell_type": "code",
            "source": [
                "create or replace function foo() returns table(the_answer int)\n",
                "LANGUAGE plpgsql as $$\n",
                "begin \n",
                "return query\n",
                "select 42 as \"The answer\";\n",
                "end;\n",
                "$$;\n",
                "\n",
                "SELECT * from foo();"
            ],
            "metadata": {
                "language": "sql",
                "azdata_cell_guid": "56915edf-9fe7-41ac-9699-f8f934736fcb"
            },
            "outputs": [
                {
                    "output_type": "display_data",
                    "data": {
                        "text/html": "CREATE FUNCTION"
                    },
                    "metadata": {}
                },
                {
                    "output_type": "display_data",
                    "data": {
                        "text/html": "(1 row(s) affected)"
                    },
                    "metadata": {}
                },
                {
                    "output_type": "display_data",
                    "data": {
                        "text/html": "Total execution time: 00:00:00.002"
                    },
                    "metadata": {}
                },
                {
                    "output_type": "execute_result",
                    "metadata": {},
                    "execution_count": 13,
                    "data": {
                        "application/vnd.dataresource+json": {
                            "schema": {
                                "fields": [
                                    {
                                        "name": "the_answer"
                                    }
                                ]
                            },
                            "data": [
                                {
                                    "the_answer": "42"
                                }
                            ]
                        },
                        "text/html": [
                            "<table>",
                            "<tr><th>the_answer</th></tr>",
                            "<tr><td>42</td></tr>",
                            "</table>"
                        ]
                    }
                }
            ],
            "execution_count": 13
        },
        {
            "cell_type": "code",
            "source": [
                "\n",
                "create or replace function foo() returns table(the_answer int)\n",
                "LANGUAGE plpgsql as $$\n",
                "begin \n",
                "perform 42 as \"The answer\";\n",
                "end;\n",
                "$$;\n",
                "select foo();\n",
                ""
            ],
            "metadata": {
                "language": "sql",
                "azdata_cell_guid": "fce1c915-df8b-45be-8835-50d29f428308"
            },
            "outputs": [
                {
                    "output_type": "display_data",
                    "data": {
                        "text/html": "CREATE FUNCTION"
                    },
                    "metadata": {}
                },
                {
                    "output_type": "display_data",
                    "data": {
                        "text/html": "(0 row(s) affected)"
                    },
                    "metadata": {}
                },
                {
                    "output_type": "display_data",
                    "data": {
                        "text/html": "Total execution time: 00:00:00.002"
                    },
                    "metadata": {}
                },
                {
                    "output_type": "execute_result",
                    "metadata": {},
                    "execution_count": 15,
                    "data": {
                        "application/vnd.dataresource+json": {
                            "schema": {
                                "fields": [
                                    {
                                        "name": "foo"
                                    }
                                ]
                            },
                            "data": []
                        },
                        "text/html": [
                            "<table>",
                            "<tr><th>foo</th></tr>",
                            "</table>"
                        ]
                    }
                }
            ],
            "execution_count": 15
        },
        {
            "cell_type": "markdown",
            "source": [
                "#### Returning that value\n",
                ""
            ],
            "metadata": {
                "azdata_cell_guid": "54e2e884-3426-4f3d-b38d-4fecec5cbd8c"
            },
            "attachments": {}
        },
        {
            "cell_type": "code",
            "source": [
                "create or replace function bar(out a int)\n",
                "LANGUAGE plpgsql as $$\n",
                "begin \n",
                "select 42 as \"The answer\" into bar.a;\n",
                "end;\n",
                "$$;\n",
                "select bar();"
            ],
            "metadata": {
                "azdata_cell_guid": "a14ae490-56d6-478c-9b32-670f22ac5df3",
                "language": "sql"
            },
            "outputs": [
                {
                    "output_type": "display_data",
                    "data": {
                        "text/html": "CREATE FUNCTION"
                    },
                    "metadata": {}
                },
                {
                    "output_type": "display_data",
                    "data": {
                        "text/html": "(1 row(s) affected)"
                    },
                    "metadata": {}
                },
                {
                    "output_type": "display_data",
                    "data": {
                        "text/html": "Total execution time: 00:00:00.003"
                    },
                    "metadata": {}
                },
                {
                    "output_type": "execute_result",
                    "metadata": {},
                    "execution_count": 17,
                    "data": {
                        "application/vnd.dataresource+json": {
                            "schema": {
                                "fields": [
                                    {
                                        "name": "bar"
                                    }
                                ]
                            },
                            "data": [
                                {
                                    "bar": "42"
                                }
                            ]
                        },
                        "text/html": [
                            "<table>",
                            "<tr><th>bar</th></tr>",
                            "<tr><td>42</td></tr>",
                            "</table>"
                        ]
                    }
                }
            ],
            "execution_count": 17
        },
        {
            "cell_type": "markdown",
            "source": [
                "#### INTO clause\n",
                "\n",
                "select select_statements into [strict] target from ...;\n",
                "\n",
                "insert ... returing expressions into [strict] target; -- strict means must return 1 row, otherwise exception will raise\n",
                "\n",
                "iupdate ... returing expressions into [strict] target;\n",
                "\n",
                "delete ... returing expressions into [strict] target;\n",
                ""
            ],
            "metadata": {
                "language": "sql",
                "azdata_cell_guid": "54c552f5-5041-4985-98e5-128d7faa7221"
            },
            "attachments": {}
        },
        {
            "cell_type": "code",
            "source": [
                "do $$\n",
                "DECLARE\n",
                "    the_answer int;\n",
                "    cust_row customers%rowtype;\n",
                "    firstname VARCHAR;\n",
                "    lastname VARCHAR;\n",
                "    new_cat int;\n",
                "    old_catname varchar;\n",
                "BEGIN\n",
                "    select 42 into the_answer;\n",
                "    select * into cust_row from customers c where c.customerid = 42;\n",
                "    select c.firstname, c.lastname into firstname, lastname\n",
                "    from customers c where c.customerid = 42;\n",
                "    INSERT into categories (categoryname) values ('MyCategory') returning category into new_cat;\n",
                "    delete from categories where category = new_cat returning categoryname into old_catname;\n",
                "    raise notice 'id: %, name: %', new_cat, old_catname;\n",
                "END\n",
                "$$"
            ],
            "metadata": {
                "language": "sql",
                "azdata_cell_guid": "f148d9c9-fecf-4cae-9429-7f1c88057a44"
            },
            "outputs": [
                {
                    "output_type": "display_data",
                    "data": {
                        "text/html": "NOTICE: id: 17, name: MyCategory"
                    },
                    "metadata": {}
                },
                {
                    "output_type": "display_data",
                    "data": {
                        "text/html": "DO"
                    },
                    "metadata": {}
                },
                {
                    "output_type": "display_data",
                    "data": {
                        "text/html": "Total execution time: 00:00:00.006"
                    },
                    "metadata": {}
                }
            ],
            "execution_count": 18
        },
        {
            "cell_type": "code",
            "source": [
                "create or replace function foo2() RETURNS table(firstname varchar)\n",
                "LANGUAGE plpgsql as $$\n",
                "BEGIN\n",
                "return QUERY\n",
                "    update customers c\n",
                "    set firstname = c.firstname\n",
                "    where c.customerid = 42\n",
                "    returning c.firstname;\n",
                "    end\n",
                "    $$;\n",
                "\n",
                "select foo2();\n",
                "\n",
                "do $$ begin perform foo2(); end; $$;"
            ],
            "metadata": {
                "azdata_cell_guid": "87716a07-c07a-4fdd-b326-5539a4684366",
                "language": "sql"
            },
            "outputs": [
                {
                    "output_type": "display_data",
                    "data": {
                        "text/html": "CREATE FUNCTION"
                    },
                    "metadata": {}
                },
                {
                    "output_type": "display_data",
                    "data": {
                        "text/html": "(1 row(s) affected)"
                    },
                    "metadata": {}
                },
                {
                    "output_type": "display_data",
                    "data": {
                        "text/html": "DO"
                    },
                    "metadata": {}
                },
                {
                    "output_type": "display_data",
                    "data": {
                        "text/html": "Total execution time: 00:00:00.004"
                    },
                    "metadata": {}
                },
                {
                    "output_type": "execute_result",
                    "metadata": {},
                    "execution_count": 21,
                    "data": {
                        "application/vnd.dataresource+json": {
                            "schema": {
                                "fields": [
                                    {
                                        "name": "foo2"
                                    }
                                ]
                            },
                            "data": [
                                {
                                    "foo2": "IGAITZ"
                                }
                            ]
                        },
                        "text/html": [
                            "<table>",
                            "<tr><th>foo2</th></tr>",
                            "<tr><td>IGAITZ</td></tr>",
                            "</table>"
                        ]
                    }
                }
            ],
            "execution_count": 21
        },
        {
            "cell_type": "markdown",
            "source": [
                "### Control Structures\n",
                ""
            ],
            "metadata": {
                "language": "sql",
                "azdata_cell_guid": "8cf74ef1-635c-48a1-9be8-c943ad1f8e27"
            },
            "attachments": {}
        },
        {
            "cell_type": "markdown",
            "source": [
                "#### Returing values Scalar results"
            ],
            "metadata": {
                "language": "sql",
                "azdata_cell_guid": "97700b49-4b3f-4d26-9ddd-742ef9785a29"
            },
            "attachments": {}
        },
        {
            "cell_type": "code",
            "source": [
                "create or replace function foo3() returns INT\n",
                "LANGUAGE plpgsql as $$\n",
                "BEGIN\n",
                "    return 42;\n",
                "    END\n",
                "    $$;\n",
                "\n",
                "select foo3();"
            ],
            "metadata": {
                "language": "sql",
                "azdata_cell_guid": "2a4aafef-cf9c-439b-aa49-73b4186e3af4"
            },
            "outputs": [
                {
                    "output_type": "display_data",
                    "data": {
                        "text/html": "CREATE FUNCTION"
                    },
                    "metadata": {}
                },
                {
                    "output_type": "display_data",
                    "data": {
                        "text/html": "(1 row(s) affected)"
                    },
                    "metadata": {}
                },
                {
                    "output_type": "display_data",
                    "data": {
                        "text/html": "Total execution time: 00:00:00.002"
                    },
                    "metadata": {}
                },
                {
                    "output_type": "execute_result",
                    "metadata": {},
                    "execution_count": 26,
                    "data": {
                        "application/vnd.dataresource+json": {
                            "schema": {
                                "fields": [
                                    {
                                        "name": "foo3"
                                    }
                                ]
                            },
                            "data": [
                                {
                                    "foo3": "42"
                                }
                            ]
                        },
                        "text/html": [
                            "<table>",
                            "<tr><th>foo3</th></tr>",
                            "<tr><td>42</td></tr>",
                            "</table>"
                        ]
                    }
                }
            ],
            "execution_count": 26
        },
        {
            "cell_type": "code",
            "source": [
                "create or replace function foo3(out i int)  -- areturns int\n",
                "LANGUAGE plpgsql as $$\n",
                "BEGIN\n",
                "    i = 42\n",
                "    return; --i\n",
                "END\n",
                "$$;\n",
                "\n",
                "select foo3();\n",
                ""
            ],
            "metadata": {
                "language": "sql",
                "azdata_cell_guid": "443145fb-d3c3-4de0-8fca-6169d05f8209"
            },
            "outputs": [
                {
                    "output_type": "display_data",
                    "data": {
                        "text/html": "CREATE FUNCTION"
                    },
                    "metadata": {}
                },
                {
                    "output_type": "display_data",
                    "data": {
                        "text/html": "(1 row(s) affected)"
                    },
                    "metadata": {}
                },
                {
                    "output_type": "display_data",
                    "data": {
                        "text/html": "Total execution time: 00:00:00.002"
                    },
                    "metadata": {}
                },
                {
                    "output_type": "execute_result",
                    "metadata": {},
                    "execution_count": 28,
                    "data": {
                        "application/vnd.dataresource+json": {
                            "schema": {
                                "fields": [
                                    {
                                        "name": "foo3"
                                    }
                                ]
                            },
                            "data": [
                                {
                                    "foo3": "42"
                                }
                            ]
                        },
                        "text/html": [
                            "<table>",
                            "<tr><th>foo3</th></tr>",
                            "<tr><td>42</td></tr>",
                            "</table>"
                        ]
                    }
                }
            ],
            "execution_count": 28
        },
        {
            "cell_type": "markdown",
            "source": [
                "#### Returning a result set: RETURN QUERY and RETURN NEXT"
            ],
            "metadata": {
                "azdata_cell_guid": "6a39b569-1c5d-4767-bb1d-a47084d3a6a2"
            },
            "attachments": {}
        },
        {
            "cell_type": "code",
            "source": [
                "drop FUNCTION if EXISTS foo(out i int);\n",
                "create or REPLACE function foo() returns setof INT\n",
                "LANGUAGE plpgsql as $$\n",
                "BEGIN\n",
                "\n",
                "RETURN next 42;\n",
                "return next 43;\n",
                "END;\n",
                "$$;\n",
                "\n",
                "select * from foo();"
            ],
            "metadata": {
                "azdata_cell_guid": "8039f919-fe09-4b2a-a9cd-ab976aad22cb",
                "language": "sql"
            },
            "outputs": [
                {
                    "output_type": "display_data",
                    "data": {
                        "text/html": "DROP FUNCTION"
                    },
                    "metadata": {}
                },
                {
                    "output_type": "display_data",
                    "data": {
                        "text/html": "CREATE FUNCTION"
                    },
                    "metadata": {}
                },
                {
                    "output_type": "display_data",
                    "data": {
                        "text/html": "(2 row(s) affected)"
                    },
                    "metadata": {}
                },
                {
                    "output_type": "display_data",
                    "data": {
                        "text/html": "Total execution time: 00:00:00.004"
                    },
                    "metadata": {}
                },
                {
                    "output_type": "execute_result",
                    "metadata": {},
                    "execution_count": 29,
                    "data": {
                        "application/vnd.dataresource+json": {
                            "schema": {
                                "fields": [
                                    {
                                        "name": "foo"
                                    }
                                ]
                            },
                            "data": [
                                {
                                    "foo": "42"
                                },
                                {
                                    "foo": "43"
                                }
                            ]
                        },
                        "text/html": [
                            "<table>",
                            "<tr><th>foo</th></tr>",
                            "<tr><td>42</td></tr>",
                            "<tr><td>43</td></tr>",
                            "</table>"
                        ]
                    }
                }
            ],
            "execution_count": 29
        },
        {
            "cell_type": "markdown",
            "source": [
                "#### Returning a set of a table type"
            ],
            "metadata": {
                "azdata_cell_guid": "c90c7ca8-cc69-4767-83e8-6bd9a189fd86"
            },
            "attachments": {}
        },
        {
            "cell_type": "code",
            "source": [
                "create or REPLACE FUNCTION get_cat()\n",
                "returns setof categories\n",
                "-- returns table (category int, categoryname varchar)\n",
                "language plpgsql as $$\n",
                "DECLARE \n",
                "    cat categories%rowtype;\n",
                "BEGIN\n",
                "    cat.category := 1;cat.categoryname := 'One';\n",
                "    return next cat;\n",
                "    cat.category := 2; cat.categoryname := 'Tow';\n",
                "    return next cat;\n",
                "end;\n",
                "$$;\n",
                "select * from get_cat();"
            ],
            "metadata": {
                "azdata_cell_guid": "551b758c-317f-4871-9c3c-25becc5afa6c",
                "language": "sql"
            },
            "outputs": [
                {
                    "output_type": "display_data",
                    "data": {
                        "text/html": "CREATE FUNCTION"
                    },
                    "metadata": {}
                },
                {
                    "output_type": "display_data",
                    "data": {
                        "text/html": "(2 row(s) affected)"
                    },
                    "metadata": {}
                },
                {
                    "output_type": "display_data",
                    "data": {
                        "text/html": "Total execution time: 00:00:00.003"
                    },
                    "metadata": {}
                },
                {
                    "output_type": "execute_result",
                    "metadata": {},
                    "execution_count": 31,
                    "data": {
                        "application/vnd.dataresource+json": {
                            "schema": {
                                "fields": [
                                    {
                                        "name": "category"
                                    },
                                    {
                                        "name": "categoryname"
                                    }
                                ]
                            },
                            "data": [
                                {
                                    "category": "1",
                                    "categoryname": "One"
                                },
                                {
                                    "category": "2",
                                    "categoryname": "Tow"
                                }
                            ]
                        },
                        "text/html": [
                            "<table>",
                            "<tr><th>category</th><th>categoryname</th></tr>",
                            "<tr><td>1</td><td>One</td></tr>",
                            "<tr><td>2</td><td>Tow</td></tr>",
                            "</table>"
                        ]
                    }
                }
            ],
            "execution_count": 31
        },
        {
            "cell_type": "markdown",
            "source": [
                "### Conditional execution: IF statement\n",
                "\n",
                "```sql\n",
                "IF ... THEN END  IF\n",
                "IF ... THEN ELSE END  IF\n",
                "IF ... THEN ELSIF THEN ELSE END  IF\n",
                "IF ... THEN END  IF\n",
                "\n",
                "```"
            ],
            "metadata": {
                "azdata_cell_guid": "e48b96bd-1e01-46ca-aaa9-e1f2fa79156f"
            },
            "attachments": {}
        },
        {
            "cell_type": "code",
            "source": [
                "do $$ begin\n",
                "    if true THEN\n",
                "        raise notice 'True';\n",
                "    ELSE\n",
                "        raise notice 'False';\n",
                "    end if;\n",
                "end;\n",
                "$$;]"
            ],
            "metadata": {
                "azdata_cell_guid": "dc9c9ce1-e9d2-4662-915e-b55f277ff6da",
                "language": "sql"
            },
            "outputs": [
                {
                    "output_type": "display_data",
                    "data": {
                        "text/html": "NOTICE: True"
                    },
                    "metadata": {}
                },
                {
                    "output_type": "display_data",
                    "data": {
                        "text/html": "DO"
                    },
                    "metadata": {}
                },
                {
                    "output_type": "display_data",
                    "data": {
                        "text/html": "Total execution time: 00:00:00"
                    },
                    "metadata": {}
                }
            ],
            "execution_count": 32
        },
        {
            "cell_type": "code",
            "source": [
                "do $$ begin\n",
                "if 1 < 0 THEN\n",
                "    raise notice 'One is less then zero?';\n",
                "elsif 1 > 0 THEN\n",
                "    raise notice 'One is greater then zero!';\n",
                "else \n",
                "    raise notice 'How did I get here?';\n",
                "end if;\n",
                "end;\n",
                "$$;"
            ],
            "metadata": {
                "language": "sql",
                "azdata_cell_guid": "a57dc662-7474-434c-82dd-23b2fd7995c0"
            },
            "outputs": [
                {
                    "output_type": "display_data",
                    "data": {
                        "text/html": "NOTICE: One is greater then zero!"
                    },
                    "metadata": {}
                },
                {
                    "output_type": "display_data",
                    "data": {
                        "text/html": "DO"
                    },
                    "metadata": {}
                },
                {
                    "output_type": "display_data",
                    "data": {
                        "text/html": "Total execution time: 00:00:00"
                    },
                    "metadata": {}
                }
            ],
            "execution_count": 33
        },
        {
            "cell_type": "markdown",
            "source": [
                "#### Conditional execution Simple CASE statement\n",
                ""
            ],
            "metadata": {
                "language": "sql",
                "azdata_cell_guid": "a4fba938-bee0-4fd2-a7f9-9f82ddf0feaa"
            },
            "attachments": {}
        },
        {
            "cell_type": "markdown",
            "source": [
                "```sql\n",
                "case search-expression\n",
                "    when expression [, expresion [...] ] then\n",
                "        statements\n",
                "    [ when expression [, expresion [...] ] then \n",
                "        statements\n",
                "        ...\n",
                "    ]\n",
                "    [ ELSE \n",
                "        statements\n",
                "    ]\n",
                "\n",
                "END CASE;\n",
                "```"
            ],
            "metadata": {
                "language": "sql",
                "azdata_cell_guid": "aefbf94c-2573-4211-a553-30f309a90b21"
            },
            "attachments": {}
        },
        {
            "cell_type": "code",
            "source": [
                "do $$ begin\n",
                "case 42\n",
                "    when 41, 43 THEN\n",
                "        raise notice 'Odd.';\n",
                "        when 40, 42 THEN\n",
                "        raise notice 'Even.';\n",
                "        end case;\n",
                "        end;\n",
                "        $$;"
            ],
            "metadata": {
                "language": "sql",
                "azdata_cell_guid": "74812cc6-8e5e-4460-9cea-f286628cec4b"
            },
            "outputs": [
                {
                    "output_type": "display_data",
                    "data": {
                        "text/html": "NOTICE: Even."
                    },
                    "metadata": {}
                },
                {
                    "output_type": "display_data",
                    "data": {
                        "text/html": "DO"
                    },
                    "metadata": {}
                },
                {
                    "output_type": "display_data",
                    "data": {
                        "text/html": "Total execution time: 00:00:00.001"
                    },
                    "metadata": {}
                }
            ],
            "execution_count": 34
        },
        {
            "cell_type": "markdown",
            "source": [
                "#### Conditional execution: Searched CASE statement"
            ],
            "metadata": {
                "language": "sql",
                "azdata_cell_guid": "a509dc57-ae42-4727-ae04-148b819efee5"
            },
            "attachments": {}
        },
        {
            "cell_type": "markdown",
            "source": [
                "```sql\n",
                "case \n",
                "    when boolean-expression then\n",
                "    statements\n",
                "    [ when boolean-expression then \n",
                "        statements\n",
                "        ...\n",
                "    ]\n",
                "    [\n",
                "        else\n",
                "        statements\n",
                "\n",
                "    ]\n",
                "    end case;\n",
                "\n",
                "```"
            ],
            "metadata": {
                "language": "sql",
                "azdata_cell_guid": "9d88da40-6312-480b-aa7b-081febea6f05"
            },
            "attachments": {}
        },
        {
            "cell_type": "code",
            "source": [
                "do $$ begin\n",
                "    case \n",
                "        when 42 in (41, 43) THEN raise notice 'Odd.';\n",
                "        when 42 in (40, 42) THEN raise notice 'Even.';\n",
                "    end CASE;\n",
                "end;\n",
                "$$;\n",
                ""
            ],
            "metadata": {
                "language": "sql",
                "azdata_cell_guid": "28c19838-095a-4365-b192-f47e53748a51"
            },
            "outputs": [
                {
                    "output_type": "display_data",
                    "data": {
                        "text/html": "NOTICE: Even."
                    },
                    "metadata": {}
                },
                {
                    "output_type": "display_data",
                    "data": {
                        "text/html": "DO"
                    },
                    "metadata": {}
                },
                {
                    "output_type": "display_data",
                    "data": {
                        "text/html": "Total execution time: 00:00:00"
                    },
                    "metadata": {}
                }
            ],
            "execution_count": 35
        },
        {
            "cell_type": "markdown",
            "source": [
                "### Iterations\n",
                "\n",
                "#### Simple loops\n",
                ""
            ],
            "metadata": {
                "azdata_cell_guid": "030be23b-9868-4c57-895f-d2f4d9112ef2"
            },
            "attachments": {}
        },
        {
            "cell_type": "code",
            "source": [
                "DO\n",
                "$$\n",
                "\n",
                "    DECLARE\n",
                "        i int := 1;\n",
                "    BEGIN\n",
                "        <<loop_label>>\n",
                "        LOOP\n",
                "            RAISE NOTICE 'in a loop iteration : %', i;\n",
                "            i = i + 1;\n",
                "            IF i > 3 THEN\n",
                "                EXIT loop_label;\n",
                "            END IF;\n",
                "        END LOOP loop_label;\n",
                "        RAISE NOTICE 'Finally out!';\n",
                "    END\n",
                "$$;\n",
                ""
            ],
            "metadata": {
                "azdata_cell_guid": "760339d0-e445-4878-aa9f-174386eae397",
                "language": "sql"
            },
            "outputs": [
                {
                    "output_type": "display_data",
                    "data": {
                        "text/html": "NOTICE: in a loop iteration : 1 \\n\nNOTICE: in a loop iteration : 2 \\n\nNOTICE: in a loop iteration : 3 \\n\nNOTICE: Finally out!"
                    },
                    "metadata": {}
                },
                {
                    "output_type": "display_data",
                    "data": {
                        "text/html": "DO"
                    },
                    "metadata": {}
                },
                {
                    "output_type": "display_data",
                    "data": {
                        "text/html": "Total execution time: 00:00:00"
                    },
                    "metadata": {}
                }
            ],
            "execution_count": 38
        },
        {
            "cell_type": "code",
            "source": [
                "DO\n",
                "$$\n",
                "\n",
                "    DECLARE\n",
                "        i int := 1;\n",
                "    BEGIN\n",
                "        LOOP\n",
                "            RAISE NOTICE 'In a loop, iteration: %', i;\n",
                "            i = i + 1;\n",
                "            EXIT WHEN i > 3;\n",
                "            CONTINUE WHEN i <= 8;\n",
                "        END LOOP;\n",
                "        RAISE NOTICE 'Finally out!';\n",
                "    END;\n",
                "$$\n",
                ""
            ],
            "metadata": {
                "azdata_cell_guid": "b142f4f4-6c40-45d1-b29f-44393d037aea",
                "language": "sql"
            },
            "outputs": [],
            "execution_count": null
        },
        {
            "cell_type": "markdown",
            "source": [
                "### Iterations\n",
                ""
            ],
            "metadata": {
                "language": "sql",
                "azdata_cell_guid": "9101706c-2e12-41ad-a555-e55f4465e36f"
            },
            "attachments": {}
        },
        {
            "cell_type": "markdown",
            "source": [
                "#### While loops"
            ],
            "metadata": {
                "language": "sql",
                "azdata_cell_guid": "dbaeeb40-d033-4398-97e2-496617968c98"
            },
            "attachments": {}
        },
        {
            "cell_type": "code",
            "source": [
                "DO\n",
                "$$\n",
                "    DECLARE\n",
                "        i int := 1;\n",
                "    BEGIN\n",
                "        WHILE i <> 3\n",
                "            LOOP\n",
                "                RAISE NOTICE 'In a loop iteration %', i;\n",
                "                i = i + 1;\n",
                "            END LOOP;\n",
                "        RAISE NOTICE 'Finally out!';\n",
                "    END;\n",
                "$$\n",
                ""
            ],
            "metadata": {
                "language": "sql",
                "azdata_cell_guid": "a5096d06-f2b5-4d03-a390-455594f393c5"
            },
            "outputs": [
                {
                    "output_type": "display_data",
                    "data": {
                        "text/html": "NOTICE: In a loop iteration 1\nNOTICE: In a loop iteration 2\nNOTICE: Finally out!"
                    },
                    "metadata": {}
                },
                {
                    "output_type": "display_data",
                    "data": {
                        "text/html": "DO"
                    },
                    "metadata": {}
                },
                {
                    "output_type": "display_data",
                    "data": {
                        "text/html": "Total execution time: 00:00:00.001"
                    },
                    "metadata": {}
                }
            ],
            "execution_count": 39
        },
        {
            "cell_type": "markdown",
            "source": [
                "### for loops, integer iterator\n",
                "\n",
                "```sql\n",
                "[<<labe.>>]\n",
                "    for name in [ reverse ] expression ... expression [by expression ] loop\n",
                "        statments\n",
                "    end loop [ label ];\n",
                "\n",
                "```"
            ],
            "metadata": {
                "azdata_cell_guid": "60acef98-4aae-4363-9589-07c56d5b5a05"
            },
            "attachments": {}
        },
        {
            "cell_type": "code",
            "source": [
                "DO\n",
                "$$\n",
                "    <<outside>>\n",
                "        DECLARE\n",
                "        i int = 42;\n",
                "    BEGIN\n",
                "        <<inside>>\n",
                "        FOR i IN 1..3\n",
                "            LOOP\n",
                "                RAISE NOTICE 'In a loop iteration %, outer \"i\" %', inside.i, outside.i;\n",
                "            END LOOP;\n",
                "        RAISE NOTICE 'Finally out';\n",
                "    END;\n",
                "$$\n",
                ""
            ],
            "metadata": {
                "azdata_cell_guid": "59173131-b1c6-4727-86d9-766f451d6001",
                "language": "sql"
            },
            "outputs": [
                {
                    "output_type": "display_data",
                    "data": {
                        "text/html": "NOTICE: In a loop iteration 1, outer \"i\" 42\nNOTICE: In a loop iteration 2, outer \"i\" 42\nNOTICE: In a loop iteration 3, outer \"i\" 42\nNOTICE: Finally out"
                    },
                    "metadata": {}
                },
                {
                    "output_type": "display_data",
                    "data": {
                        "text/html": "DO"
                    },
                    "metadata": {}
                },
                {
                    "output_type": "display_data",
                    "data": {
                        "text/html": "Total execution time: 00:00:00.001"
                    },
                    "metadata": {}
                }
            ],
            "execution_count": 40
        },
        {
            "cell_type": "markdown",
            "source": [
                "#### Optional arguments for integer iterators\n",
                "\n",
                "\n",
                "```sql\n",
                "for i in reverse 1..3 loop\n",
                "    -- i set to 5,4,3,2,1\n",
                "end loop\n",
                "\n",
                "for i in 1..5 loop by 2\n",
                "    --i set to 1 , 3, 5\n",
                "    end loop\n",
                "\n",
                "```"
            ],
            "metadata": {
                "azdata_cell_guid": "a8f678ff-f31c-4a97-8ba6-8dfc25cf65d9"
            },
            "attachments": {}
        },
        {
            "cell_type": "markdown",
            "source": [
                "#### for loops: looping over query results\n",
                "\n",
                ""
            ],
            "metadata": {
                "azdata_cell_guid": "0109677b-5416-4b76-b85d-f14743920355"
            },
            "attachments": {}
        },
        {
            "cell_type": "code",
            "source": [
                "DO\n",
                "$$\n",
                "    DECLARE\n",
                "        i customers.customerid%type;\n",
                "    BEGIN\n",
                "        FOR i IN\n",
                "            SELECT c.customerid\n",
                "            FROM customers c\n",
                "            WHERE c.customerid <= 3\n",
                "            LOOP\n",
                "                RAISE NOTICE 'In a loop, iteration %', i;\n",
                "            END LOOP;\n",
                "        RAISE NOTICE 'Finally out';\n",
                "    END;\n",
                "$$\n",
                ""
            ],
            "metadata": {
                "azdata_cell_guid": "19c7331d-9663-4863-9029-c394de8224ec",
                "language": "sql"
            },
            "outputs": [
                {
                    "output_type": "display_data",
                    "data": {
                        "text/html": "NOTICE: In a loop, iteration 1\nNOTICE: In a loop, iteration 2\nNOTICE: In a loop, iteration 3\nNOTICE: Finally out"
                    },
                    "metadata": {}
                },
                {
                    "output_type": "display_data",
                    "data": {
                        "text/html": "DO"
                    },
                    "metadata": {}
                },
                {
                    "output_type": "display_data",
                    "data": {
                        "text/html": "Total execution time: 00:00:00.001"
                    },
                    "metadata": {}
                }
            ],
            "execution_count": 41
        },
        {
            "cell_type": "markdown",
            "source": [
                "#### For loops: Looping through arrays"
            ],
            "metadata": {
                "azdata_cell_guid": "e2b894e9-1b10-4105-bf69-520452b5e05d"
            },
            "attachments": {}
        },
        {
            "cell_type": "code",
            "source": [
                "DO\n",
                "$$\n",
                "    DECLARE\n",
                "        i int;\n",
                "    BEGIN\n",
                "        FOREACH i IN ARRAY ARRAY [11,22,33]\n",
                "            LOOP\n",
                "                RAISE NOTICE 'In a loop, value %', i;\n",
                "            END LOOP;\n",
                "        raise NOTICE  'finally OUt!';\n",
                "    END;\n",
                "$$\n",
                ""
            ],
            "metadata": {
                "azdata_cell_guid": "7150062f-dbdc-45be-9c0e-c1a56ebc3d2c",
                "language": "sql"
            },
            "outputs": [
                {
                    "output_type": "display_data",
                    "data": {
                        "text/html": "NOTICE: In a loop, value 11\nNOTICE: In a loop, value 22\nNOTICE: In a loop, value 33\nNOTICE: finally OUt!"
                    },
                    "metadata": {}
                },
                {
                    "output_type": "display_data",
                    "data": {
                        "text/html": "DO"
                    },
                    "metadata": {}
                },
                {
                    "output_type": "display_data",
                    "data": {
                        "text/html": "Total execution time: 00:00:00"
                    },
                    "metadata": {}
                }
            ],
            "execution_count": 42
        },
        {
            "cell_type": "markdown",
            "source": [
                "### Using Cursors\n",
                ""
            ],
            "metadata": {
                "azdata_cell_guid": "5efc31c3-ecd4-4fea-b1f6-fcac716929a7"
            },
            "attachments": {}
        },
        {
            "cell_type": "markdown",
            "source": [
                "#### Iteration using cursors\n",
                "\n",
                "##### Bound cursors"
            ],
            "metadata": {
                "azdata_cell_guid": "a67d8680-1e09-4989-a026-3aaba7e2b2ed"
            },
            "attachments": {}
        },
        {
            "cell_type": "code",
            "source": [
                "DO\n",
                "$$\n",
                "\n",
                "    DECLARE\n",
                "        cur CURSOR FOR SELECT *\n",
                "                       FROM customers;\n",
                "        rc int = 3;\n",
                "    BEGIN\n",
                "        FOR rec IN cur\n",
                "            LOOP\n",
                "                IF rc > 0 THEN\n",
                "                    RAISE INFO '(%, %)', rec.customerid, rec.firstname;\n",
                "                END IF;\n",
                "                rc = rc - 1;\n",
                "                IF rc = 0 THEN\n",
                "                    EXIT;\n",
                "                END IF;\n",
                "            END LOOP;\n",
                "    END;\n",
                "$$\n",
                ""
            ],
            "metadata": {
                "azdata_cell_guid": "45434be6-10fc-4125-8143-7b97760bd6ba",
                "language": "sql"
            },
            "outputs": [
                {
                    "output_type": "display_data",
                    "data": {
                        "text/html": "INFO: (1, RNPOJG)\nINFO: (2, RKLQYY)\nINFO: (3, GWPSHI)"
                    },
                    "metadata": {}
                },
                {
                    "output_type": "display_data",
                    "data": {
                        "text/html": "DO"
                    },
                    "metadata": {}
                },
                {
                    "output_type": "display_data",
                    "data": {
                        "text/html": "Total execution time: 00:00:00.001"
                    },
                    "metadata": {}
                }
            ],
            "execution_count": 43
        },
        {
            "cell_type": "markdown",
            "source": [
                "##### Unbounded cursor"
            ],
            "metadata": {
                "azdata_cell_guid": "1a7250c9-a30d-4323-a50f-360de4c391dd"
            },
            "attachments": {}
        },
        {
            "cell_type": "code",
            "source": [
                "DO\n",
                "$$\n",
                "\n",
                "    DECLARE\n",
                "        cur refcursor;\n",
                "        fn  customers.firstname%type;\n",
                "    BEGIN\n",
                "        OPEN cur FOR SELECT customers.firstname FROM customers;\n",
                "        FOR rc IN 1..3\n",
                "            LOOP\n",
                "                FETCH NEXT FROM cur INTO fn;\n",
                "                RAISE INFO '(%,%)', rc, fn;\n",
                "                rc = rc + 1;\n",
                "            END LOOP;\n",
                "        CLOSE cur;\n",
                "    END;\n",
                "$$;\n",
                ""
            ],
            "metadata": {
                "azdata_cell_guid": "45dd33b1-d585-4328-9d16-8a840829f705",
                "language": "sql"
            },
            "outputs": [
                {
                    "output_type": "display_data",
                    "data": {
                        "text/html": "INFO: (1,RNPOJG)\nINFO: (2,RKLQYY)\nINFO: (3,GWPSHI)"
                    },
                    "metadata": {}
                },
                {
                    "output_type": "display_data",
                    "data": {
                        "text/html": "DO"
                    },
                    "metadata": {}
                },
                {
                    "output_type": "display_data",
                    "data": {
                        "text/html": "Total execution time: 00:00:00"
                    },
                    "metadata": {}
                }
            ],
            "execution_count": 44
        },
        {
            "cell_type": "markdown",
            "source": [
                "#### Cursor with parameter"
            ],
            "metadata": {
                "azdata_cell_guid": "fbe78642-5e1e-4bda-923c-230dc017c27b"
            },
            "attachments": {}
        },
        {
            "cell_type": "code",
            "source": [
                "CREATE OR REPLACE FUNCTION get_cur(prefix varchar)\n",
                "    RETURNS refcursor\n",
                "    LANGUAGE plpgsql AS\n",
                "$$\n",
                "DECLARE\n",
                "    cur CURSOR (p varchar) FOR\n",
                "        SELECT *\n",
                "        FROM customers\n",
                "        WHERE firstname LIKE p || '%';\n",
                "BEGIN\n",
                "    OPEN cur(prefix);\n",
                "    RETURN cur;\n",
                "END;\n",
                "$$;\n",
                "\n",
                "BEGIN;\n",
                "SELECT get_cur('AZ');\n",
                "FETCH 5 FROM cur;\n",
                "COMMIT;\n",
                ""
            ],
            "metadata": {
                "azdata_cell_guid": "18bc4cb3-33ad-4a74-b161-b1daaaedd253",
                "language": "sql"
            },
            "outputs": [
                {
                    "output_type": "display_data",
                    "data": {
                        "text/html": "CREATE FUNCTION"
                    },
                    "metadata": {}
                },
                {
                    "output_type": "display_data",
                    "data": {
                        "text/html": "BEGIN"
                    },
                    "metadata": {}
                },
                {
                    "output_type": "display_data",
                    "data": {
                        "text/html": "(1 row(s) affected)"
                    },
                    "metadata": {}
                },
                {
                    "output_type": "display_data",
                    "data": {
                        "text/html": "(5 row(s) affected)"
                    },
                    "metadata": {}
                },
                {
                    "output_type": "display_data",
                    "data": {
                        "text/html": "COMMIT"
                    },
                    "metadata": {}
                },
                {
                    "output_type": "display_data",
                    "data": {
                        "text/html": "Total execution time: 00:00:00.005"
                    },
                    "metadata": {}
                },
                {
                    "output_type": "execute_result",
                    "metadata": {},
                    "execution_count": 45,
                    "data": {
                        "application/vnd.dataresource+json": {
                            "schema": {
                                "fields": [
                                    {
                                        "name": "get_cur"
                                    }
                                ]
                            },
                            "data": [
                                {
                                    "get_cur": "cur"
                                }
                            ]
                        },
                        "text/html": [
                            "<table>",
                            "<tr><th>get_cur</th></tr>",
                            "<tr><td>cur</td></tr>",
                            "</table>"
                        ]
                    }
                },
                {
                    "output_type": "execute_result",
                    "metadata": {},
                    "execution_count": 45,
                    "data": {
                        "application/vnd.dataresource+json": {
                            "schema": {
                                "fields": [
                                    {
                                        "name": "customerid"
                                    },
                                    {
                                        "name": "firstname"
                                    },
                                    {
                                        "name": "lastname"
                                    },
                                    {
                                        "name": "address1"
                                    },
                                    {
                                        "name": "address2"
                                    },
                                    {
                                        "name": "city"
                                    },
                                    {
                                        "name": "state"
                                    },
                                    {
                                        "name": "zip"
                                    },
                                    {
                                        "name": "country"
                                    },
                                    {
                                        "name": "region"
                                    },
                                    {
                                        "name": "email"
                                    },
                                    {
                                        "name": "phone"
                                    },
                                    {
                                        "name": "creditcardtype"
                                    },
                                    {
                                        "name": "creditcard"
                                    },
                                    {
                                        "name": "creditcardexpiration"
                                    },
                                    {
                                        "name": "username"
                                    },
                                    {
                                        "name": "password"
                                    },
                                    {
                                        "name": "age"
                                    },
                                    {
                                        "name": "income"
                                    },
                                    {
                                        "name": "gender"
                                    }
                                ]
                            },
                            "data": [
                                {
                                    "customerid": "829",
                                    "firstname": "AZPVTW",
                                    "lastname": "UMTJYQQCKY",
                                    "address1": "5533373880 Dell Way",
                                    "address2": "",
                                    "city": "UGZCMII",
                                    "state": "MN",
                                    "zip": "27018",
                                    "country": "US",
                                    "region": "1",
                                    "email": "UMTJYQQCKY@dell.com",
                                    "phone": "5533373880",
                                    "creditcardtype": "2",
                                    "creditcard": "5252180055715143",
                                    "creditcardexpiration": "2011/11",
                                    "username": "user829",
                                    "password": "password",
                                    "age": "46",
                                    "income": "60000",
                                    "gender": "M"
                                },
                                {
                                    "customerid": "1322",
                                    "firstname": "AZRCMO",
                                    "lastname": "GBRDIKHGZH",
                                    "address1": "3140327323 Dell Way",
                                    "address2": "",
                                    "city": "HKTOUMX",
                                    "state": "OH",
                                    "zip": "57042",
                                    "country": "US",
                                    "region": "1",
                                    "email": "GBRDIKHGZH@dell.com",
                                    "phone": "3140327323",
                                    "creditcardtype": "4",
                                    "creditcard": "4135095870587975",
                                    "creditcardexpiration": "2010/05",
                                    "username": "user1322",
                                    "password": "password",
                                    "age": "46",
                                    "income": "100000",
                                    "gender": "M"
                                },
                                {
                                    "customerid": "2025",
                                    "firstname": "AZMAIQ",
                                    "lastname": "HFBBETZROB",
                                    "address1": "4168882685 Dell Way",
                                    "address2": "",
                                    "city": "MDABECE",
                                    "state": "LA",
                                    "zip": "29423",
                                    "country": "US",
                                    "region": "1",
                                    "email": "HFBBETZROB@dell.com",
                                    "phone": "4168882685",
                                    "creditcardtype": "2",
                                    "creditcard": "5058186975307762",
                                    "creditcardexpiration": "2012/02",
                                    "username": "user2025",
                                    "password": "password",
                                    "age": "24",
                                    "income": "60000",
                                    "gender": "M"
                                },
                                {
                                    "customerid": "2356",
                                    "firstname": "AZWSBL",
                                    "lastname": "ZYXCHTOWRG",
                                    "address1": "6155980013 Dell Way",
                                    "address2": "",
                                    "city": "CNUBGNZ",
                                    "state": "KY",
                                    "zip": "27719",
                                    "country": "US",
                                    "region": "1",
                                    "email": "ZYXCHTOWRG@dell.com",
                                    "phone": "6155980013",
                                    "creditcardtype": "4",
                                    "creditcard": "5126263682264834",
                                    "creditcardexpiration": "2012/01",
                                    "username": "user2356",
                                    "password": "password",
                                    "age": "69",
                                    "income": "20000",
                                    "gender": "F"
                                },
                                {
                                    "customerid": "5016",
                                    "firstname": "AZNUCI",
                                    "lastname": "MTUYHSTFJN",
                                    "address1": "1021093327 Dell Way",
                                    "address2": "",
                                    "city": "HXDCKNP",
                                    "state": "NJ",
                                    "zip": "73053",
                                    "country": "US",
                                    "region": "1",
                                    "email": "MTUYHSTFJN@dell.com",
                                    "phone": "1021093327",
                                    "creditcardtype": "2",
                                    "creditcard": "6551118154544383",
                                    "creditcardexpiration": "2009/10",
                                    "username": "user5016",
                                    "password": "password",
                                    "age": "45",
                                    "income": "40000",
                                    "gender": "M"
                                }
                            ]
                        },
                        "text/html": [
                            "<table>",
                            "<tr><th>customerid</th><th>firstname</th><th>lastname</th><th>address1</th><th>address2</th><th>city</th><th>state</th><th>zip</th><th>country</th><th>region</th><th>email</th><th>phone</th><th>creditcardtype</th><th>creditcard</th><th>creditcardexpiration</th><th>username</th><th>password</th><th>age</th><th>income</th><th>gender</th></tr>",
                            "<tr><td>829</td><td>AZPVTW</td><td>UMTJYQQCKY</td><td>5533373880 Dell Way</td><td></td><td>UGZCMII</td><td>MN</td><td>27018</td><td>US</td><td>1</td><td>UMTJYQQCKY@dell.com</td><td>5533373880</td><td>2</td><td>5252180055715143</td><td>2011/11</td><td>user829</td><td>password</td><td>46</td><td>60000</td><td>M</td></tr>",
                            "<tr><td>1322</td><td>AZRCMO</td><td>GBRDIKHGZH</td><td>3140327323 Dell Way</td><td></td><td>HKTOUMX</td><td>OH</td><td>57042</td><td>US</td><td>1</td><td>GBRDIKHGZH@dell.com</td><td>3140327323</td><td>4</td><td>4135095870587975</td><td>2010/05</td><td>user1322</td><td>password</td><td>46</td><td>100000</td><td>M</td></tr>",
                            "<tr><td>2025</td><td>AZMAIQ</td><td>HFBBETZROB</td><td>4168882685 Dell Way</td><td></td><td>MDABECE</td><td>LA</td><td>29423</td><td>US</td><td>1</td><td>HFBBETZROB@dell.com</td><td>4168882685</td><td>2</td><td>5058186975307762</td><td>2012/02</td><td>user2025</td><td>password</td><td>24</td><td>60000</td><td>M</td></tr>",
                            "<tr><td>2356</td><td>AZWSBL</td><td>ZYXCHTOWRG</td><td>6155980013 Dell Way</td><td></td><td>CNUBGNZ</td><td>KY</td><td>27719</td><td>US</td><td>1</td><td>ZYXCHTOWRG@dell.com</td><td>6155980013</td><td>4</td><td>5126263682264834</td><td>2012/01</td><td>user2356</td><td>password</td><td>69</td><td>20000</td><td>F</td></tr>",
                            "<tr><td>5016</td><td>AZNUCI</td><td>MTUYHSTFJN</td><td>1021093327 Dell Way</td><td></td><td>HXDCKNP</td><td>NJ</td><td>73053</td><td>US</td><td>1</td><td>MTUYHSTFJN@dell.com</td><td>1021093327</td><td>2</td><td>6551118154544383</td><td>2009/10</td><td>user5016</td><td>password</td><td>45</td><td>40000</td><td>M</td></tr>",
                            "</table>"
                        ]
                    }
                }
            ],
            "execution_count": 45
        },
        {
            "cell_type": "markdown",
            "source": [
                "Row by agonizing row (RBAR) - Jeff Moden"
            ],
            "metadata": {
                "azdata_cell_guid": "dc3169e9-3af8-40a1-a1d7-b83312f64cc3"
            },
            "attachments": {}
        },
        {
            "cell_type": "markdown",
            "source": [
                "### Dynamic queries\n",
                ""
            ],
            "metadata": {
                "azdata_cell_guid": "1fc82f8f-1da7-46d9-af99-e072b7a13fea"
            },
            "attachments": {}
        },
        {
            "cell_type": "code",
            "source": [
                "DO\n",
                "$$\n",
                "    DECLARE\n",
                "        i int;\n",
                "    BEGIN\n",
                "        -- strict ensure only one row is returned, otherwise error raised\n",
                "        --EXECUTE 'select 42 where false' INTO STRICT i;\n",
                "--         EXECUTE 'select 42 union select 43' INTO STRICT i;\n",
                "        EXECUTE 'select 42' INTO STRICT i;\n",
                "        RAISE NOTICE 'i = %', i;\n",
                "    END;\n",
                "$$\n",
                ""
            ],
            "metadata": {
                "azdata_cell_guid": "6f7367a7-5fc8-40c5-8548-9738a5a4eed9",
                "language": "sql"
            },
            "outputs": [
                {
                    "output_type": "display_data",
                    "data": {
                        "text/html": "NOTICE: i = 42"
                    },
                    "metadata": {}
                },
                {
                    "output_type": "display_data",
                    "data": {
                        "text/html": "DO"
                    },
                    "metadata": {}
                },
                {
                    "output_type": "display_data",
                    "data": {
                        "text/html": "Total execution time: 00:00:00"
                    },
                    "metadata": {}
                }
            ],
            "execution_count": 46
        },
        {
            "cell_type": "markdown",
            "source": [
                "#### Dynamic table names and qoute_ident funciton"
            ],
            "metadata": {
                "language": "sql",
                "azdata_cell_guid": "2e994f24-3b42-4afc-a776-44c4968f50b1"
            },
            "attachments": {}
        },
        {
            "cell_type": "code",
            "source": [
                "DO\n",
                "$$\n",
                "    DECLARE\n",
                "        tablename  name;\n",
                "        tablenames name[] = ARRAY ['customers', 'orders'];\n",
                "        rc         bigint;\n",
                "    BEGIN\n",
                "        tablename = tablenames[1 + RANDOM()];\n",
                "--         SELECT COUNT(*) FROM tablename INTO rc;\n",
                "        execute 'select count(*) from' || quote_ident(tablename) into rc;\n",
                "        RAISE NOTICE '% has % rows', tablename, rc;\n",
                "    END;\n",
                "$$\n",
                ""
            ],
            "metadata": {
                "language": "sql",
                "azdata_cell_guid": "c9c28fd3-2284-4547-93bd-a5f9ff50ecea"
            },
            "outputs": [
                {
                    "output_type": "display_data",
                    "data": {
                        "text/html": "NOTICE: orders has 1 rows"
                    },
                    "metadata": {}
                },
                {
                    "output_type": "display_data",
                    "data": {
                        "text/html": "DO"
                    },
                    "metadata": {}
                },
                {
                    "output_type": "display_data",
                    "data": {
                        "text/html": "Total execution time: 00:00:00.001"
                    },
                    "metadata": {}
                }
            ],
            "execution_count": 55
        },
        {
            "cell_type": "markdown",
            "source": [
                "#### Quoting Iterals with quote_literal and quote_nullable"
            ],
            "metadata": {
                "azdata_cell_guid": "b44f92de-0e06-4044-98aa-ef551f2dcf34"
            },
            "attachments": {}
        },
        {
            "cell_type": "code",
            "source": [
                "DO\n",
                "$$\n",
                "    DECLARE\n",
                "        firstname  varchar;\n",
                "        firstnames varchar[] = ARRAY ['A', 'B'];\n",
                "        tbl_name   name      = 'customers';\n",
                "        col_name   name      = 'firstname';\n",
                "        rc         bigint;\n",
                "    BEGIN\n",
                "        firstname = firstnames[1 + RANDOM()];\n",
                "        EXECUTE\n",
                "            'select count(*) from '\n",
                "                || QUOTE_IDENT(tbl_name)\n",
                "                || ' where '\n",
                "                || QUOTE_IDENT(col_name)\n",
                "                || ' like '\n",
                "                || QUOTE_LITERAL(firstname || '%') INTO rc;\n",
                "        RAISE NOTICE '% firstnames start with %', rc, firstname;\n",
                "\n",
                "    END;\n",
                "$$;\n",
                ""
            ],
            "metadata": {
                "azdata_cell_guid": "baef771e-1716-45d2-ad17-c4f3889f29d5",
                "language": "sql"
            },
            "outputs": [
                {
                    "output_type": "display_data",
                    "data": {
                        "text/html": "NOTICE: 747 firstnames start with A"
                    },
                    "metadata": {}
                },
                {
                    "output_type": "display_data",
                    "data": {
                        "text/html": "DO"
                    },
                    "metadata": {}
                },
                {
                    "output_type": "display_data",
                    "data": {
                        "text/html": "Total execution time: 00:00:00.004"
                    },
                    "metadata": {}
                }
            ],
            "execution_count": 56
        },
        {
            "cell_type": "code",
            "source": [
                "SELECT lastname,\n",
                "       'quoted: ' || QUOTE_LITERAL(lastname),\n",
                "       'nullable:' || QUOTE_NULLABLE(lastname)\n",
                "FROM (SELECT '0''Neil' AS lastname UNION SELECT NULL) s;\n",
                ""
            ],
            "metadata": {
                "azdata_cell_guid": "e72ef3f1-3737-421e-88f9-b5be29d5c23f",
                "language": "sql"
            },
            "outputs": [
                {
                    "output_type": "display_data",
                    "data": {
                        "text/html": "(2 row(s) affected)"
                    },
                    "metadata": {}
                },
                {
                    "output_type": "display_data",
                    "data": {
                        "text/html": "Total execution time: 00:00:00.001"
                    },
                    "metadata": {}
                },
                {
                    "output_type": "execute_result",
                    "metadata": {},
                    "execution_count": 57,
                    "data": {
                        "application/vnd.dataresource+json": {
                            "schema": {
                                "fields": [
                                    {
                                        "name": "lastname"
                                    },
                                    {
                                        "name": "Column2"
                                    },
                                    {
                                        "name": "Column3"
                                    }
                                ]
                            },
                            "data": [
                                {
                                    "lastname": "0'Neil",
                                    "Column2": "quoted: '0''Neil'",
                                    "Column3": "nullable:'0''Neil'"
                                },
                                {
                                    "lastname": "NULL",
                                    "Column2": "NULL",
                                    "Column3": "nullable:NULL"
                                }
                            ]
                        },
                        "text/html": [
                            "<table>",
                            "<tr><th>lastname</th><th>Column2</th><th>Column3</th></tr>",
                            "<tr><td>0&#39;Neil</td><td>quoted: &#39;0&#39;&#39;Neil&#39;</td><td>nullable:&#39;0&#39;&#39;Neil&#39;</td></tr>",
                            "<tr><td>NULL</td><td>NULL</td><td>nullable:NULL</td></tr>",
                            "</table>"
                        ]
                    }
                }
            ],
            "execution_count": 57
        },
        {
            "cell_type": "markdown",
            "source": [
                "### SQL injection and USING clause"
            ],
            "metadata": {
                "azdata_cell_guid": "44462a42-94ac-4600-a6b7-5f94d156c9e8"
            },
            "attachments": {}
        },
        {
            "cell_type": "code",
            "source": [
                "DROP TABLE IF EXISTS foo;\n",
                "CREATE TABLE foo\n",
                "(\n",
                "    a int\n",
                ");\n",
                "DO\n",
                "$$\n",
                "    DECLARE\n",
                "        baddata varchar = '0; drop table if exists foo;';\n",
                "    BEGIN\n",
                "        EXECUTE 'select count(*) from orders where orderid = '\n",
                "            || baddata;\n",
                "    END;\n",
                "$$;\n",
                "\n",
                "SELECT *\n",
                "FROM information_schema.tables\n",
                "WHERE table_name = 'foo';\n",
                "\n",
                "\n",
                "DO\n",
                "$$\n",
                "    DECLARE\n",
                "        firstname  varchar;\n",
                "        firstnames varchar[] = ARRAY['A', 'B'];\n",
                "        tbl_name   name      = 'customers';\n",
                "        col_name   name      = 'firstname';\n",
                "        rc         bigint;\n",
                "    BEGIN\n",
                "        firstname = firstnames[1 + RANDOM()];\n",
                "        EXECUTE\n",
                "            'select count(*) from '\n",
                "                || QUOTE_IDENT(tbl_name)\n",
                "                || ' where '\n",
                "                || QUOTE_IDENT(col_name)\n",
                "                || ' like $1'\n",
                "            INTO rc\n",
                "            USING firstname || '%';\n",
                "        RAISE NOTICE '% firstnames start with \"%\"', rc, firstname;\n",
                "    END;\n",
                "$$;\n",
                "\n",
                ""
            ],
            "metadata": {
                "azdata_cell_guid": "5afd599a-8459-4986-97b1-b888620aaeae",
                "language": "sql"
            },
            "outputs": [
                {
                    "output_type": "display_data",
                    "data": {
                        "text/html": "NOTICE: table \"foo\" does not exist, skipping"
                    },
                    "metadata": {}
                },
                {
                    "output_type": "display_data",
                    "data": {
                        "text/html": "DROP TABLE"
                    },
                    "metadata": {}
                },
                {
                    "output_type": "display_data",
                    "data": {
                        "text/html": "CREATE TABLE"
                    },
                    "metadata": {}
                },
                {
                    "output_type": "display_data",
                    "data": {
                        "text/html": "DO"
                    },
                    "metadata": {}
                },
                {
                    "output_type": "display_data",
                    "data": {
                        "text/html": "(0 row(s) affected)"
                    },
                    "metadata": {}
                },
                {
                    "output_type": "display_data",
                    "data": {
                        "text/html": "NOTICE: 801 firstnames start with \"B\""
                    },
                    "metadata": {}
                },
                {
                    "output_type": "display_data",
                    "data": {
                        "text/html": "DO"
                    },
                    "metadata": {}
                },
                {
                    "output_type": "display_data",
                    "data": {
                        "text/html": "Total execution time: 00:00:00.012"
                    },
                    "metadata": {}
                },
                {
                    "output_type": "execute_result",
                    "metadata": {},
                    "execution_count": 58,
                    "data": {
                        "application/vnd.dataresource+json": {
                            "schema": {
                                "fields": [
                                    {
                                        "name": "table_catalog"
                                    },
                                    {
                                        "name": "table_schema"
                                    },
                                    {
                                        "name": "table_name"
                                    },
                                    {
                                        "name": "table_type"
                                    },
                                    {
                                        "name": "self_referencing_column_name"
                                    },
                                    {
                                        "name": "reference_generation"
                                    },
                                    {
                                        "name": "user_defined_type_catalog"
                                    },
                                    {
                                        "name": "user_defined_type_schema"
                                    },
                                    {
                                        "name": "user_defined_type_name"
                                    },
                                    {
                                        "name": "is_insertable_into"
                                    },
                                    {
                                        "name": "is_typed"
                                    },
                                    {
                                        "name": "commit_action"
                                    }
                                ]
                            },
                            "data": []
                        },
                        "text/html": [
                            "<table>",
                            "<tr><th>table_catalog</th><th>table_schema</th><th>table_name</th><th>table_type</th><th>self_referencing_column_name</th><th>reference_generation</th><th>user_defined_type_catalog</th><th>user_defined_type_schema</th><th>user_defined_type_name</th><th>is_insertable_into</th><th>is_typed</th><th>commit_action</th></tr>",
                            "</table>"
                        ]
                    }
                }
            ],
            "execution_count": 58
        },
        {
            "cell_type": "code",
            "source": [
                "DO\n",
                "$$\n",
                "    DECLARE\n",
                "        firstname  varchar;\n",
                "        firstnames varchar[] = ARRAY['A', 'B'];\n",
                "        tbl_name   name      = 'customers';\n",
                "        col_name   name      = 'firstname';\n",
                "        rc         bigint;\n",
                "    BEGIN\n",
                "        firstname = firstnames[1 + RANDOM()];\n",
                "        EXECUTE\n",
                "            'select count(*) from '\n",
                "                || QUOTE_IDENT(tbl_name)\n",
                "                || ' where '\n",
                "                || QUOTE_IDENT(col_name)\n",
                "                || ' like $1'\n",
                "            INTO rc\n",
                "            USING firstname || '%';\n",
                "        RAISE NOTICE '% firstnames start with \"%\"', rc, firstname;\n",
                "    END;\n",
                "$$;\n",
                ""
            ],
            "metadata": {
                "azdata_cell_guid": "59ca230e-139e-4671-8468-ed741a1a767e",
                "language": "sql"
            },
            "outputs": [
                {
                    "output_type": "display_data",
                    "data": {
                        "text/html": "NOTICE: 747 firstnames start with \"A\""
                    },
                    "metadata": {}
                },
                {
                    "output_type": "display_data",
                    "data": {
                        "text/html": "DO"
                    },
                    "metadata": {}
                },
                {
                    "output_type": "display_data",
                    "data": {
                        "text/html": "Total execution time: 00:00:00.003"
                    },
                    "metadata": {}
                }
            ],
            "execution_count": 59
        },
        {
            "cell_type": "code",
            "source": [
                "DO\n",
                "$$\n",
                "    DECLARE\n",
                "        firstname  varchar;\n",
                "        firstnames varchar[] = ARRAY ['A', 'B'];\n",
                "        tbl_name   name      = 'customers';\n",
                "        col_name   name      = 'firstname';\n",
                "        rc         bigint;\n",
                "    BEGIN\n",
                "        firstname = firstnames[1 + RANDOM()];\n",
                "        EXECUTE\n",
                "            FORMAT(\n",
                "                    'select count(*) from %I where %I like $1',\n",
                "                    tbl_name,\n",
                "                    col_name\n",
                "            ) INTO rc USING firstname || '%';\n",
                "        RAISE NOTICE '% firstnames start with \"%\"', rc, firstname;\n",
                "    END;\n",
                "$$;\n",
                ""
            ],
            "metadata": {
                "azdata_cell_guid": "c0c46463-e445-4d1b-a851-5a6f3d93af66",
                "language": "sql"
            },
            "outputs": [
                {
                    "output_type": "display_data",
                    "data": {
                        "text/html": "NOTICE: 747 firstnames start with \"A\""
                    },
                    "metadata": {}
                },
                {
                    "output_type": "display_data",
                    "data": {
                        "text/html": "DO"
                    },
                    "metadata": {}
                },
                {
                    "output_type": "display_data",
                    "data": {
                        "text/html": "Total execution time: 00:00:00.005"
                    },
                    "metadata": {}
                }
            ],
            "execution_count": 64
        },
        {
            "cell_type": "markdown",
            "source": [
                "#### Other uses for dynamic queries\n",
                "\n",
                "\n",
                "```sql\n",
                "return query execute command-string [using expression [, ...]];\n",
                "for target in execute text_expression [using expression [, ...]] loop ...\n",
                "open unbound_cursorvar [ [ no] scroll] for execute query_string\n",
                "\n",
                "```"
            ],
            "metadata": {
                "azdata_cell_guid": "1e9aaf99-6c3c-41d2-8887-01a712ef3527"
            },
            "attachments": {}
        },
        {
            "cell_type": "markdown",
            "source": [
                "## Creating Polymorphic Functions to Control Repetition"
            ],
            "metadata": {
                "azdata_cell_guid": "7d6c893f-6b02-42b7-8615-de03bbd7506f"
            },
            "attachments": {}
        },
        {
            "cell_type": "markdown",
            "source": [
                "+ Polymorphism support\n",
                "+ Ad hot\n",
                "+ Subtyping\n",
                "+ Parametric(generic)\n",
                "+ Polymorphism support\n",
                "+ Variadic\n",
                "+ Default parameter and ambiguity\n",
                "\n",
                ""
            ],
            "metadata": {
                "azdata_cell_guid": "8eed78f9-2ba6-46c2-b86d-3cbd36ebbbc1"
            },
            "attachments": {}
        },
        {
            "cell_type": "markdown",
            "source": [
                "## Ad hoc polymorphic functions\n",
                ""
            ],
            "metadata": {
                "azdata_cell_guid": "d0f30da5-ccfd-4023-b5c8-3c9906111ecb"
            },
            "attachments": {}
        },
        {
            "cell_type": "markdown",
            "source": [
                "#### Adding two numbers\n",
                ""
            ],
            "metadata": {
                "azdata_cell_guid": "bea958eb-dee8-4066-b991-7f4adda45f31"
            },
            "attachments": {}
        },
        {
            "cell_type": "code",
            "source": [
                "CREATE OR REPLACE FUNCTION adhoc(x int, y int) RETURNS int\n",
                "    LANGUAGE sql AS\n",
                "'SELECT x + y;';\n",
                "\n",
                "CREATE OR REPLACE FUNCTION adhoc(x float, y float) RETURNS float\n",
                "    LANGUAGE sql AS\n",
                "'SELECT x + y;';\n",
                "\n",
                "CREATE OR REPLACE FUNCTION phi() RETURNS float\n",
                "    -- golden ratio\n",
                "    LANGUAGE sql AS\n",
                "'SELECT (1::float + SQRT(5::float)) / 2::float;';\n",
                "\n",
                "SELECT adhoc(7, 4), adhoc(PI(), phi());\n",
                "\n",
                "SELECT adhoc('A'::char, 'B'::char);\n",
                ""
            ],
            "metadata": {
                "azdata_cell_guid": "25b68228-ef4d-42fb-a8bc-1c2471b7eded",
                "language": "sql"
            },
            "outputs": [
                {
                    "output_type": "display_data",
                    "data": {
                        "text/html": "CREATE FUNCTION"
                    },
                    "metadata": {}
                },
                {
                    "output_type": "display_data",
                    "data": {
                        "text/html": "CREATE FUNCTION"
                    },
                    "metadata": {}
                },
                {
                    "output_type": "display_data",
                    "data": {
                        "text/html": "CREATE FUNCTION"
                    },
                    "metadata": {}
                },
                {
                    "output_type": "display_data",
                    "data": {
                        "text/html": "(1 row(s) affected)"
                    },
                    "metadata": {}
                },
                {
                    "output_type": "display_data",
                    "data": {
                        "text/html": "Total execution time: 00:00:00.002"
                    },
                    "metadata": {}
                },
                {
                    "output_type": "execute_result",
                    "metadata": {},
                    "execution_count": 65,
                    "data": {
                        "application/vnd.dataresource+json": {
                            "schema": {
                                "fields": [
                                    {
                                        "name": "adhoc"
                                    },
                                    {
                                        "name": "adhoc"
                                    }
                                ]
                            },
                            "data": [
                                {
                                    "adhoc": "4.759626642339688"
                                }
                            ]
                        },
                        "text/html": [
                            "<table>",
                            "<tr><th>adhoc</th><th>adhoc</th></tr>",
                            "<tr><td>11</td><td>4.759626642339688</td></tr>",
                            "</table>"
                        ]
                    }
                },
                {
                    "output_type": "error",
                    "evalue": "function adhoc(character, character) does not exist",
                    "ename": "",
                    "traceback": []
                }
            ],
            "execution_count": 65
        },
        {
            "cell_type": "markdown",
            "source": [
                "#### Selecting from different tables based on parameter types\n",
                ""
            ],
            "metadata": {
                "azdata_cell_guid": "ded302d6-e119-4b31-bb1c-bab38bc65b4d"
            },
            "attachments": {}
        },
        {
            "cell_type": "code",
            "source": [
                "CREATE OR REPLACE FUNCTION getcol(age customers.age%type) RETURNS int\n",
                "    LANGUAGE sql AS\n",
                "$$\n",
                "SELECT customerid\n",
                "FROM customers c\n",
                "WHERE c.age = getcol.age;\n",
                "$$;\n",
                "\n",
                "CREATE OR REPLACE FUNCTION getcol(id orders.orderid%type) RETURNS numeric\n",
                "    LANGUAGE sql AS\n",
                "$$\n",
                "SELECT totalamount\n",
                "FROM orders\n",
                "WHERE orderid = id;\n",
                "$$;\n",
                "\n",
                "SELECT getcol(age) AS customer_id\n",
                "FROM customers limit 1;\n",
                "\n",
                "SELECT getcol(age::int) AS \"customer_id (is it?)\"\n",
                "FROM customers limit 1;\n",
                "SELECT getcol(orderid::int2)\n",
                "FROM orders limit 1;\n",
                ""
            ],
            "metadata": {
                "azdata_cell_guid": "26321a62-4fe6-43eb-b926-aba0ad790c44",
                "language": "sql"
            },
            "outputs": [
                {
                    "output_type": "display_data",
                    "data": {
                        "text/html": "NOTICE: type reference customers.age%TYPE converted to smallint"
                    },
                    "metadata": {}
                },
                {
                    "output_type": "display_data",
                    "data": {
                        "text/html": "CREATE FUNCTION"
                    },
                    "metadata": {}
                },
                {
                    "output_type": "display_data",
                    "data": {
                        "text/html": "NOTICE: type reference orders.orderid%TYPE converted to integer"
                    },
                    "metadata": {}
                },
                {
                    "output_type": "display_data",
                    "data": {
                        "text/html": "CREATE FUNCTION"
                    },
                    "metadata": {}
                },
                {
                    "output_type": "display_data",
                    "data": {
                        "text/html": "(1 row(s) affected)"
                    },
                    "metadata": {}
                },
                {
                    "output_type": "display_data",
                    "data": {
                        "text/html": "(1 row(s) affected)"
                    },
                    "metadata": {}
                },
                {
                    "output_type": "display_data",
                    "data": {
                        "text/html": "(1 row(s) affected)"
                    },
                    "metadata": {}
                },
                {
                    "output_type": "display_data",
                    "data": {
                        "text/html": "Total execution time: 00:00:00.008"
                    },
                    "metadata": {}
                },
                {
                    "output_type": "execute_result",
                    "metadata": {},
                    "execution_count": 68,
                    "data": {
                        "application/vnd.dataresource+json": {
                            "schema": {
                                "fields": [
                                    {
                                        "name": "customer_id"
                                    }
                                ]
                            },
                            "data": [
                                {
                                    "customer_id": "1"
                                }
                            ]
                        },
                        "text/html": [
                            "<table>",
                            "<tr><th>customer_id</th></tr>",
                            "<tr><td>1</td></tr>",
                            "</table>"
                        ]
                    }
                },
                {
                    "output_type": "execute_result",
                    "metadata": {},
                    "execution_count": 68,
                    "data": {
                        "application/vnd.dataresource+json": {
                            "schema": {
                                "fields": [
                                    {
                                        "name": "customer_id (is it?)"
                                    }
                                ]
                            },
                            "data": [
                                {
                                    "customer_id (is it?)": "24.26"
                                }
                            ]
                        },
                        "text/html": [
                            "<table>",
                            "<tr><th>customer_id (is it?)</th></tr>",
                            "<tr><td>24.26</td></tr>",
                            "</table>"
                        ]
                    }
                },
                {
                    "output_type": "execute_result",
                    "metadata": {},
                    "execution_count": 68,
                    "data": {
                        "application/vnd.dataresource+json": {
                            "schema": {
                                "fields": [
                                    {
                                        "name": "getcol"
                                    }
                                ]
                            },
                            "data": [
                                {
                                    "getcol": "NULL"
                                }
                            ]
                        },
                        "text/html": [
                            "<table>",
                            "<tr><th>getcol</th></tr>",
                            "<tr><td>NULL</td></tr>",
                            "</table>"
                        ]
                    }
                }
            ],
            "execution_count": 68
        },
        {
            "cell_type": "markdown",
            "source": [
                "### Subtype polymorphic functions\n",
                ""
            ],
            "metadata": {
                "azdata_cell_guid": "b68d6ba6-29a7-492c-b7f4-a59d4ef367eb"
            },
            "attachments": {}
        },
        {
            "cell_type": "code",
            "source": [
                "CREATE TABLE expedited_orders\n",
                "(\n",
                "    expedited_date date NOT NULL\n",
                ") INHERITS (orders);\n",
                "\n",
                "INSERT INTO expedited_orders (orderdate, customerid, netamount, tax, totalamount, expedited_date)\n",
                "VALUES ('20201225', 1, 0, 0, 0, '20200601');\n",
                "\n",
                "SELECT *\n",
                "FROM expedited_orders;\n",
                "\n",
                "CREATE OR REPLACE FUNCTION has_tax(o_row orders)\n",
                "    RETURNS table\n",
                "            (\n",
                "                tbl varchar,\n",
                "                tax boolean\n",
                "            )\n",
                "    LANGUAGE sql\n",
                "AS\n",
                "$$\n",
                "SELECT 'orders', o_row.tax = 0;\n",
                "$$;\n",
                "\n",
                "CREATE OR REPLACE FUNCTION has_tax(o_row expedited_orders)\n",
                "    RETURNS table\n",
                "            (\n",
                "                tbl varchar,\n",
                "                tax boolean\n",
                "            )\n",
                "    LANGUAGE sql\n",
                "AS\n",
                "$$\n",
                "SELECT 'expedited_orders', o_row.tax = 0;\n",
                "$$;\n",
                "\n",
                "SELECT has_tax(o.*) from orders o where orderid = 1;\n",
                "SELECT has_tax(e.*) from expedited_orders e;\n",
                ""
            ],
            "metadata": {
                "azdata_cell_guid": "83250fae-5c2c-4b58-9d59-80fc73c01281",
                "language": "sql"
            },
            "outputs": [
                {
                    "output_type": "error",
                    "evalue": "relation \"expedited_orders\" already exists",
                    "ename": "",
                    "traceback": []
                },
                {
                    "output_type": "display_data",
                    "data": {
                        "text/html": "Total execution time: 00:00:00"
                    },
                    "metadata": {}
                }
            ],
            "execution_count": 69
        },
        {
            "cell_type": "markdown",
            "source": [
                "### Parametric Parameter Functions\n",
                ""
            ],
            "metadata": {
                "azdata_cell_guid": "feed1b9b-7374-48ee-bad5-0fd4eeb064d4"
            },
            "attachments": {}
        },
        {
            "cell_type": "markdown",
            "source": [
                "Pseudo types\n",
                "\n",
                "\n",
                "| Name | Description| Note |\n",
                "|--------- | ------------- |-----\n",
                "any | any input data type | Not for SQL or Pl/pgSQL\n",
                "anyarray | any array type\n",
                "anyelement | any data datatype \n",
                "anyenum | any enum type\n",
                "anynonarray | any non array type\n",
                "void | returns no value\n",
                ""
            ],
            "metadata": {
                "azdata_cell_guid": "e92d4c33-9a6a-4ceb-a5b5-b3c198a1160d"
            },
            "attachments": {}
        },
        {
            "cell_type": "markdown",
            "source": [
                "#### Generic substraction"
            ],
            "metadata": {
                "azdata_cell_guid": "afc00333-d156-4977-9187-55f56148040b"
            },
            "attachments": {}
        },
        {
            "cell_type": "code",
            "source": [
                "CREATE OR REPLACE FUNCTION f(x anyelement, y anyelement)\n",
                "    RETURNS anyelement\n",
                "    LANGUAGE sql\n",
                "AS\n",
                "'SELECT x - y';\n",
                "\n",
                "SELECT pg_typeof(f(42, 42)), f(42,42);\n",
                "SELECT pg_typeof(f(42.0, 42.0)), f(42.0,42.0);\n",
                "SELECT pg_typeof(f(pi(), phi())), f(pi(),phi());\n",
                ""
            ],
            "metadata": {
                "azdata_cell_guid": "c3324352-7323-4681-9b68-1d853ab65e47",
                "language": "sql"
            },
            "outputs": [
                {
                    "output_type": "display_data",
                    "data": {
                        "text/html": "CREATE FUNCTION"
                    },
                    "metadata": {}
                },
                {
                    "output_type": "display_data",
                    "data": {
                        "text/html": "(1 row(s) affected)"
                    },
                    "metadata": {}
                },
                {
                    "output_type": "display_data",
                    "data": {
                        "text/html": "(1 row(s) affected)"
                    },
                    "metadata": {}
                },
                {
                    "output_type": "display_data",
                    "data": {
                        "text/html": "(1 row(s) affected)"
                    },
                    "metadata": {}
                },
                {
                    "output_type": "display_data",
                    "data": {
                        "text/html": "Total execution time: 00:00:00.004"
                    },
                    "metadata": {}
                },
                {
                    "output_type": "execute_result",
                    "metadata": {},
                    "execution_count": 70,
                    "data": {
                        "application/vnd.dataresource+json": {
                            "schema": {
                                "fields": [
                                    {
                                        "name": "pg_typeof"
                                    },
                                    {
                                        "name": "f"
                                    }
                                ]
                            },
                            "data": [
                                {
                                    "pg_typeof": "integer",
                                    "f": "0"
                                }
                            ]
                        },
                        "text/html": [
                            "<table>",
                            "<tr><th>pg_typeof</th><th>f</th></tr>",
                            "<tr><td>integer</td><td>0</td></tr>",
                            "</table>"
                        ]
                    }
                },
                {
                    "output_type": "execute_result",
                    "metadata": {},
                    "execution_count": 70,
                    "data": {
                        "application/vnd.dataresource+json": {
                            "schema": {
                                "fields": [
                                    {
                                        "name": "pg_typeof"
                                    },
                                    {
                                        "name": "f"
                                    }
                                ]
                            },
                            "data": [
                                {
                                    "pg_typeof": "numeric",
                                    "f": "0.0"
                                }
                            ]
                        },
                        "text/html": [
                            "<table>",
                            "<tr><th>pg_typeof</th><th>f</th></tr>",
                            "<tr><td>numeric</td><td>0.0</td></tr>",
                            "</table>"
                        ]
                    }
                },
                {
                    "output_type": "execute_result",
                    "metadata": {},
                    "execution_count": 70,
                    "data": {
                        "application/vnd.dataresource+json": {
                            "schema": {
                                "fields": [
                                    {
                                        "name": "pg_typeof"
                                    },
                                    {
                                        "name": "f"
                                    }
                                ]
                            },
                            "data": [
                                {
                                    "pg_typeof": "double precision",
                                    "f": "1.5235586648398982"
                                }
                            ]
                        },
                        "text/html": [
                            "<table>",
                            "<tr><th>pg_typeof</th><th>f</th></tr>",
                            "<tr><td>double precision</td><td>1.5235586648398982</td></tr>",
                            "</table>"
                        ]
                    }
                }
            ],
            "execution_count": 70
        },
        {
            "cell_type": "code",
            "source": [
                "select f(true, false);\n",
                ""
            ],
            "metadata": {
                "azdata_cell_guid": "713a650f-7f35-47db-bc0f-ea0bf6ce4f6a",
                "language": "sql"
            },
            "outputs": [
                {
                    "output_type": "error",
                    "evalue": "operator does not exist: boolean - boolean",
                    "ename": "",
                    "traceback": []
                },
                {
                    "output_type": "display_data",
                    "data": {
                        "text/html": "Total execution time: 00:00:00.001"
                    },
                    "metadata": {}
                }
            ],
            "execution_count": 71
        },
        {
            "cell_type": "markdown",
            "source": [
                "#### Generic ARRAY 'addition\" (concatenation)"
            ],
            "metadata": {
                "language": "sql",
                "azdata_cell_guid": "d990f6a9-0afc-40b0-bf16-815ee640251c"
            },
            "attachments": {}
        },
        {
            "cell_type": "code",
            "source": [
                "CREATE OR REPLACE FUNCTION g(x anyarray, y anyarray)\n",
                "    RETURNS anyarray\n",
                "    LANGUAGE sql AS\n",
                "'SELECT x || y';\n",
                "\n",
                "SELECT g(ARRAY [1,2,3], array[4,5,6]);\n",
                "SELECT g(ARRAY ['a', 'b'], array['c', 'd']);\n",
                ""
            ],
            "metadata": {
                "language": "sql",
                "azdata_cell_guid": "5f913797-4869-4437-8fb4-dd3c6bfba51d"
            },
            "outputs": [
                {
                    "output_type": "display_data",
                    "data": {
                        "text/html": "CREATE FUNCTION"
                    },
                    "metadata": {}
                },
                {
                    "output_type": "display_data",
                    "data": {
                        "text/html": "(1 row(s) affected)"
                    },
                    "metadata": {}
                },
                {
                    "output_type": "display_data",
                    "data": {
                        "text/html": "(1 row(s) affected)"
                    },
                    "metadata": {}
                },
                {
                    "output_type": "display_data",
                    "data": {
                        "text/html": "Total execution time: 00:00:00.003"
                    },
                    "metadata": {}
                },
                {
                    "output_type": "execute_result",
                    "metadata": {},
                    "execution_count": 72,
                    "data": {
                        "application/vnd.dataresource+json": {
                            "schema": {
                                "fields": [
                                    {
                                        "name": "g"
                                    }
                                ]
                            },
                            "data": [
                                {
                                    "g": "{1,2,3,4,5,6}"
                                }
                            ]
                        },
                        "text/html": [
                            "<table>",
                            "<tr><th>g</th></tr>",
                            "<tr><td>{1,2,3,4,5,6}</td></tr>",
                            "</table>"
                        ]
                    }
                },
                {
                    "output_type": "execute_result",
                    "metadata": {},
                    "execution_count": 72,
                    "data": {
                        "application/vnd.dataresource+json": {
                            "schema": {
                                "fields": [
                                    {
                                        "name": "g"
                                    }
                                ]
                            },
                            "data": [
                                {
                                    "g": "[\"a\", \"b\", \"c\", \"d\"]"
                                }
                            ]
                        },
                        "text/html": [
                            "<table>",
                            "<tr><th>g</th></tr>",
                            "<tr><td>[&quot;a&quot;, &quot;b&quot;, &quot;c&quot;, &quot;d&quot;]</td></tr>",
                            "</table>"
                        ]
                    }
                }
            ],
            "execution_count": 72
        },
        {
            "cell_type": "markdown",
            "source": [
                "#### Unsupported type"
            ],
            "metadata": {
                "azdata_cell_guid": "fabd9c3b-aa86-4901-97f2-d4241399c08f"
            },
            "attachments": {}
        },
        {
            "cell_type": "code",
            "source": [
                "CREATE OR REPLACE FUNCTION h(x anyenum)\n",
                "    RETURNS void\n",
                "    LANGUAGE sql AS\n",
                "'';\n",
                "SELECT h(42);\n",
                ""
            ],
            "metadata": {
                "azdata_cell_guid": "36aa10b3-218d-40ca-b8d7-030b123094f6",
                "language": "sql"
            },
            "outputs": [
                {
                    "output_type": "display_data",
                    "data": {
                        "text/html": "CREATE FUNCTION"
                    },
                    "metadata": {}
                },
                {
                    "output_type": "error",
                    "evalue": "function h(integer) does not exist",
                    "ename": "",
                    "traceback": []
                },
                {
                    "output_type": "display_data",
                    "data": {
                        "text/html": "Total execution time: 00:00:00.001"
                    },
                    "metadata": {}
                }
            ],
            "execution_count": 73
        },
        {
            "cell_type": "markdown",
            "source": [
                "#### anyelement with restrictions"
            ],
            "metadata": {
                "language": "sql",
                "azdata_cell_guid": "7666ddcf-0e55-4dbe-9875-0715815119f0"
            },
            "attachments": {}
        },
        {
            "cell_type": "code",
            "source": [
                "CREATE OR REPLACE FUNCTION f(x anyelement, y anyelement)\n",
                "    RETURNS anyelement\n",
                "    LANGUAGE plpgsql AS\n",
                "$$\n",
                "BEGIN\n",
                "    IF pg_typeof(x) IN ('integer', 'numeric', 'double precision')\n",
                "        AND pg_typeof(y) IN ('integer', 'numeric', 'double precision')\n",
                "    THEN\n",
                "        RETURN x - y;\n",
                "    ELSE\n",
                "        RETURN NULL;\n",
                "    END IF;\n",
                "END;\n",
                "$$;\n",
                "\n",
                "SELECT f(42, 42) AS \"ints\", f(42.0, 42.0) AS \"nums\", f(42::real, 42::real) AS \"reals\";\n",
                ""
            ],
            "metadata": {
                "language": "sql",
                "azdata_cell_guid": "271854fb-9b5a-48c0-b086-733315c50230"
            },
            "outputs": [
                {
                    "output_type": "display_data",
                    "data": {
                        "text/html": "CREATE FUNCTION"
                    },
                    "metadata": {}
                },
                {
                    "output_type": "display_data",
                    "data": {
                        "text/html": "(1 row(s) affected)"
                    },
                    "metadata": {}
                },
                {
                    "output_type": "display_data",
                    "data": {
                        "text/html": "Total execution time: 00:00:00.003"
                    },
                    "metadata": {}
                },
                {
                    "output_type": "execute_result",
                    "metadata": {},
                    "execution_count": 74,
                    "data": {
                        "application/vnd.dataresource+json": {
                            "schema": {
                                "fields": [
                                    {
                                        "name": "ints"
                                    },
                                    {
                                        "name": "nums"
                                    },
                                    {
                                        "name": "reals"
                                    }
                                ]
                            },
                            "data": [
                                {
                                    "ints": "0",
                                    "nums": "0.0",
                                    "reals": "NULL"
                                }
                            ]
                        },
                        "text/html": [
                            "<table>",
                            "<tr><th>ints</th><th>nums</th><th>reals</th></tr>",
                            "<tr><td>0</td><td>0.0</td><td>NULL</td></tr>",
                            "</table>"
                        ]
                    }
                }
            ],
            "execution_count": 74
        },
        {
            "cell_type": "markdown",
            "source": [
                "### Variadic functions"
            ],
            "metadata": {
                "azdata_cell_guid": "2b9c08c1-c8d2-4967-a093-23e19ad25489"
            },
            "attachments": {}
        },
        {
            "cell_type": "markdown",
            "source": [
                "#### Variadic parameter of a specific type\n",
                ""
            ],
            "metadata": {
                "azdata_cell_guid": "422c5ec0-8694-46cc-b6aa-e2b2bb24c5ac"
            },
            "attachments": {}
        },
        {
            "cell_type": "code",
            "source": [
                "CREATE OR REPLACE FUNCTION v(VARIADIC x int[]) RETURNS setof int\n",
                "    LANGUAGE sql AS\n",
                "$$\n",
                "SELECT *\n",
                "FROM UNNEST(x);\n",
                "$$;\n",
                "\n",
                "SELECT *\n",
                "FROM v(1, 2);\n",
                "SELECT *\n",
                "FROM v(VARIADIC x := ARRAY [1,2,3]);\n",
                ""
            ],
            "metadata": {
                "azdata_cell_guid": "393121d8-5f07-4619-bf03-593ee9407902",
                "language": "sql"
            },
            "outputs": [
                {
                    "output_type": "display_data",
                    "data": {
                        "text/html": "CREATE FUNCTION"
                    },
                    "metadata": {}
                },
                {
                    "output_type": "display_data",
                    "data": {
                        "text/html": "(2 row(s) affected)"
                    },
                    "metadata": {}
                },
                {
                    "output_type": "display_data",
                    "data": {
                        "text/html": "(3 row(s) affected)"
                    },
                    "metadata": {}
                },
                {
                    "output_type": "display_data",
                    "data": {
                        "text/html": "Total execution time: 00:00:00.003"
                    },
                    "metadata": {}
                },
                {
                    "output_type": "execute_result",
                    "metadata": {},
                    "execution_count": 75,
                    "data": {
                        "application/vnd.dataresource+json": {
                            "schema": {
                                "fields": [
                                    {
                                        "name": "v"
                                    }
                                ]
                            },
                            "data": [
                                {
                                    "v": "1"
                                },
                                {
                                    "v": "2"
                                }
                            ]
                        },
                        "text/html": [
                            "<table>",
                            "<tr><th>v</th></tr>",
                            "<tr><td>1</td></tr>",
                            "<tr><td>2</td></tr>",
                            "</table>"
                        ]
                    }
                },
                {
                    "output_type": "execute_result",
                    "metadata": {},
                    "execution_count": 75,
                    "data": {
                        "application/vnd.dataresource+json": {
                            "schema": {
                                "fields": [
                                    {
                                        "name": "v"
                                    }
                                ]
                            },
                            "data": [
                                {
                                    "v": "1"
                                },
                                {
                                    "v": "2"
                                },
                                {
                                    "v": "3"
                                }
                            ]
                        },
                        "text/html": [
                            "<table>",
                            "<tr><th>v</th></tr>",
                            "<tr><td>1</td></tr>",
                            "<tr><td>2</td></tr>",
                            "<tr><td>3</td></tr>",
                            "</table>"
                        ]
                    }
                }
            ],
            "execution_count": 75
        },
        {
            "cell_type": "markdown",
            "source": [
                "#### Variadic parameter of a pseudo type (generic)"
            ],
            "metadata": {
                "azdata_cell_guid": "ece5d872-90d7-4388-8845-5597765d4d7d"
            },
            "attachments": {}
        },
        {
            "cell_type": "code",
            "source": [
                "CREATE OR REPLACE FUNCTION v(VARIADIC x anyarray)\n",
                "    RETURNS setof ANYELEMENT\n",
                "    LANGUAGE SQL AS\n",
                "$$\n",
                "SELECT *\n",
                "FROM UNNEST(x);\n",
                "$$;\n",
                "\n",
                "\n",
                "select * from v(1,2);\n",
                "select * from v('a'::char, 'b'::char);"
            ],
            "metadata": {
                "azdata_cell_guid": "43c559de-b9ed-441f-b655-019ced43f2c0",
                "language": "sql"
            },
            "outputs": [
                {
                    "output_type": "display_data",
                    "data": {
                        "text/html": "CREATE FUNCTION"
                    },
                    "metadata": {}
                },
                {
                    "output_type": "display_data",
                    "data": {
                        "text/html": "(2 row(s) affected)"
                    },
                    "metadata": {}
                },
                {
                    "output_type": "display_data",
                    "data": {
                        "text/html": "(2 row(s) affected)"
                    },
                    "metadata": {}
                },
                {
                    "output_type": "display_data",
                    "data": {
                        "text/html": "Total execution time: 00:00:00.003"
                    },
                    "metadata": {}
                },
                {
                    "output_type": "execute_result",
                    "metadata": {},
                    "execution_count": 76,
                    "data": {
                        "application/vnd.dataresource+json": {
                            "schema": {
                                "fields": [
                                    {
                                        "name": "v"
                                    }
                                ]
                            },
                            "data": [
                                {
                                    "v": "1"
                                },
                                {
                                    "v": "2"
                                }
                            ]
                        },
                        "text/html": [
                            "<table>",
                            "<tr><th>v</th></tr>",
                            "<tr><td>1</td></tr>",
                            "<tr><td>2</td></tr>",
                            "</table>"
                        ]
                    }
                },
                {
                    "output_type": "execute_result",
                    "metadata": {},
                    "execution_count": 76,
                    "data": {
                        "application/vnd.dataresource+json": {
                            "schema": {
                                "fields": [
                                    {
                                        "name": "v"
                                    }
                                ]
                            },
                            "data": [
                                {
                                    "v": "a"
                                },
                                {
                                    "v": "b"
                                }
                            ]
                        },
                        "text/html": [
                            "<table>",
                            "<tr><th>v</th></tr>",
                            "<tr><td>a</td></tr>",
                            "<tr><td>b</td></tr>",
                            "</table>"
                        ]
                    }
                }
            ],
            "execution_count": 76
        },
        {
            "cell_type": "markdown",
            "source": [
                "#### Variadic logger"
            ],
            "metadata": {
                "azdata_cell_guid": "b6799dd8-5dd0-49be-9ae7-a52e7fd9a384"
            },
            "attachments": {}
        },
        {
            "cell_type": "code",
            "source": [
                "CREATE OR REPLACE FUNCTION logger(VARIADIC l varchar[]) RETURNS void\n",
                "    LANGUAGE plpgsql AS\n",
                "$$\n",
                "DECLARE\n",
                "    le varchar;\n",
                "BEGIN\n",
                "    SELECT STRING_AGG(x, '|') FROM UNNEST(l) AS l(x) INTO le;\n",
                "    RAISE NOTICE 'Log entry: %', le;\n",
                "END;\n",
                "$$;\n",
                "\n",
                "SELECT logger('this', 'is','a','log', 'entry');\n",
                ""
            ],
            "metadata": {
                "azdata_cell_guid": "efa9d073-d230-4f58-a05b-08c167c849fb",
                "language": "sql"
            },
            "outputs": [
                {
                    "output_type": "display_data",
                    "data": {
                        "text/html": "CREATE FUNCTION"
                    },
                    "metadata": {}
                },
                {
                    "output_type": "display_data",
                    "data": {
                        "text/html": "NOTICE: Log entry: this|is|a|log|entry"
                    },
                    "metadata": {}
                },
                {
                    "output_type": "display_data",
                    "data": {
                        "text/html": "(1 row(s) affected)"
                    },
                    "metadata": {}
                },
                {
                    "output_type": "display_data",
                    "data": {
                        "text/html": "Total execution time: 00:00:00.002"
                    },
                    "metadata": {}
                },
                {
                    "output_type": "execute_result",
                    "metadata": {},
                    "execution_count": 77,
                    "data": {
                        "application/vnd.dataresource+json": {
                            "schema": {
                                "fields": [
                                    {
                                        "name": "logger"
                                    }
                                ]
                            },
                            "data": [
                                {
                                    "logger": ""
                                }
                            ]
                        },
                        "text/html": [
                            "<table>",
                            "<tr><th>logger</th></tr>",
                            "<tr><td></td></tr>",
                            "</table>"
                        ]
                    }
                }
            ],
            "execution_count": 77
        },
        {
            "cell_type": "markdown",
            "source": [
                "### Default Parameters and Ambiguity"
            ],
            "metadata": {
                "azdata_cell_guid": "0403e1d4-3a7c-4ba8-8d33-af27534333c1"
            },
            "attachments": {}
        },
        {
            "cell_type": "code",
            "source": [
                "CREATE OR REPLACE FUNCTION f(a int, b int) RETURNS int\n",
                "    LANGUAGE sql AS\n",
                "'SELECT 42';\n",
                "CREATE OR REPLACE FUNCTION f(a int, b int, c int = 42) RETURNS int\n",
                "    LANGUAGE sql AS\n",
                "'SELECT c';\n",
                "\n",
                "select f(42,42);\n",
                "select f(42,42, 43);\n",
                ""
            ],
            "metadata": {
                "azdata_cell_guid": "8da7832c-5694-4576-a364-03e918190ae3",
                "language": "sql"
            },
            "outputs": [
                {
                    "output_type": "display_data",
                    "data": {
                        "text/html": "CREATE FUNCTION"
                    },
                    "metadata": {}
                },
                {
                    "output_type": "display_data",
                    "data": {
                        "text/html": "CREATE FUNCTION"
                    },
                    "metadata": {}
                },
                {
                    "output_type": "error",
                    "evalue": "function f(integer, integer) is not unique",
                    "ename": "",
                    "traceback": []
                },
                {
                    "output_type": "display_data",
                    "data": {
                        "text/html": "Total execution time: 00:00:00"
                    },
                    "metadata": {}
                }
            ],
            "execution_count": 78
        }
    ]
}