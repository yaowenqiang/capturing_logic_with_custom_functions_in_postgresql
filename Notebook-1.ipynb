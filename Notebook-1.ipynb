{
    "metadata": {
        "kernelspec": {
            "name": "SQL",
            "display_name": "SQL",
            "language": "sql"
        },
        "language_info": {
            "name": "sql",
            "version": ""
        }
    },
    "nbformat_minor": 2,
    "nbformat": 4,
    "cells": [
        {
            "cell_type": "markdown",
            "source": [
                "# Built0-in Functions\n",
                "\n",
                "| ANSI SQL Standard | POstgreSQL Extensions |\n",
                "--------- | -------\n",
                "sum  | trunc\n",
                "max | cbrt\n",
                "min | pi\n",
                "cast | random\n",
                "count | to_num\n",
                "floor | to_char\n",
                "ceiling | now\n",
                ""
            ],
            "metadata": {
                "azdata_cell_guid": "d987175e-0c04-43d2-9780-f58d8e270b11"
            },
            "attachments": {}
        },
        {
            "cell_type": "markdown",
            "source": [
                "## Business Use Cases\n",
                "\n",
                "+ Encaptsulate business logic\n",
                "+ Enforce semantic relationships\n",
                "+ Validate and transoform data\n",
                "+ control access to sensitive date\n",
                "+ Encourage code reuse\n",
                "+ Don't Repeat YOurself(DRY)\n",
                "\n",
                "\n",
                ""
            ],
            "metadata": {
                "azdata_cell_guid": "2877de00-15a9-4b87-86ed-eba0b0650a3a"
            },
            "attachments": {}
        },
        {
            "cell_type": "markdown",
            "source": [
                "+ Setting up a working environment\n",
                "+ Creating your first function\n",
                "+ Data types\n",
                "+ Polymorphic functions\n",
                "+ Function overloading\n",
                "+ Stored procedures\n",
                "+ Error handling"
            ],
            "metadata": {
                "azdata_cell_guid": "6d617ea4-c6a6-4367-8c39-fa6177c5ffd9"
            },
            "attachments": {}
        },
        {
            "cell_type": "code",
            "source": [
                "select CURRENT_TIMESTAMP"
            ],
            "metadata": {
                "azdata_cell_guid": "735238b3-d4d1-48c4-9e2f-089a6e36cb10",
                "language": "sql"
            },
            "outputs": [
                {
                    "output_type": "display_data",
                    "data": {
                        "text/html": "(1 row(s) affected)"
                    },
                    "metadata": {}
                },
                {
                    "output_type": "display_data",
                    "data": {
                        "text/html": "Total execution time: 00:00:00.002"
                    },
                    "metadata": {}
                },
                {
                    "output_type": "execute_result",
                    "metadata": {},
                    "execution_count": 1,
                    "data": {
                        "application/vnd.dataresource+json": {
                            "schema": {
                                "fields": [
                                    {
                                        "name": "current_timestamp"
                                    }
                                ]
                            },
                            "data": [
                                {
                                    "current_timestamp": "2024-09-07 23:42:02.844127+08"
                                }
                            ]
                        },
                        "text/html": [
                            "<table>",
                            "<tr><th>current_timestamp</th></tr>",
                            "<tr><td>2024-09-07 23:42:02.844127+08</td></tr>",
                            "</table>"
                        ]
                    }
                }
            ],
            "execution_count": 1
        },
        {
            "cell_type": "code",
            "source": [
                "select * from customers limit 1"
            ],
            "metadata": {
                "language": "sql",
                "azdata_cell_guid": "e616edc7-3906-453d-b5ce-d603d0fc7606"
            },
            "outputs": [
                {
                    "output_type": "display_data",
                    "data": {
                        "text/html": "(1 row(s) affected)"
                    },
                    "metadata": {}
                },
                {
                    "output_type": "display_data",
                    "data": {
                        "text/html": "Total execution time: 00:00:00.002"
                    },
                    "metadata": {}
                },
                {
                    "output_type": "execute_result",
                    "metadata": {},
                    "execution_count": 2,
                    "data": {
                        "application/vnd.dataresource+json": {
                            "schema": {
                                "fields": [
                                    {
                                        "name": "customerid"
                                    },
                                    {
                                        "name": "firstname"
                                    },
                                    {
                                        "name": "lastname"
                                    },
                                    {
                                        "name": "address1"
                                    },
                                    {
                                        "name": "address2"
                                    },
                                    {
                                        "name": "city"
                                    },
                                    {
                                        "name": "state"
                                    },
                                    {
                                        "name": "zip"
                                    },
                                    {
                                        "name": "country"
                                    },
                                    {
                                        "name": "region"
                                    },
                                    {
                                        "name": "email"
                                    },
                                    {
                                        "name": "phone"
                                    },
                                    {
                                        "name": "creditcardtype"
                                    },
                                    {
                                        "name": "creditcard"
                                    },
                                    {
                                        "name": "creditcardexpiration"
                                    },
                                    {
                                        "name": "username"
                                    },
                                    {
                                        "name": "password"
                                    },
                                    {
                                        "name": "age"
                                    },
                                    {
                                        "name": "income"
                                    },
                                    {
                                        "name": "gender"
                                    }
                                ]
                            },
                            "data": [
                                {
                                    "customerid": "1",
                                    "firstname": "RNPOJG",
                                    "lastname": "FQIVBKWIZC",
                                    "address1": "1287944454 Dell Way",
                                    "address2": "",
                                    "city": "XCXNWIS",
                                    "state": "ND",
                                    "zip": "42572",
                                    "country": "US",
                                    "region": "1",
                                    "email": "FQIVBKWIZC@dell.com",
                                    "phone": "1287944454",
                                    "creditcardtype": "5",
                                    "creditcard": "1890860486775636",
                                    "creditcardexpiration": "2012/06",
                                    "username": "user1",
                                    "password": "password",
                                    "age": "49",
                                    "income": "80000",
                                    "gender": "M"
                                }
                            ]
                        },
                        "text/html": [
                            "<table>",
                            "<tr><th>customerid</th><th>firstname</th><th>lastname</th><th>address1</th><th>address2</th><th>city</th><th>state</th><th>zip</th><th>country</th><th>region</th><th>email</th><th>phone</th><th>creditcardtype</th><th>creditcard</th><th>creditcardexpiration</th><th>username</th><th>password</th><th>age</th><th>income</th><th>gender</th></tr>",
                            "<tr><td>1</td><td>RNPOJG</td><td>FQIVBKWIZC</td><td>1287944454 Dell Way</td><td></td><td>XCXNWIS</td><td>ND</td><td>42572</td><td>US</td><td>1</td><td>FQIVBKWIZC@dell.com</td><td>1287944454</td><td>5</td><td>1890860486775636</td><td>2012/06</td><td>user1</td><td>password</td><td>49</td><td>80000</td><td>M</td></tr>",
                            "</table>"
                        ]
                    }
                }
            ],
            "execution_count": 2
        },
        {
            "cell_type": "code",
            "source": [
                "SELECT\n",
                "    c.firstname,\n",
                "    c.lastname,\n",
                "    o.orderid,\n",
                "    o.netamount\n",
                "    from customers C\n",
                "    join orders O\n",
                "    on c.customerid = o.customerid limit 10;"
            ],
            "metadata": {
                "language": "sql",
                "azdata_cell_guid": "de3e4622-a136-45f9-bd57-65749657ec65"
            },
            "outputs": [
                {
                    "output_type": "display_data",
                    "data": {
                        "text/html": "(10 row(s) affected)"
                    },
                    "metadata": {}
                },
                {
                    "output_type": "display_data",
                    "data": {
                        "text/html": "Total execution time: 00:00:00.002"
                    },
                    "metadata": {}
                },
                {
                    "output_type": "execute_result",
                    "metadata": {},
                    "execution_count": 4,
                    "data": {
                        "application/vnd.dataresource+json": {
                            "schema": {
                                "fields": [
                                    {
                                        "name": "firstname"
                                    },
                                    {
                                        "name": "lastname"
                                    },
                                    {
                                        "name": "orderid"
                                    },
                                    {
                                        "name": "netamount"
                                    }
                                ]
                            },
                            "data": [
                                {
                                    "firstname": "RKLQYY",
                                    "lastname": "HPUIUYBWZX",
                                    "orderid": "10677",
                                    "netamount": "5.08"
                                },
                                {
                                    "firstname": "GWPSHI",
                                    "lastname": "QWRLBUPCHY",
                                    "orderid": "2337",
                                    "netamount": "39.06"
                                },
                                {
                                    "firstname": "FCHDNP",
                                    "lastname": "FQZNEVVHNA",
                                    "orderid": "9077",
                                    "netamount": "323.30"
                                },
                                {
                                    "firstname": "HOMUAY",
                                    "lastname": "BCTJTZIEZQ",
                                    "orderid": "6239",
                                    "netamount": "341.44"
                                },
                                {
                                    "firstname": "UZCYBH",
                                    "lastname": "NKKNSRDQGC",
                                    "orderid": "1187",
                                    "netamount": "285.39"
                                },
                                {
                                    "firstname": "YADYNS",
                                    "lastname": "VBVFOAENRH",
                                    "orderid": "3710",
                                    "netamount": "350.87"
                                },
                                {
                                    "firstname": "ZGYPBI",
                                    "lastname": "NKKQMREHPQ",
                                    "orderid": "379",
                                    "netamount": "227.45"
                                },
                                {
                                    "firstname": "ZGYPBI",
                                    "lastname": "NKKQMREHPQ",
                                    "orderid": "9447",
                                    "netamount": "83.31"
                                },
                                {
                                    "firstname": "PFIWAF",
                                    "lastname": "MQGNVHRTNH",
                                    "orderid": "3075",
                                    "netamount": "33.63"
                                },
                                {
                                    "firstname": "PQJVZM",
                                    "lastname": "PCCNFVKLZE",
                                    "orderid": "5019",
                                    "netamount": "256.30"
                                }
                            ]
                        },
                        "text/html": [
                            "<table>",
                            "<tr><th>firstname</th><th>lastname</th><th>orderid</th><th>netamount</th></tr>",
                            "<tr><td>RKLQYY</td><td>HPUIUYBWZX</td><td>10677</td><td>5.08</td></tr>",
                            "<tr><td>GWPSHI</td><td>QWRLBUPCHY</td><td>2337</td><td>39.06</td></tr>",
                            "<tr><td>FCHDNP</td><td>FQZNEVVHNA</td><td>9077</td><td>323.30</td></tr>",
                            "<tr><td>HOMUAY</td><td>BCTJTZIEZQ</td><td>6239</td><td>341.44</td></tr>",
                            "<tr><td>UZCYBH</td><td>NKKNSRDQGC</td><td>1187</td><td>285.39</td></tr>",
                            "<tr><td>YADYNS</td><td>VBVFOAENRH</td><td>3710</td><td>350.87</td></tr>",
                            "<tr><td>ZGYPBI</td><td>NKKQMREHPQ</td><td>379</td><td>227.45</td></tr>",
                            "<tr><td>ZGYPBI</td><td>NKKQMREHPQ</td><td>9447</td><td>83.31</td></tr>",
                            "<tr><td>PFIWAF</td><td>MQGNVHRTNH</td><td>3075</td><td>33.63</td></tr>",
                            "<tr><td>PQJVZM</td><td>PCCNFVKLZE</td><td>5019</td><td>256.30</td></tr>",
                            "</table>"
                        ]
                    }
                }
            ],
            "execution_count": 4
        },
        {
            "cell_type": "code",
            "source": [
                "create or replace view cust_orders \n",
                "as \n",
                "SELECT\n",
                "    c.firstname,\n",
                "    c.lastname,\n",
                "    o.orderid,\n",
                "    o.netamount\n",
                "    from customers C\n",
                "    join orders O\n",
                "    on c.customerid = o.customerid limit 10;"
            ],
            "metadata": {
                "azdata_cell_guid": "bd157658-4765-4e4a-b05c-c3b40bc960da",
                "language": "sql"
            },
            "outputs": [
                {
                    "output_type": "display_data",
                    "data": {
                        "text/html": "CREATE VIEW"
                    },
                    "metadata": {}
                },
                {
                    "output_type": "display_data",
                    "data": {
                        "text/html": "Total execution time: 00:00:00.003"
                    },
                    "metadata": {}
                }
            ],
            "execution_count": 5
        },
        {
            "cell_type": "code",
            "source": [
                "select * from cust_orders;"
            ],
            "metadata": {
                "language": "sql",
                "azdata_cell_guid": "7cf9ec75-e87c-46ab-b476-c3d7e70a393d"
            },
            "outputs": [
                {
                    "output_type": "display_data",
                    "data": {
                        "text/html": "(10 row(s) affected)"
                    },
                    "metadata": {}
                },
                {
                    "output_type": "display_data",
                    "data": {
                        "text/html": "Total execution time: 00:00:00.002"
                    },
                    "metadata": {}
                },
                {
                    "output_type": "execute_result",
                    "metadata": {},
                    "execution_count": 6,
                    "data": {
                        "application/vnd.dataresource+json": {
                            "schema": {
                                "fields": [
                                    {
                                        "name": "firstname"
                                    },
                                    {
                                        "name": "lastname"
                                    },
                                    {
                                        "name": "orderid"
                                    },
                                    {
                                        "name": "netamount"
                                    }
                                ]
                            },
                            "data": [
                                {
                                    "firstname": "RKLQYY",
                                    "lastname": "HPUIUYBWZX",
                                    "orderid": "10677",
                                    "netamount": "5.08"
                                },
                                {
                                    "firstname": "GWPSHI",
                                    "lastname": "QWRLBUPCHY",
                                    "orderid": "2337",
                                    "netamount": "39.06"
                                },
                                {
                                    "firstname": "FCHDNP",
                                    "lastname": "FQZNEVVHNA",
                                    "orderid": "9077",
                                    "netamount": "323.30"
                                },
                                {
                                    "firstname": "HOMUAY",
                                    "lastname": "BCTJTZIEZQ",
                                    "orderid": "6239",
                                    "netamount": "341.44"
                                },
                                {
                                    "firstname": "UZCYBH",
                                    "lastname": "NKKNSRDQGC",
                                    "orderid": "1187",
                                    "netamount": "285.39"
                                },
                                {
                                    "firstname": "YADYNS",
                                    "lastname": "VBVFOAENRH",
                                    "orderid": "3710",
                                    "netamount": "350.87"
                                },
                                {
                                    "firstname": "ZGYPBI",
                                    "lastname": "NKKQMREHPQ",
                                    "orderid": "379",
                                    "netamount": "227.45"
                                },
                                {
                                    "firstname": "ZGYPBI",
                                    "lastname": "NKKQMREHPQ",
                                    "orderid": "9447",
                                    "netamount": "83.31"
                                },
                                {
                                    "firstname": "PFIWAF",
                                    "lastname": "MQGNVHRTNH",
                                    "orderid": "3075",
                                    "netamount": "33.63"
                                },
                                {
                                    "firstname": "PQJVZM",
                                    "lastname": "PCCNFVKLZE",
                                    "orderid": "5019",
                                    "netamount": "256.30"
                                }
                            ]
                        },
                        "text/html": [
                            "<table>",
                            "<tr><th>firstname</th><th>lastname</th><th>orderid</th><th>netamount</th></tr>",
                            "<tr><td>RKLQYY</td><td>HPUIUYBWZX</td><td>10677</td><td>5.08</td></tr>",
                            "<tr><td>GWPSHI</td><td>QWRLBUPCHY</td><td>2337</td><td>39.06</td></tr>",
                            "<tr><td>FCHDNP</td><td>FQZNEVVHNA</td><td>9077</td><td>323.30</td></tr>",
                            "<tr><td>HOMUAY</td><td>BCTJTZIEZQ</td><td>6239</td><td>341.44</td></tr>",
                            "<tr><td>UZCYBH</td><td>NKKNSRDQGC</td><td>1187</td><td>285.39</td></tr>",
                            "<tr><td>YADYNS</td><td>VBVFOAENRH</td><td>3710</td><td>350.87</td></tr>",
                            "<tr><td>ZGYPBI</td><td>NKKQMREHPQ</td><td>379</td><td>227.45</td></tr>",
                            "<tr><td>ZGYPBI</td><td>NKKQMREHPQ</td><td>9447</td><td>83.31</td></tr>",
                            "<tr><td>PFIWAF</td><td>MQGNVHRTNH</td><td>3075</td><td>33.63</td></tr>",
                            "<tr><td>PQJVZM</td><td>PCCNFVKLZE</td><td>5019</td><td>256.30</td></tr>",
                            "</table>"
                        ]
                    }
                }
            ],
            "execution_count": 6
        },
        {
            "cell_type": "code",
            "source": [
                "create function cust_orders()\n",
                "    returns table (firstname varchar, lastname varchar, orderid int, netamount numeric)\n",
                "    as $$\n",
                "SELECT\n",
                "    c.firstname,\n",
                "    c.lastname,\n",
                "    o.orderid,\n",
                "    o.netamount\n",
                "    from customers C\n",
                "    join orders O\n",
                "    on c.customerid = o.customerid limit 10\n",
                "$$ language sql;"
            ],
            "metadata": {
                "azdata_cell_guid": "9fa86251-8778-4a23-b96d-f91e07b55bbb",
                "language": "sql"
            },
            "outputs": [
                {
                    "output_type": "display_data",
                    "data": {
                        "text/html": "CREATE FUNCTION"
                    },
                    "metadata": {}
                },
                {
                    "output_type": "display_data",
                    "data": {
                        "text/html": "Total execution time: 00:00:00.001"
                    },
                    "metadata": {}
                }
            ],
            "execution_count": 7
        },
        {
            "cell_type": "code",
            "source": [
                "select * from cust_orders();"
            ],
            "metadata": {
                "language": "sql",
                "azdata_cell_guid": "246c0a57-7632-46cd-bd55-1902f5615654"
            },
            "outputs": [
                {
                    "output_type": "display_data",
                    "data": {
                        "text/html": "(10 row(s) affected)"
                    },
                    "metadata": {}
                },
                {
                    "output_type": "display_data",
                    "data": {
                        "text/html": "Total execution time: 00:00:00.001"
                    },
                    "metadata": {}
                },
                {
                    "output_type": "execute_result",
                    "metadata": {},
                    "execution_count": 8,
                    "data": {
                        "application/vnd.dataresource+json": {
                            "schema": {
                                "fields": [
                                    {
                                        "name": "firstname"
                                    },
                                    {
                                        "name": "lastname"
                                    },
                                    {
                                        "name": "orderid"
                                    },
                                    {
                                        "name": "netamount"
                                    }
                                ]
                            },
                            "data": [
                                {
                                    "firstname": "RKLQYY",
                                    "lastname": "HPUIUYBWZX",
                                    "orderid": "10677",
                                    "netamount": "5.08"
                                },
                                {
                                    "firstname": "GWPSHI",
                                    "lastname": "QWRLBUPCHY",
                                    "orderid": "2337",
                                    "netamount": "39.06"
                                },
                                {
                                    "firstname": "FCHDNP",
                                    "lastname": "FQZNEVVHNA",
                                    "orderid": "9077",
                                    "netamount": "323.30"
                                },
                                {
                                    "firstname": "HOMUAY",
                                    "lastname": "BCTJTZIEZQ",
                                    "orderid": "6239",
                                    "netamount": "341.44"
                                },
                                {
                                    "firstname": "UZCYBH",
                                    "lastname": "NKKNSRDQGC",
                                    "orderid": "1187",
                                    "netamount": "285.39"
                                },
                                {
                                    "firstname": "YADYNS",
                                    "lastname": "VBVFOAENRH",
                                    "orderid": "3710",
                                    "netamount": "350.87"
                                },
                                {
                                    "firstname": "ZGYPBI",
                                    "lastname": "NKKQMREHPQ",
                                    "orderid": "379",
                                    "netamount": "227.45"
                                },
                                {
                                    "firstname": "ZGYPBI",
                                    "lastname": "NKKQMREHPQ",
                                    "orderid": "9447",
                                    "netamount": "83.31"
                                },
                                {
                                    "firstname": "PFIWAF",
                                    "lastname": "MQGNVHRTNH",
                                    "orderid": "3075",
                                    "netamount": "33.63"
                                },
                                {
                                    "firstname": "PQJVZM",
                                    "lastname": "PCCNFVKLZE",
                                    "orderid": "5019",
                                    "netamount": "256.30"
                                }
                            ]
                        },
                        "text/html": [
                            "<table>",
                            "<tr><th>firstname</th><th>lastname</th><th>orderid</th><th>netamount</th></tr>",
                            "<tr><td>RKLQYY</td><td>HPUIUYBWZX</td><td>10677</td><td>5.08</td></tr>",
                            "<tr><td>GWPSHI</td><td>QWRLBUPCHY</td><td>2337</td><td>39.06</td></tr>",
                            "<tr><td>FCHDNP</td><td>FQZNEVVHNA</td><td>9077</td><td>323.30</td></tr>",
                            "<tr><td>HOMUAY</td><td>BCTJTZIEZQ</td><td>6239</td><td>341.44</td></tr>",
                            "<tr><td>UZCYBH</td><td>NKKNSRDQGC</td><td>1187</td><td>285.39</td></tr>",
                            "<tr><td>YADYNS</td><td>VBVFOAENRH</td><td>3710</td><td>350.87</td></tr>",
                            "<tr><td>ZGYPBI</td><td>NKKQMREHPQ</td><td>379</td><td>227.45</td></tr>",
                            "<tr><td>ZGYPBI</td><td>NKKQMREHPQ</td><td>9447</td><td>83.31</td></tr>",
                            "<tr><td>PFIWAF</td><td>MQGNVHRTNH</td><td>3075</td><td>33.63</td></tr>",
                            "<tr><td>PQJVZM</td><td>PCCNFVKLZE</td><td>5019</td><td>256.30</td></tr>",
                            "</table>"
                        ]
                    }
                }
            ],
            "execution_count": 8
        },
        {
            "cell_type": "code",
            "source": [
                "create or replace function cust_orders(customerid int)\n",
                "    returns table (firstname varchar, lastname varchar, orderid int, netamount numeric)\n",
                "    as $$\n",
                "SELECT\n",
                "    c.firstname,\n",
                "    c.lastname,\n",
                "    o.orderid,\n",
                "    o.netamount\n",
                "    from customers C\n",
                "    join orders O\n",
                "    on c.customerid = o.customerid \n",
                "    where c.customerid = cust_orders.customerid\n",
                "    limit 10\n",
                "$$ language sql;"
            ],
            "metadata": {
                "language": "sql",
                "azdata_cell_guid": "73abe212-65c3-493b-b27e-9f96d40640b5"
            },
            "outputs": [
                {
                    "output_type": "display_data",
                    "data": {
                        "text/html": "CREATE FUNCTION"
                    },
                    "metadata": {}
                },
                {
                    "output_type": "display_data",
                    "data": {
                        "text/html": "Total execution time: 00:00:00.001"
                    },
                    "metadata": {}
                }
            ],
            "execution_count": 11
        },
        {
            "cell_type": "code",
            "source": [
                "select * from cust_orders(42);"
            ],
            "metadata": {
                "language": "sql",
                "azdata_cell_guid": "09382657-c8e6-4370-b110-da8b52cfe28d"
            },
            "outputs": [
                {
                    "output_type": "display_data",
                    "data": {
                        "text/html": "(1 row(s) affected)"
                    },
                    "metadata": {}
                },
                {
                    "output_type": "display_data",
                    "data": {
                        "text/html": "Total execution time: 00:00:00.002"
                    },
                    "metadata": {}
                },
                {
                    "output_type": "execute_result",
                    "metadata": {},
                    "execution_count": 12,
                    "data": {
                        "application/vnd.dataresource+json": {
                            "schema": {
                                "fields": [
                                    {
                                        "name": "firstname"
                                    },
                                    {
                                        "name": "lastname"
                                    },
                                    {
                                        "name": "orderid"
                                    },
                                    {
                                        "name": "netamount"
                                    }
                                ]
                            },
                            "data": [
                                {
                                    "firstname": "IGAITZ",
                                    "lastname": "ADIDJMAYUZ",
                                    "orderid": "11465",
                                    "netamount": "202.29"
                                }
                            ]
                        },
                        "text/html": [
                            "<table>",
                            "<tr><th>firstname</th><th>lastname</th><th>orderid</th><th>netamount</th></tr>",
                            "<tr><td>IGAITZ</td><td>ADIDJMAYUZ</td><td>11465</td><td>202.29</td></tr>",
                            "</table>"
                        ]
                    }
                }
            ],
            "execution_count": 12
        },
        {
            "cell_type": "code",
            "source": [
                "drop view cust_orders;\n",
                "drop function if exists cust_orders();\n",
                "drop function if exists cust_orders(int);"
            ],
            "metadata": {
                "language": "sql",
                "azdata_cell_guid": "1519cac3-8670-49b7-a5e2-145a437ec320"
            },
            "outputs": [
                {
                    "output_type": "display_data",
                    "data": {
                        "text/html": "DROP VIEW"
                    },
                    "metadata": {}
                },
                {
                    "output_type": "display_data",
                    "data": {
                        "text/html": "Total execution time: 00:00:00.001"
                    },
                    "metadata": {}
                }
            ],
            "execution_count": 15
        }
    ]
}